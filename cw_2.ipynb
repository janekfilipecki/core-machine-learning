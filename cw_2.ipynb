{
 "cells": [
  {
   "cell_type": "markdown",
   "metadata": {},
   "source": [
    "# __WSI - ćwiczenie 2.__"
   ]
  },
  {
   "cell_type": "markdown",
   "metadata": {},
   "source": [
    "### __Algorytmy ewolucyjne i genetyczne__\n"
   ]
  },
  {
   "cell_type": "markdown",
   "metadata": {},
   "source": [
    "#### __Treść ćwiczenia__"
   ]
  },
  {
   "cell_type": "markdown",
   "metadata": {},
   "source": [
    "- Celem ćwiczenia jest implementacja algorytmu ewolucyjnego z selekcją ruletkową, krzyzowaniem\n",
    "jednopunktowym, mutacją gaussowską oraz sukcesją generacyjną. Następnie należy wykorzystać\n",
    "implementacje do znalezienia rozwiazania dajacego minimalny koszt dla problemu opisanego w sekcji\n",
    "- Nalezy znalezc zestaw hiperparametrów, który daje stosunkowo dobry wynik, a nastepnie\n",
    "zbadac wpływ wybranego hiperparametru."
   ]
  },
  {
   "cell_type": "markdown",
   "metadata": {},
   "source": [
    "#### __Opis problemu__\n"
   ]
  },
  {
   "cell_type": "markdown",
   "metadata": {},
   "source": [
    "Znalezc optymalną lokalizację dla fabryki, jeżeli korzysta ona z 4 zasobów. Zakładamy przy tym,\n",
    "że:\n",
    "- lokalizacja fabryki określona jest przez jej współrzedne $(x_1, x_2) \\in R^2$,\n",
    "- dzienne zapotrzebowanie fabryki to:\n",
    "  1. $20$ jednostek zasobu $z_1$ transportowanego ze współrzednych $(1, 1)$,\n",
    "  2. $10$ jednostek zasobu $z_2$ transportowanego ze współrzednych $(-0.5, 1)$,\n",
    "  3. $5$ jednostek zasobu $z_3$ transportowanego ze współrzednych $(-1, -0.5)$,\n",
    "  4. $10$ jednostek zasobu $z_4$ transportowanego ze współrzednych $(1, -1)$,\n",
    "- koszt transportu jednostki każdego z zasobów wyliczany to $1−e^{−d_M}$, gdzie $d_M$ - to odległość\n",
    "Manhattan od lokalizacji fabryki,\n",
    "- celem optymalizacji jest znalezienie lokalizacji fabryki, która minimalizuje sumaryczny dzienny\n",
    "koszt dostarczania zasobów do fabryki."
   ]
  },
  {
   "cell_type": "code",
   "execution_count": 45,
   "metadata": {},
   "outputs": [],
   "source": [
    "import numpy as np\n",
    "from plotly import graph_objs as go\n",
    "import pandas as pd\n",
    "import math\n",
    "\n",
    "RNG = np.random.default_rng()"
   ]
  },
  {
   "cell_type": "markdown",
   "metadata": {},
   "source": [
    "#### __Definicja funkcji straty__"
   ]
  },
  {
   "cell_type": "code",
   "execution_count": 46,
   "metadata": {},
   "outputs": [],
   "source": [
    "def manhattan(p1, p2):\n",
    "    return sum([abs(p1[i] - p2[i]) for i in range(len(p1))])\n",
    "\n",
    "def trans_cost(p1, p2):\n",
    "    return 1 - math.exp(-manhattan(p1, p2))\n",
    "\n",
    "def loss(pos):\n",
    "    return (20 * trans_cost([1, 1], pos) +\n",
    "            10 * trans_cost([-0.5, 1], pos) +\n",
    "            5 * trans_cost([-1, -0.5], pos) +\n",
    "            10 * trans_cost([1, -1], pos))"
   ]
  },
  {
   "cell_type": "markdown",
   "metadata": {},
   "source": [
    "#### __Algorytm ewolucyjny__"
   ]
  },
  {
   "cell_type": "markdown",
   "metadata": {},
   "source": [
    "__Selekcja ruletkowa:__ \n",
    "- Funkcja prawdopodobieństwa wyboru osobnika $i$: $p_i = \\frac{g_i} {\\sum\\limits_{j=1}^{N}g_j}$\n",
    "- Dla problemu minimalizacji zamieniam funkcję straty w funkcję zysku $g(x) = f_{max} - f(x)$\n",
    "- Najgorszy osobnik ma zerowe szanse przetrwania"
   ]
  },
  {
   "cell_type": "code",
   "execution_count": 47,
   "metadata": {},
   "outputs": [],
   "source": [
    "def select_roulette(population):\n",
    "    min_grades = [loss(x) for x in population]\n",
    "    max_grade = max(min_grades)\n",
    "    min_to_max = [max_grade - f for f in min_grades]\n",
    "    sum_grades = sum(min_to_max)\n",
    "    max_grades = [g/sum_grades for g in min_to_max]\n",
    "    return RNG.choice(population, len(population), p=max_grades)"
   ]
  },
  {
   "cell_type": "markdown",
   "metadata": {},
   "source": [
    "__Krzyowanie jednopunktowe:__"
   ]
  },
  {
   "cell_type": "code",
   "execution_count": 48,
   "metadata": {},
   "outputs": [],
   "source": [
    "def one_point_cross():\n",
    "    pass"
   ]
  },
  {
   "cell_type": "markdown",
   "metadata": {},
   "source": [
    "__Mutacja Gaussowska:__"
   ]
  },
  {
   "cell_type": "code",
   "execution_count": 49,
   "metadata": {},
   "outputs": [],
   "source": [
    "def mutate_gauss():\n",
    "    pass"
   ]
  },
  {
   "cell_type": "markdown",
   "metadata": {},
   "source": [
    "__Sukcesja generacyjna:__\n",
    "- Zaimplementowana wyłącznie w celu ewentualnej zamiany na inną metodę sukcesji"
   ]
  },
  {
   "cell_type": "code",
   "execution_count": 50,
   "metadata": {},
   "outputs": [],
   "source": [
    "def replace():\n",
    "    pass"
   ]
  },
  {
   "cell_type": "markdown",
   "metadata": {},
   "source": [
    "__Algorytm ewolucyjny:__"
   ]
  },
  {
   "cell_type": "code",
   "execution_count": 51,
   "metadata": {},
   "outputs": [],
   "source": [
    "def evo(start_pop, num_iters, pop_size):\n",
    "    # selection\n",
    "    # crossover\n",
    "    # mutation\n",
    "    # replacement\n",
    "    pass"
   ]
  }
 ],
 "metadata": {
  "kernelspec": {
   "display_name": "Python 3.10.7 64-bit",
   "language": "python",
   "name": "python3"
  },
  "language_info": {
   "codemirror_mode": {
    "name": "ipython",
    "version": 3
   },
   "file_extension": ".py",
   "mimetype": "text/x-python",
   "name": "python",
   "nbconvert_exporter": "python",
   "pygments_lexer": "ipython3",
   "version": "3.10.7"
  },
  "orig_nbformat": 4,
  "vscode": {
   "interpreter": {
    "hash": "fbf389827ae33fec18fdc4e599d3990b18d4bc31319807cf50234ebf69755d81"
   }
  }
 },
 "nbformat": 4,
 "nbformat_minor": 2
}
