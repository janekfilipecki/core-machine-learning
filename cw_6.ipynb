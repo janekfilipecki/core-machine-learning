{
 "cells": [
  {
   "attachments": {},
   "cell_type": "markdown",
   "metadata": {},
   "source": [
    "# __WSI - ćwiczenie 6.__"
   ]
  },
  {
   "attachments": {},
   "cell_type": "markdown",
   "metadata": {},
   "source": [
    "### __Uczenie się ze wzmocnieniem__"
   ]
  },
  {
   "attachments": {},
   "cell_type": "markdown",
   "metadata": {},
   "source": [
    "#### __Treść ćwiczenia__\n",
    "\n",
    "- Celem ćwiczenia jest implementacja algorytmu Q-learning. \n",
    "- Następnie należystworzyć agenta rozwiązującego problem Taxi. \n",
    "- Problem dostępny jest w pakieciegym(gym.make(’Taxi-v3’))"
   ]
  },
  {
   "cell_type": "markdown",
   "metadata": {},
   "source": []
  },
  {
   "cell_type": "code",
   "execution_count": 123,
   "metadata": {},
   "outputs": [],
   "source": [
    "import numpy as np\n",
    "import pandas as pd\n",
    "import gymnasium as gym\n",
    "from IPython.display import clear_output\n",
    "from time import sleep \n",
    "RNG = np.random.default_rng()"
   ]
  },
  {
   "cell_type": "code",
   "execution_count": 124,
   "metadata": {},
   "outputs": [],
   "source": [
    "env = gym.make('Taxi-v3', render_mode='ansi').env"
   ]
  },
  {
   "cell_type": "code",
   "execution_count": 125,
   "metadata": {},
   "outputs": [],
   "source": [
    "class Agent():\n",
    "    def __init__(self, state_space_size, \n",
    "                       action_space_size, \n",
    "                       learning_rate,\n",
    "                       discount_factor,\n",
    "                       exploration_coef) -> None:\n",
    "        # self._state_space_size = state_space_size\n",
    "        # self._action_space_size = action_space_size\n",
    "        self._learning_rate = learning_rate\n",
    "        self._discount_factor = discount_factor\n",
    "        self._exploration_coef = exploration_coef\n",
    "        self._q_table = np.zeros((state_space_size, action_space_size))\n",
    "\n",
    "    def greedy_action(self, state, action_mask):\n",
    "        return np.argmax(self._q_table[state, np.where(action_mask)[0]])\n",
    "\n",
    "    def random_action(self, state, action_mask):\n",
    "        return RNG.choice(np.array(range(self._q_table.shape[1]))[np.where(action_mask)[0]])\n",
    "\n",
    "    def action(self, state, action_mask):\n",
    "        if RNG.uniform() > self._exploration_coef:\n",
    "            return self.greedy_action(state, action_mask)\n",
    "        return self.random_action(state, action_mask)\n",
    "\n",
    "    def update(self, prev_state, curr_state, prev_action, reward, curr_action_mask):\n",
    "        prev_q = self._q_table[prev_state, prev_action]\n",
    "        curr_max_q = np.max(self._q_table[curr_state, np.where(curr_action_mask)[0]])\n",
    "        delta = reward + self._discount_factor * curr_max_q - prev_q\n",
    "        self._q_table[prev_state, prev_action] = self._q_table[prev_state, prev_action] + self._learning_rate * delta"
   ]
  },
  {
   "cell_type": "code",
   "execution_count": 127,
   "metadata": {},
   "outputs": [
    {
     "name": "stdout",
     "output_type": "stream",
     "text": [
      "+---------+\n",
      "|\u001b[35mR\u001b[0m: | : :G|\n",
      "| : | : : |\n",
      "| : : : : |\n",
      "| | : | : |\n",
      "|\u001b[34;1m\u001b[43mY\u001b[0m\u001b[0m| : |B: |\n",
      "+---------+\n",
      "  (South)\n",
      "\n"
     ]
    },
    {
     "ename": "KeyboardInterrupt",
     "evalue": "",
     "output_type": "error",
     "traceback": [
      "\u001b[1;31m---------------------------------------------------------------------------\u001b[0m",
      "\u001b[1;31mKeyboardInterrupt\u001b[0m                         Traceback (most recent call last)",
      "Cell \u001b[1;32mIn[127], line 17\u001b[0m\n\u001b[0;32m     15\u001b[0m         clear_output(wait\u001b[39m=\u001b[39m\u001b[39mTrue\u001b[39;00m)\n\u001b[0;32m     16\u001b[0m         \u001b[39mprint\u001b[39m(env\u001b[39m.\u001b[39mrender())\n\u001b[1;32m---> 17\u001b[0m         sleep(\u001b[39m0.2\u001b[39;49m)\n\u001b[0;32m     19\u001b[0m env\u001b[39m.\u001b[39mclose()\n",
      "\u001b[1;31mKeyboardInterrupt\u001b[0m: "
     ]
    }
   ],
   "source": [
    "env.observation_space.n\n",
    "agent = Agent(env.observation_space.n, env.action_space.n, 1, 0.9, 0.5)\n",
    "steps =  0\n",
    "for episode in range(1):\n",
    "    steps += 1\n",
    "    curr_state, info = env.reset()\n",
    "    action_mask = info['action_mask']\n",
    "    terminated, truncated = False, False\n",
    "    while not terminated or truncated:\n",
    "        action = agent.action(curr_state, action_mask)\n",
    "        prev_state = curr_state\n",
    "        curr_state, reward, terminated, truncated, info = env.step(action)\n",
    "        action_mask = info['action_mask']\n",
    "        agent.update(prev_state, curr_state, action, reward, action_mask)\n",
    "\n",
    "env.close()"
   ]
  },
  {
   "cell_type": "code",
   "execution_count": null,
   "metadata": {},
   "outputs": [],
   "source": []
  },
  {
   "cell_type": "code",
   "execution_count": null,
   "metadata": {},
   "outputs": [],
   "source": [
    "env.close()"
   ]
  }
 ],
 "metadata": {
  "kernelspec": {
   "display_name": "Python 3",
   "language": "python",
   "name": "python3"
  },
  "language_info": {
   "codemirror_mode": {
    "name": "ipython",
    "version": 3
   },
   "file_extension": ".py",
   "mimetype": "text/x-python",
   "name": "python",
   "nbconvert_exporter": "python",
   "pygments_lexer": "ipython3",
   "version": "3.11.1"
  },
  "orig_nbformat": 4,
  "vscode": {
   "interpreter": {
    "hash": "1793df1d2301171ba0b40f65791b7f70118724e366e1aedbfbefba442cbae2c0"
   }
  }
 },
 "nbformat": 4,
 "nbformat_minor": 2
}
