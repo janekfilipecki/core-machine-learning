{
 "cells": [
  {
   "cell_type": "markdown",
   "metadata": {},
   "source": [
    "# WSI - ćwiczenie 1.\n",
    "### Zagadnienie przeszukiwania i podstawowe podejścia do niego\n"
   ]
  },
  {
   "cell_type": "markdown",
   "metadata": {},
   "source": []
  },
  {
   "cell_type": "code",
   "execution_count": 10,
   "metadata": {},
   "outputs": [],
   "source": [
    "import numpy as np\n",
    "import plotly.graph_objects as go"
   ]
  },
  {
   "cell_type": "markdown",
   "metadata": {},
   "source": [
    "1. Narysować funkcje f(x) i g(x).\n",
    "2. Zaimplementować algorytm najszybszego spadku oraz zastosować go do znalezienia minimum\n",
    "funkcji f i g.\n",
    "3. Zbadać wpływ rozmiaru kroku dla różnych (losowych) punktów początkowych."
   ]
  },
  {
   "cell_type": "code",
   "execution_count": 11,
   "metadata": {},
   "outputs": [],
   "source": [
    "def f(x):\n",
    "    return 10*(x**4) + 3*(x**3) - 30*(x**2) + 10*x \n",
    "    \n",
    "def g(vect):\n",
    "    assert len(vect) == 2\n",
    "    return 10*(vect[1]**4) + 10*(vect[0]**4) + 3*(vect[0]**3) - 30*(vect[0]**2) + 10*vect[0]"
   ]
  },
  {
   "cell_type": "markdown",
   "metadata": {},
   "source": [
    "### obliczanie gradientu i hesjanu"
   ]
  },
  {
   "cell_type": "code",
   "execution_count": null,
   "metadata": {},
   "outputs": [],
   "source": []
  },
  {
   "cell_type": "markdown",
   "metadata": {},
   "source": [
    "### algorytm gradientowy"
   ]
  },
  {
   "cell_type": "code",
   "execution_count": 18,
   "metadata": {},
   "outputs": [
    {
     "ename": "SyntaxError",
     "evalue": "invalid syntax (1626529091.py, line 4)",
     "output_type": "error",
     "traceback": [
      "\u001b[1;36m  Cell \u001b[1;32mIn [18], line 4\u001b[1;36m\u001b[0m\n\u001b[1;33m    def gradient_descent(func, start_point  \"2 dimensional\", step_coef, end_treshold):\u001b[0m\n\u001b[1;37m                                            ^\u001b[0m\n\u001b[1;31mSyntaxError\u001b[0m\u001b[1;31m:\u001b[0m invalid syntax\n"
     ]
    }
   ],
   "source": [
    "from tracemalloc import start\n",
    "\n",
    "\n",
    "def gradient_descent(func, start_point, step_coef, end_treshold): # point is 2 dimensional\n",
    "    steps = [start_point]\n",
    "    # check if algorithm isnt oscilating\n",
    "    # check if close enough to minimum\n",
    "    point = start_point\n",
    "    end = False\n",
    "    i = 0\n",
    "    while not end:\n",
    "        np.subtract(point, np.gradient(point + [func(point)]))         \n",
    "        steps.append(point)\n",
    "        i+=1\n",
    "        if i >= 100: \n",
    "            end = True\n",
    "\n",
    "    return np.array(steps)"
   ]
  },
  {
   "cell_type": "markdown",
   "metadata": {},
   "source": [
    "### generowanie wykresów"
   ]
  },
  {
   "cell_type": "code",
   "execution_count": 19,
   "metadata": {
    "tags": []
   },
   "outputs": [
    {
     "ename": "ValueError",
     "evalue": "operands could not be broadcast together with shapes (2,) (3,) ",
     "output_type": "error",
     "traceback": [
      "\u001b[1;31m---------------------------------------------------------------------------\u001b[0m",
      "\u001b[1;31mValueError\u001b[0m                                Traceback (most recent call last)",
      "Cell \u001b[1;32mIn [19], line 80\u001b[0m\n\u001b[0;32m     76\u001b[0m         fig\u001b[39m.\u001b[39mupdate_layout(sliders\u001b[39m=\u001b[39msliders, title\u001b[39m=\u001b[39m\u001b[39m'\u001b[39m\u001b[39mPlot of g(x, y)\u001b[39m\u001b[39m'\u001b[39m, autosize\u001b[39m=\u001b[39m\u001b[39mFalse\u001b[39;00m, height\u001b[39m=\u001b[39m\u001b[39m600\u001b[39m, width\u001b[39m=\u001b[39m\u001b[39m600\u001b[39m)\n\u001b[0;32m     77\u001b[0m         fig\u001b[39m.\u001b[39mshow()\n\u001b[1;32m---> 80\u001b[0m plotter \u001b[39m=\u001b[39m PlotGenerator(gradient_descent(g, [\u001b[39m2\u001b[39;49m, \u001b[39m2\u001b[39;49m], \u001b[39m1\u001b[39;49m, \u001b[39m0.1\u001b[39;49m))\n\u001b[0;32m     81\u001b[0m plotter\u001b[39m.\u001b[39mgenerate()\n",
      "Cell \u001b[1;32mIn [16], line 12\u001b[0m, in \u001b[0;36mgradient_descent\u001b[1;34m(func, start_point, step_coef, end_treshold)\u001b[0m\n\u001b[0;32m     10\u001b[0m i \u001b[39m=\u001b[39m \u001b[39m0\u001b[39m\n\u001b[0;32m     11\u001b[0m \u001b[39mwhile\u001b[39;00m \u001b[39mnot\u001b[39;00m end:\n\u001b[1;32m---> 12\u001b[0m     np\u001b[39m.\u001b[39;49msubtract(point, step_coef \u001b[39m*\u001b[39;49m np\u001b[39m.\u001b[39;49mgradient(point \u001b[39m+\u001b[39;49m [func(point)]))         \n\u001b[0;32m     13\u001b[0m     steps\u001b[39m.\u001b[39mappend(point)\n\u001b[0;32m     14\u001b[0m     i\u001b[39m+\u001b[39m\u001b[39m=\u001b[39m\u001b[39m1\u001b[39m\n",
      "\u001b[1;31mValueError\u001b[0m: operands could not be broadcast together with shapes (2,) (3,) "
     ]
    }
   ],
   "source": [
    "# This piece of code creates a 3d plot with easily controllable scale \n",
    "# (since the builtin feature is chaotic and hard to control for me), \n",
    "# and animation of algorythm's steps (also controlled by a slider)\n",
    "\n",
    "class PlotGenerator:\n",
    "    def __init__(self, \n",
    "                 alg_steps, \n",
    "                 min_scale_range = 1,\n",
    "                 max_scale_range = 6,\n",
    "                 scale_slider_step = 1, \n",
    "                 mesh_density = 100,\n",
    "                 func = g)  -> None:\n",
    "        self.min_scale_range = min_scale_range\n",
    "        self.max_scale_range = max_scale_range\n",
    "        self.scale_slider_step = scale_slider_step\n",
    "        self.mesh_density = mesh_density\n",
    "        self.func = func\n",
    "        self.alg_steps = alg_steps\n",
    "\n",
    "        self.x_steps = self.alg_steps[:,0]\n",
    "        self.y_steps = self.alg_steps[:,1]\n",
    "        self.z_steps = [func([x, y]) for x, y in zip(self.x_steps, self.y_steps)]\n",
    "\n",
    "    def generate(self):\n",
    "        fig = go.Figure()\n",
    "        # add trace for each scale step\n",
    "        for step in np.arange(self.min_scale_range, self.max_scale_range, self.scale_slider_step):\n",
    "            # create plot's main surface (plot of g(x, y))\n",
    "            x_space, y_space = 2*[np.linspace(-step, step, self.mesh_density)]\n",
    "            f_surface_params = dict(z=[[self.func([x, y]) for y in y_space] for x in x_space], \n",
    "                                    x=x_space, \n",
    "                                    y=y_space, \n",
    "                                    visible=False,\n",
    "                                    colorscale ='ice')\n",
    "            # create step traces\n",
    "            step_traces_params = dict(z=self.z_steps, \n",
    "                                    x=self.x_steps, \n",
    "                                    y=self.y_steps, \n",
    "                                    visible=False,\n",
    "                                    name='alg steps',\n",
    "                                    marker=dict(size=5,\n",
    "                                                color=self.z_steps,\n",
    "                                                colorscale='burg'))\n",
    "            # add function surface plot\n",
    "            fig.add_trace(go.Surface(f_surface_params))\n",
    "            # add plot of algorithm's steps over the function surface\n",
    "            fig.add_trace(go.Scatter3d(step_traces_params))\n",
    "\n",
    "        # make first trace visible\n",
    "        fig.data[0].visible, fig.data[1].visible = True, True\n",
    "\n",
    "\n",
    "        # create scale slider\n",
    "        scale_slider_steps = []\n",
    "        for i in range(0, (len(fig.data)//2)-1):\n",
    "            step = dict(method=\"update\",\n",
    "                        args=[{\"visible\": [False] * len(fig.data)}],\n",
    "                        label='')\n",
    "            step[\"args\"][0][\"visible\"][2*i] = True\n",
    "            step[\"args\"][0][\"visible\"][2*i+1] = True\n",
    "            scale_slider_steps.append(step)\n",
    "\n",
    "        # create algorithm step slider\n",
    "        step_slider_steps = []\n",
    "        for i in range(len(self.z_steps)):\n",
    "            step = dict(method=\"update\",\n",
    "                        args=[{\"visible\": [False] * len(fig.data)}],\n",
    "                        label='')\n",
    "            step[\"args\"][0][\"visible\"][i] = True\n",
    "            step_slider_steps.append(step)\n",
    "\n",
    "        # add sliders\n",
    "        sliders = [dict(steps=scale_slider_steps, yanchor=\"bottom\", currentvalue=dict(visible=False))]\n",
    "        # dict(steps=step_slider_steps, yanchor=\"middle\", currentvalue=dict(visible=False)) \n",
    "\n",
    "        fig.update_layout(sliders=sliders, title='Plot of g(x, y)', autosize=False, height=600, width=600)\n",
    "        fig.show()\n",
    "\n",
    "\n",
    "plotter = PlotGenerator(gradient_descent(g, [2, 2], 1, 0.1))\n",
    "plotter.generate()"
   ]
  }
 ],
 "metadata": {
  "kernelspec": {
   "display_name": "Python 3.10.7 64-bit",
   "language": "python",
   "name": "python3"
  },
  "language_info": {
   "codemirror_mode": {
    "name": "ipython",
    "version": 3
   },
   "file_extension": ".py",
   "mimetype": "text/x-python",
   "name": "python",
   "nbconvert_exporter": "python",
   "pygments_lexer": "ipython3",
   "version": "3.10.7"
  },
  "orig_nbformat": 4,
  "vscode": {
   "interpreter": {
    "hash": "fbf389827ae33fec18fdc4e599d3990b18d4bc31319807cf50234ebf69755d81"
   }
  }
 },
 "nbformat": 4,
 "nbformat_minor": 2
}
