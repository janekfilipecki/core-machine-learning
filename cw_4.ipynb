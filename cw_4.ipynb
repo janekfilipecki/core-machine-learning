{
 "cells": [
  {
   "cell_type": "markdown",
   "metadata": {},
   "source": [
    "# __WSI - ćwiczenie 4.__"
   ]
  },
  {
   "cell_type": "markdown",
   "metadata": {},
   "source": [
    "### __Regresja i klasyfikacja__"
   ]
  },
  {
   "cell_type": "markdown",
   "metadata": {},
   "source": [
    "#### __Treść ćwiczenia__"
   ]
  },
  {
   "cell_type": "markdown",
   "metadata": {},
   "source": [
    "- Celem ćwiczenia jest implementacja drzew decyzyjnych tworzonych algorytmem _ID3_ z ograniczeniem maksymalnej głębokości drzewa.\n",
    "- Następnie należy wykorzystać stworzony algorytm do stworzenia i zbadaniajakości klasyfikatorów dla zbioru danych breast cancer (https://archive.ics.uci.edu/ml/datasets/breast+cancer). Klasą jest poleirradiat.\n",
    "- Należy pamiętać o podziale danych na zbiory trenujący, walidacyjny i testo-wy. Można użyć w tym celu gotowych funkcji."
   ]
  },
  {
   "cell_type": "code",
   "execution_count": 107,
   "metadata": {},
   "outputs": [
    {
     "name": "stderr",
     "output_type": "stream",
     "text": [
      "UsageError: Line magic function `%autoreload` not found.\n"
     ]
    }
   ],
   "source": [
    "import pandas as pd\n",
    "import numpy as np\n",
    "from sklearn.metrics import accuracy_score, confusion_matrix, roc_curve, roc_auc_score, precision_recall_curve, auc, RocCurveDisplay, PrecisionRecallDisplay, recall_score, precision_score, f1_score, classification_report\n",
    "from sklearn.model_selection import train_test_split\n",
    "from seaborn import heatmap\n",
    "import plotly.express as px\n",
    "from math import log, inf\n",
    "\n",
    "\n",
    "RNG = np.random.default_rng()\n",
    "\n",
    "%autoreload "
   ]
  },
  {
   "cell_type": "markdown",
   "metadata": {},
   "source": [
    "#### __Ładowanie danych__"
   ]
  },
  {
   "cell_type": "code",
   "execution_count": 108,
   "metadata": {},
   "outputs": [],
   "source": [
    "\n",
    "columns = ['class', 'age', 'menopause', 'tumor-size', 'inv-nodes', \n",
    "           'node-caps', 'deg-malig', 'breast', 'breast-quad', 'irradiat']\n",
    "data = pd.read_csv('./data/breast-cancer.data', header=None, names=columns)"
   ]
  },
  {
   "cell_type": "code",
   "execution_count": 109,
   "metadata": {},
   "outputs": [
    {
     "data": {
      "text/html": [
       "<div>\n",
       "<style scoped>\n",
       "    .dataframe tbody tr th:only-of-type {\n",
       "        vertical-align: middle;\n",
       "    }\n",
       "\n",
       "    .dataframe tbody tr th {\n",
       "        vertical-align: top;\n",
       "    }\n",
       "\n",
       "    .dataframe thead th {\n",
       "        text-align: right;\n",
       "    }\n",
       "</style>\n",
       "<table border=\"1\" class=\"dataframe\">\n",
       "  <thead>\n",
       "    <tr style=\"text-align: right;\">\n",
       "      <th></th>\n",
       "      <th>class</th>\n",
       "      <th>age</th>\n",
       "      <th>menopause</th>\n",
       "      <th>tumor-size</th>\n",
       "      <th>inv-nodes</th>\n",
       "      <th>node-caps</th>\n",
       "      <th>deg-malig</th>\n",
       "      <th>breast</th>\n",
       "      <th>breast-quad</th>\n",
       "      <th>irradiat</th>\n",
       "    </tr>\n",
       "  </thead>\n",
       "  <tbody>\n",
       "    <tr>\n",
       "      <th>0</th>\n",
       "      <td>no-recurrence-events</td>\n",
       "      <td>30-39</td>\n",
       "      <td>premeno</td>\n",
       "      <td>30-34</td>\n",
       "      <td>0-2</td>\n",
       "      <td>no</td>\n",
       "      <td>3</td>\n",
       "      <td>left</td>\n",
       "      <td>left_low</td>\n",
       "      <td>no</td>\n",
       "    </tr>\n",
       "    <tr>\n",
       "      <th>1</th>\n",
       "      <td>no-recurrence-events</td>\n",
       "      <td>40-49</td>\n",
       "      <td>premeno</td>\n",
       "      <td>20-24</td>\n",
       "      <td>0-2</td>\n",
       "      <td>no</td>\n",
       "      <td>2</td>\n",
       "      <td>right</td>\n",
       "      <td>right_up</td>\n",
       "      <td>no</td>\n",
       "    </tr>\n",
       "    <tr>\n",
       "      <th>2</th>\n",
       "      <td>no-recurrence-events</td>\n",
       "      <td>40-49</td>\n",
       "      <td>premeno</td>\n",
       "      <td>20-24</td>\n",
       "      <td>0-2</td>\n",
       "      <td>no</td>\n",
       "      <td>2</td>\n",
       "      <td>left</td>\n",
       "      <td>left_low</td>\n",
       "      <td>no</td>\n",
       "    </tr>\n",
       "    <tr>\n",
       "      <th>3</th>\n",
       "      <td>no-recurrence-events</td>\n",
       "      <td>60-69</td>\n",
       "      <td>ge40</td>\n",
       "      <td>15-19</td>\n",
       "      <td>0-2</td>\n",
       "      <td>no</td>\n",
       "      <td>2</td>\n",
       "      <td>right</td>\n",
       "      <td>left_up</td>\n",
       "      <td>no</td>\n",
       "    </tr>\n",
       "    <tr>\n",
       "      <th>4</th>\n",
       "      <td>no-recurrence-events</td>\n",
       "      <td>40-49</td>\n",
       "      <td>premeno</td>\n",
       "      <td>0-4</td>\n",
       "      <td>0-2</td>\n",
       "      <td>no</td>\n",
       "      <td>2</td>\n",
       "      <td>right</td>\n",
       "      <td>right_low</td>\n",
       "      <td>no</td>\n",
       "    </tr>\n",
       "  </tbody>\n",
       "</table>\n",
       "</div>"
      ],
      "text/plain": [
       "                  class    age menopause tumor-size inv-nodes node-caps  \\\n",
       "0  no-recurrence-events  30-39   premeno      30-34       0-2        no   \n",
       "1  no-recurrence-events  40-49   premeno      20-24       0-2        no   \n",
       "2  no-recurrence-events  40-49   premeno      20-24       0-2        no   \n",
       "3  no-recurrence-events  60-69      ge40      15-19       0-2        no   \n",
       "4  no-recurrence-events  40-49   premeno        0-4       0-2        no   \n",
       "\n",
       "   deg-malig breast breast-quad irradiat  \n",
       "0          3   left    left_low       no  \n",
       "1          2  right    right_up       no  \n",
       "2          2   left    left_low       no  \n",
       "3          2  right     left_up       no  \n",
       "4          2  right   right_low       no  "
      ]
     },
     "execution_count": 109,
     "metadata": {},
     "output_type": "execute_result"
    }
   ],
   "source": [
    "data.head()"
   ]
  },
  {
   "cell_type": "code",
   "execution_count": 110,
   "metadata": {},
   "outputs": [
    {
     "data": {
      "text/plain": [
       "class                 age    menopause  tumor-size  inv-nodes  node-caps  deg-malig  breast  breast-quad  irradiat\n",
       "no-recurrence-events  60-69  ge40       15-19       0-2        no         2          right   left_up      no          2\n",
       "                      40-49  premeno    10-14       0-2        no         1          right   left_up      no          2\n",
       "                      60-69  ge40       20-24       0-2        no         1          left    left_low     no          2\n",
       "                      50-59  premeno    25-29       0-2        no         2          left    left_low     no          2\n",
       "                      40-49  premeno    20-24       0-2        no         2          right   left_up      no          2\n",
       "                                                                                                                     ..\n",
       "                      50-59  ge40       20-24       3-5        yes        2          right   left_up      no          1\n",
       "                                        25-29       0-2        no         1          left    left_low     no          1\n",
       "                                                                                             right_low    no          1\n",
       "                                                                          2          left    left_low     no          1\n",
       "recurrence-events     70-79  ge40       15-19       9-11       ?          1          left    left_low     yes         1\n",
       "Length: 272, dtype: int64"
      ]
     },
     "execution_count": 110,
     "metadata": {},
     "output_type": "execute_result"
    }
   ],
   "source": [
    "data.value_counts()"
   ]
  },
  {
   "cell_type": "code",
   "execution_count": 111,
   "metadata": {},
   "outputs": [
    {
     "data": {
      "text/plain": [
       "no     218\n",
       "yes     68\n",
       "Name: irradiat, dtype: int64"
      ]
     },
     "execution_count": 111,
     "metadata": {},
     "output_type": "execute_result"
    }
   ],
   "source": [
    "data['irradiat'].value_counts()"
   ]
  },
  {
   "cell_type": "code",
   "execution_count": 112,
   "metadata": {},
   "outputs": [
    {
     "data": {
      "text/plain": [
       "no     222\n",
       "yes     56\n",
       "?        8\n",
       "Name: node-caps, dtype: int64"
      ]
     },
     "execution_count": 112,
     "metadata": {},
     "output_type": "execute_result"
    }
   ],
   "source": [
    "data['node-caps'].value_counts()"
   ]
  },
  {
   "cell_type": "markdown",
   "metadata": {},
   "source": [
    "#### __Usuwanie nieznanych wartości__"
   ]
  },
  {
   "cell_type": "code",
   "execution_count": 113,
   "metadata": {},
   "outputs": [],
   "source": [
    "data.drop(data.loc[data['node-caps'] == '?'].index, inplace=True)"
   ]
  },
  {
   "cell_type": "markdown",
   "metadata": {},
   "source": [
    "#### __Podział na zbiór trenujący i testowy__"
   ]
  },
  {
   "attachments": {},
   "cell_type": "markdown",
   "metadata": {},
   "source": [
    "Świadomie wybieram podział na dwa podzbiory: train i test, ponieważ nie będę stroił hiperparametrów. Spodziewam się tak płytkich drzew, że badać je będę zapewne na maksymalnej możliwej głębokości. W dodatku dataset jest bardzo mały i niezbilansowany. Podział na jeden dodatkowy podzbiór zmniejszyłby możliwości szkoleniowe i testowe dwóch pozostałych."
   ]
  },
  {
   "cell_type": "code",
   "execution_count": 114,
   "metadata": {},
   "outputs": [],
   "source": [
    "RANDOM_STATE=34\n",
    "PRED_LABEL = 'irradiat'\n",
    "x, y = data.drop(PRED_LABEL, axis=1), data[PRED_LABEL]\n",
    "x_train, x_test, y_train, y_test = train_test_split(x, y, test_size=0.2, random_state=RANDOM_STATE)\n",
    "train = pd.concat([x_train, y_train], axis=1)\n",
    "test = pd.concat([x_test, y_test], axis=1)"
   ]
  },
  {
   "cell_type": "markdown",
   "metadata": {},
   "source": [
    "#### __Prosty model testowy__"
   ]
  },
  {
   "cell_type": "code",
   "execution_count": 115,
   "metadata": {},
   "outputs": [],
   "source": [
    "class PrimitiveModel():\n",
    "    def __init__(self) -> None:\n",
    "        pass\n",
    "\n",
    "    def fit(self, x, y):\n",
    "        pass\n",
    "\n",
    "    def predict(self, x):\n",
    "        return ['no' for _ in range(len(x))]"
   ]
  },
  {
   "cell_type": "code",
   "execution_count": 116,
   "metadata": {},
   "outputs": [
    {
     "name": "stdout",
     "output_type": "stream",
     "text": [
      "0.8035714285714286\n"
     ]
    }
   ],
   "source": [
    "model = PrimitiveModel()\n",
    "model.fit(x_train, y_train)\n",
    "y_pred = model.predict(x_test)\n",
    "acc = accuracy_score(y_test, y_pred)\n",
    "print(acc)"
   ]
  },
  {
   "cell_type": "markdown",
   "metadata": {},
   "source": [
    "#### __Implementacja klasyfikatora _ID3___"
   ]
  },
  {
   "cell_type": "markdown",
   "metadata": {},
   "source": [
    "Istnieje kilka wariacji implementacji modułu obsługi podziału węzłów na gałęzie. Pierwszy z nich zakłada podanie zbioru wartości atrybutów wejściowych z góry, wtedy nawet jeśli w zbiorze treningowym nie ma krotek zawierających wszystkie permutacje wartości atrybutów, model stworzy odpowiednie gałęzie. Pozostaje jednak problem jak sklasyfikować powstałe w ten sposób węzły, skoro nie mamy odpowiedniej krotki. Wówczas możemy wybrać sposób podziału warunkowego, względem wybranej przez nas zasady podziału, na przykład nierówności (S1 dla x > p, S2 dla x < p dla wybranego p). Możemy też dzielić atrybuty na dwa podzbiory, pierwszy jednoelementowy zawierający tylko atrybuty o największym zysku informacyjnym i drugi zawierający wszystkie pozostałe atrybuty. Tę wariację można też zaimplementować zgodnie z drugą ideą, czyli nie podając zbioru wartości atrybutów. Zmniejsza to jednak znacznie pojemność modelu, i jego performance jest bardzo słaby."
   ]
  },
  {
   "attachments": {},
   "cell_type": "markdown",
   "metadata": {},
   "source": [
    "#### __Wariacja wielowartościowa__"
   ]
  },
  {
   "cell_type": "code",
   "execution_count": 117,
   "metadata": {},
   "outputs": [],
   "source": [
    "class Node():\n",
    "    def __init__(self, label = None, branches: dict = None, value=None, class_cardinality=0) -> None:\n",
    "        self.label = label\n",
    "        self.value = value\n",
    "        self.branches = branches\n",
    "        self.class_cardinality = class_cardinality\n",
    "\n",
    "    def __repr__(self, level=0, path=''):\n",
    "        output = \"\\t\" * level\n",
    "        if path:\n",
    "            output += str(path) + ' -> '\n",
    "        if self.value is not None:\n",
    "            output += str(self.value)\n",
    "        else:\n",
    "            output += str(self.label)\n",
    "        output += \"\\n\"\n",
    "        if self.branches:\n",
    "            for path, node in self.branches.items():\n",
    "                output += node.__repr__(level+1, path)\n",
    "        return output\n",
    "\n",
    "class ID3_v1():\n",
    "    def __init__(self, max_depth:int=inf) -> None:\n",
    "        self._root = None\n",
    "        self._max_depth = max_depth\n",
    "\n",
    "    def __repr__(self):\n",
    "        return self._root.__repr__()\n",
    "\n",
    "    def fit(self, data, y_column_name):\n",
    "\n",
    "        def split(data, target_feature):\n",
    "            values = data[target_feature].unique().tolist()\n",
    "            return {feature_value:data[data[target_feature] == feature_value] for feature_value in values}\n",
    "\n",
    "        def entropy(data, y_column_name):\n",
    "                return -sum([c/data.shape[0]*log(c/data.shape[0]) for c in data[y_column_name].value_counts().to_list()])\n",
    "        \n",
    "        def weighted_entropy(data, y_column_name, target_feature):\n",
    "                return sum([subset.shape[0]/data.shape[0]*entropy(subset, y_column_name) for subset in split(data, target_feature).values()])\n",
    "\n",
    "        def inf_gain(data, y_column_name, target_feature):\n",
    "            return entropy(data, y_column_name) - weighted_entropy(data, y_column_name, target_feature)\n",
    "\n",
    "        def recurr(data: pd.DataFrame, y_column_name: str, features: set, depth:int=0):\n",
    "            \"\"\"\n",
    "            Recursive method which allows the algorithm to create a decision\n",
    "            tree, which later will be used to predict value in the given dataset.\n",
    "\n",
    "            Args:\n",
    "                data:\n",
    "                y_column_name:\n",
    "                features:\n",
    "\n",
    "            Returns:\n",
    "                root of the decision tree, the nodes of which\n",
    "                have the following attributes:\n",
    "                - label - the value of the attribute the split was made on\n",
    "                - value - output feature value in case the node is terminal\n",
    "                - branches - dictionary of the following: keys = attribute values,\n",
    "                  values = nodes\n",
    "                - (only in binary split variation) class_cardinality - the amount\n",
    "                  of class instances upon wchich the node was created\n",
    "\n",
    "            Raises:\n",
    "                None\n",
    "            \"\"\"\n",
    "\n",
    "            # check end conditions\n",
    "\n",
    "            # if all instances represent the same class,\n",
    "            # return leaf with the class label\n",
    "            if (data[y_column_name] == data[y_column_name].iat[0]).all():\n",
    "                return Node(value=data[y_column_name].iat[0])\n",
    "            # if no features are left to split on,\n",
    "            # return leaf with most frequently occuring class\n",
    "            if not features or depth >= self._max_depth:\n",
    "                return Node(value=data[y_column_name].value_counts().idxmax())\n",
    "\n",
    "            # calculate information gain and choose best feature\n",
    "            target_feature = max(features, key=lambda f: inf_gain(data, y_column_name, f))\n",
    "            # split the branch\n",
    "            data_split = split(data, target_feature).items()\n",
    "            features.remove(target_feature)\n",
    "            return Node(target_feature, class_cardinality=data.shape[0], branches={feature_value:recurr(branch, y_column_name, features, depth+1) for feature_value, branch in data_split})\n",
    "\n",
    "        # initiate feature set\n",
    "        features = set(data.columns.tolist())\n",
    "        features.remove(y_column_name)\n",
    "        self._root = recurr(data, y_column_name, features)\n",
    "\n",
    "    def feed_through(self, data_case):\n",
    "        node = self._root\n",
    "        while not node.value:\n",
    "            value = data_case[node.label]\n",
    "            # if value doesnt have a branch representing it \n",
    "            if value not in node.branches.keys():\n",
    "                # choose a branch with the most cardinality\n",
    "                node = max(node.branches.values(), key=lambda b: b.class_cardinality)\n",
    "            else:\n",
    "                node = node.branches[data_case[node.label]]\n",
    "        return node.value\n",
    "\n",
    "    def predict(self, data):\n",
    "        return data.apply(self.feed_through, axis=1)"
   ]
  },
  {
   "attachments": {},
   "cell_type": "markdown",
   "metadata": {},
   "source": [
    "#### __Wariacja binarna__\n",
    "\n",
    "__WADA IMPLEMENTACYJNA:__ nazwa atrybutu nie może być 'rest'"
   ]
  },
  {
   "cell_type": "code",
   "execution_count": 118,
   "metadata": {},
   "outputs": [],
   "source": [
    "class ID3_v2():\n",
    "    def __init__(self, max_depth:int=inf) -> None:\n",
    "        self._root = None\n",
    "        self._max_depth = max_depth\n",
    "\n",
    "    def __repr__(self):\n",
    "        return self._root.__repr__()\n",
    "\n",
    "    def fit(self, data, y_column_name):\n",
    "\n",
    "        def entropy(data, y_column_name):\n",
    "            return -sum([c/data.shape[0]*log(c/data.shape[0]) for c in data[y_column_name].value_counts().to_list()])\n",
    "        \n",
    "        def weighted_entropy(data, data_subsets, y_column_name):\n",
    "            return sum([subset.shape[0]/data.shape[0]*entropy(subset, y_column_name) for subset in data_subsets])\n",
    "\n",
    "        def inf_gain(data, data_subsets, y_column_name):\n",
    "            return entropy(data, y_column_name) - weighted_entropy(data, data_subsets, y_column_name)\n",
    "        \n",
    "        def split(data, target_feature, target_feature_value):\n",
    "            return data[data[target_feature] == target_feature_value], data[data[target_feature] != target_feature_value]\n",
    "            \n",
    "\n",
    "        def recurr(data: pd.DataFrame, y_column_name: str, features: set, depth:int=0):\n",
    "            \"\"\"\n",
    "            Recursive method which allows the algorithm to create a decision\n",
    "            tree, which later will be used to predict value in the given dataset.\n",
    "\n",
    "            Args:\n",
    "                data:\n",
    "                y_column_name:\n",
    "                features:\n",
    "\n",
    "            Returns:\n",
    "                root of the decision tree, the nodes of which\n",
    "                have the following attributes:\n",
    "                - label - the value of the attribute the split was made on\n",
    "                - value - output feature value in case the node is terminal\n",
    "                - branches - dictionary of the following: keys = attribute values,\n",
    "                  values = nodes\n",
    "                - (only in binary split variation) class_cardinality - the amount\n",
    "                  of class instances upon wchich the node was created\n",
    "\n",
    "            Raises:\n",
    "                None\n",
    "            \"\"\"\n",
    "\n",
    "            # check end conditions\n",
    "\n",
    "            # if all instances represent the same class,\n",
    "            # return leaf with the class label\n",
    "            if (data[y_column_name] == data[y_column_name].iat[0]).all():\n",
    "                return Node(value=data[y_column_name].iat[0])\n",
    "            # if no features are left to split on,\n",
    "            # return leaf with most frequently occuring class\n",
    "            if not features or depth >= self._max_depth:\n",
    "                return Node(value=data[y_column_name].value_counts().idxmax())\n",
    "\n",
    "            split_pairs= []\n",
    "            for f in features:\n",
    "                for v in data[f].unique().tolist():\n",
    "                    split_pairs.append((f, v))\n",
    "            # calculate information gain and choose best feature\n",
    "            tmp = [(split(data, *pair), *pair) for pair in split_pairs]\n",
    "            best_split, target_feature, target_feature_value = max(tmp, key=lambda t: inf_gain(data, t[0], y_column_name))\n",
    "            # split the branch\n",
    "            features.remove(target_feature)\n",
    "            return Node(target_feature, branches={target_feature_value:recurr(best_split[0], y_column_name, features, depth+1),\n",
    "                                                  'rest':recurr(best_split[1], y_column_name, features)})\n",
    "\n",
    "        # initiate feature set\n",
    "        features = set(data.columns.tolist())\n",
    "        features.remove(y_column_name)\n",
    "        self._root = recurr(data, y_column_name, features)\n",
    "\n",
    "    def feed_through(self, data_case):\n",
    "        node = self._root\n",
    "        while node.value is None:\n",
    "            value = data_case[node.label]\n",
    "            if value in node.branches.keys():\n",
    "                node = node.branches[value]\n",
    "            else:\n",
    "                # if no fitting branch is found in the tree\n",
    "                # enter the 'rest' node \n",
    "                node = node.branches['rest']\n",
    "        return node.value\n",
    "\n",
    "    def predict(self, data):\n",
    "        return data.apply(self.feed_through, axis=1)"
   ]
  },
  {
   "attachments": {},
   "cell_type": "markdown",
   "metadata": {},
   "source": [
    "#### __Analiza działania i struktury drzewa decyzyjnego (głębokośc maksymalna)__"
   ]
  },
  {
   "cell_type": "code",
   "execution_count": 119,
   "metadata": {},
   "outputs": [],
   "source": [
    "tmp = pd.DataFrame(data=\n",
    "[['A', 1, 0],\n",
    " ['B', 1, 1],\n",
    " ['B', 2, 1],\n",
    " ['B', 2, 0],\n",
    " ['B', 3, 1]], \n",
    "columns=['x1','x2', 'y'])\n",
    "\n",
    "model1 = ID3_v1()\n",
    "model1.fit(tmp, 'y')\n",
    "model2 = ID3_v2()\n",
    "model2.fit(tmp, 'y')\n",
    "\n",
    "model3 = ID3_v1()\n",
    "model3.fit(train, 'irradiat')\n",
    "model4 = ID3_v2()\n",
    "model4.fit(train, 'irradiat')"
   ]
  },
  {
   "attachments": {},
   "cell_type": "markdown",
   "metadata": {},
   "source": [
    "#### __Dataset z wykładu:__"
   ]
  },
  {
   "cell_type": "code",
   "execution_count": 120,
   "metadata": {},
   "outputs": [
    {
     "name": "stdout",
     "output_type": "stream",
     "text": [
      "x1\n",
      "\tA -> 0\n",
      "\tB -> x2\n",
      "\t\t1 -> 1\n",
      "\t\t2 -> 1\n",
      "\t\t3 -> 1\n",
      "\n",
      "x1\n",
      "\tA -> 0\n",
      "\trest -> x2\n",
      "\t\t2 -> 1\n",
      "\t\trest -> 1\n",
      "\n"
     ]
    }
   ],
   "source": [
    "print(repr(model1))\n",
    "print(repr(model2))"
   ]
  },
  {
   "attachments": {},
   "cell_type": "markdown",
   "metadata": {},
   "source": [
    "__Wariacja wielowartościowa:__\n",
    "\n",
    ">x1\n",
    ">> A -> 0\n",
    ">> B -> x2\n",
    ">>> 1 -> 1  \n",
    ">>> 2 -> 1  \n",
    ">>> 3 -> 1\n",
    "\n",
    "__Wariacja binarna:__\n",
    "\n",
    ">x1\n",
    ">>\tA -> 0  \n",
    ">>\trest -> x2\n",
    ">>> 2 -> 1  \n",
    ">>> rest -> 1"
   ]
  },
  {
   "attachments": {},
   "cell_type": "markdown",
   "metadata": {},
   "source": [
    "#### __Dataset 'breast cancer':__"
   ]
  },
  {
   "attachments": {},
   "cell_type": "markdown",
   "metadata": {},
   "source": [
    "__Wariacja wielowartościowa:__"
   ]
  },
  {
   "cell_type": "code",
   "execution_count": 121,
   "metadata": {},
   "outputs": [
    {
     "name": "stdout",
     "output_type": "stream",
     "text": [
      "inv-nodes\n",
      "\t0-2 -> tumor-size\n",
      "\t\t5-9 -> menopause\n",
      "\t\t\tge40 -> no\n",
      "\t\t\tpremeno -> yes\n",
      "\t\t15-19 -> breast-quad\n",
      "\t\t\tleft_up -> breast\n",
      "\t\t\t\tright -> no\n",
      "\t\t\t\tleft -> age\n",
      "\t\t\t\t\t60-69 -> yes\n",
      "\t\t\t\t\t40-49 -> no\n",
      "\t\t\tleft_low -> no\n",
      "\t\t\tcentral -> deg-malig\n",
      "\t\t\t\t2 -> yes\n",
      "\t\t\t\t1 -> no\n",
      "\t\t\tright_low -> no\n",
      "\t\t\tright_up -> no\n",
      "\t\t10-14 -> node-caps\n",
      "\t\t\tno -> class\n",
      "\t\t\t\tno-recurrence-events -> no\n",
      "\t\t30-34 -> no\n",
      "\t\t20-24 -> no\n",
      "\t\t25-29 -> no\n",
      "\t\t35-39 -> no\n",
      "\t\t0-4 -> no\n",
      "\t\t40-44 -> no\n",
      "\t\t50-54 -> no\n",
      "\t\t45-49 -> yes\n",
      "\t3-5 -> no\n",
      "\t6-8 -> no\n",
      "\t24-26 -> yes\n",
      "\t12-14 -> yes\n",
      "\t15-17 -> no\n",
      "\t9-11 -> yes\n",
      "\n"
     ]
    }
   ],
   "source": [
    "print(repr(model3))"
   ]
  },
  {
   "attachments": {},
   "cell_type": "markdown",
   "metadata": {},
   "source": [
    "__Wariacja binarna:__"
   ]
  },
  {
   "cell_type": "code",
   "execution_count": 122,
   "metadata": {},
   "outputs": [
    {
     "name": "stdout",
     "output_type": "stream",
     "text": [
      "inv-nodes\n",
      "\t0-2 -> node-caps\n",
      "\t\tno -> class\n",
      "\t\t\tno-recurrence-events -> age\n",
      "\t\t\t\t50-59 -> no\n",
      "\t\t\t\trest -> breast-quad\n",
      "\t\t\t\t\tright_low -> no\n",
      "\t\t\t\t\trest -> deg-malig\n",
      "\t\t\t\t\t\t1 -> tumor-size\n",
      "\t\t\t\t\t\t\t25-29 -> breast\n",
      "\t\t\t\t\t\t\t\tright -> yes\n",
      "\t\t\t\t\t\t\t\trest -> no\n",
      "\t\t\t\t\t\t\trest -> menopause\n",
      "\t\t\t\t\t\t\t\tpremeno -> no\n",
      "\t\t\t\t\t\t\t\trest -> no\n",
      "\t\t\t\t\t\trest -> no\n",
      "\t\t\trest -> no\n",
      "\t\trest -> yes\n",
      "\trest -> no\n",
      "\n"
     ]
    }
   ],
   "source": [
    "print(repr(model4))"
   ]
  },
  {
   "attachments": {},
   "cell_type": "markdown",
   "metadata": {},
   "source": [
    "Jak widać na powyższym schemacie, warjacja z binarna (z dwoma podzbiorami) znacznie upraszcza drzewo. Można się zatem spodziewać że jej performance, szczólnie w metrykach dla klasy pozytywnej (niezbilansowany dataset), będą gorsze."
   ]
  },
  {
   "cell_type": "code",
   "execution_count": 123,
   "metadata": {},
   "outputs": [],
   "source": [
    "def report(y_test, y_pred):\n",
    "    clf_report = classification_report(y_test, y_pred, output_dict=True)\n",
    "    heatmap(pd.DataFrame(clf_report).iloc[:-1, :].T, annot=True, cmap=\"crest\")\n",
    "\n",
    "def confusions(y_test, y_pred):\n",
    "    conf_matrix = confusion_matrix(y_test, y_pred)\n",
    "    plot = heatmap(pd.DataFrame(conf_matrix, index = ['no', 'yes'],\n",
    "                                columns=['no', 'yes']), annot=True, cmap=\"crest\")\n",
    "    plot.set(xlabel='Predicted Label', ylabel='True Label')\n",
    "    plot"
   ]
  },
  {
   "cell_type": "code",
   "execution_count": 124,
   "metadata": {},
   "outputs": [
    {
     "data": {
      "text/plain": [
       "no     54\n",
       "yes     2\n",
       "dtype: int64"
      ]
     },
     "execution_count": 124,
     "metadata": {},
     "output_type": "execute_result"
    }
   ],
   "source": [
    "y_pred = model4.predict(test)\n",
    "y_pred.value_counts()"
   ]
  },
  {
   "cell_type": "code",
   "execution_count": 125,
   "metadata": {},
   "outputs": [
    {
     "data": {
      "image/png": "[encoded data removed]",
      "text/plain": [
       "<Figure size 640x480 with 2 Axes>"
      ]
     },
     "metadata": {},
     "output_type": "display_data"
    }
   ],
   "source": [
    "confusions(y_test, y_pred)"
   ]
  },
  {
   "cell_type": "code",
   "execution_count": 126,
   "metadata": {},
   "outputs": [
    {
     "data": {
      "image/png": "[encoded data removed]",
      "text/plain": [
       "<Figure size 640x480 with 2 Axes>"
      ]
     },
     "metadata": {},
     "output_type": "display_data"
    }
   ],
   "source": [
    "report(y_test, y_pred)"
   ]
  },
  {
   "attachments": {},
   "cell_type": "markdown",
   "metadata": {},
   "source": [
    "Model osiągnął accuracy na poziomie 82%, to mniej niż model, który zwracał zawsze klasę 'no' (XD). To nie najlepiej, jednak zważając na niezbilansowanie danego datasetu, nie jest to najgorszy wynik."
   ]
  },
  {
   "cell_type": "markdown",
   "metadata": {},
   "source": []
  }
 ],
 "metadata": {
  "kernelspec": {
   "display_name": "bootcamp_env",
   "language": "python",
   "name": "bootcamp_env"
  },
  "language_info": {
   "codemirror_mode": {
    "name": "ipython",
    "version": 3
   },
   "file_extension": ".py",
   "mimetype": "text/x-python",
   "name": "python",
   "nbconvert_exporter": "python",
   "pygments_lexer": "ipython3",
   "version": "3.10.7"
  },
  "orig_nbformat": 4,
  "vscode": {
   "interpreter": {
    "hash": "fbf389827ae33fec18fdc4e599d3990b18d4bc31319807cf50234ebf69755d81"
   }
  }
 },
 "nbformat": 4,
 "nbformat_minor": 2
}
