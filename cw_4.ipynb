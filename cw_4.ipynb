{
 "cells": [
  {
   "cell_type": "markdown",
   "metadata": {},
   "source": [
    "# __WSI - ćwiczenie 4.__"
   ]
  },
  {
   "cell_type": "markdown",
   "metadata": {},
   "source": [
    "### __Regresja i klasyfikacja__"
   ]
  },
  {
   "cell_type": "markdown",
   "metadata": {},
   "source": [
    "#### __Treść ćwiczenia__"
   ]
  },
  {
   "cell_type": "markdown",
   "metadata": {},
   "source": [
    "- Celem ćwiczenia jest implementacja drzew decyzyjnych tworzonych algorytmem _ID3_ z ograniczeniem maksymalnej głębokości drzewa.\n",
    "- Następnie należy wykorzystać stworzony algorytm do stworzenia i zbadaniajakości klasyfikatorów dla zbioru danych breast cancer (https://archive.ics.uci.edu/ml/datasets/breast+cancer). Klasą jest poleirradiat.\n",
    "- Należy pamiętać o podziale danych na zbiory trenujący, walidacyjny i testo-wy. Można użyć w tym celu gotowych funkcji."
   ]
  },
  {
   "cell_type": "code",
   "execution_count": 481,
   "metadata": {},
   "outputs": [],
   "source": [
    "import pandas as pd\n",
    "import numpy as np\n",
    "from sklearn.metrics import accuracy_score, confusion_matrix, roc_curve, roc_auc_score, precision_recall_curve, auc, RocCurveDisplay, PrecisionRecallDisplay, recall_score, precision_score, f1_score, classification_report\n",
    "from sklearn.model_selection import train_test_split\n",
    "import plotly.express as px\n",
    "from math import log\n",
    "\n",
    "RNG = np.random.default_rng()"
   ]
  },
  {
   "cell_type": "markdown",
   "metadata": {},
   "source": [
    "#### __Ładowanie danych__"
   ]
  },
  {
   "cell_type": "code",
   "execution_count": 482,
   "metadata": {},
   "outputs": [],
   "source": [
    "\n",
    "columns = ['class', 'age', 'menopause', 'tumor-size', 'inv-nodes', \n",
    "           'node-caps', 'deg-malig', 'breast', 'breast-quad', 'irradiat']\n",
    "data = pd.read_csv('./data/breast-cancer.data', header=None, names=columns)"
   ]
  },
  {
   "cell_type": "code",
   "execution_count": 483,
   "metadata": {},
   "outputs": [
    {
     "data": {
      "text/html": [
       "<div>\n",
       "<style scoped>\n",
       "    .dataframe tbody tr th:only-of-type {\n",
       "        vertical-align: middle;\n",
       "    }\n",
       "\n",
       "    .dataframe tbody tr th {\n",
       "        vertical-align: top;\n",
       "    }\n",
       "\n",
       "    .dataframe thead th {\n",
       "        text-align: right;\n",
       "    }\n",
       "</style>\n",
       "<table border=\"1\" class=\"dataframe\">\n",
       "  <thead>\n",
       "    <tr style=\"text-align: right;\">\n",
       "      <th></th>\n",
       "      <th>class</th>\n",
       "      <th>age</th>\n",
       "      <th>menopause</th>\n",
       "      <th>tumor-size</th>\n",
       "      <th>inv-nodes</th>\n",
       "      <th>node-caps</th>\n",
       "      <th>deg-malig</th>\n",
       "      <th>breast</th>\n",
       "      <th>breast-quad</th>\n",
       "      <th>irradiat</th>\n",
       "    </tr>\n",
       "  </thead>\n",
       "  <tbody>\n",
       "    <tr>\n",
       "      <th>0</th>\n",
       "      <td>no-recurrence-events</td>\n",
       "      <td>30-39</td>\n",
       "      <td>premeno</td>\n",
       "      <td>30-34</td>\n",
       "      <td>0-2</td>\n",
       "      <td>no</td>\n",
       "      <td>3</td>\n",
       "      <td>left</td>\n",
       "      <td>left_low</td>\n",
       "      <td>no</td>\n",
       "    </tr>\n",
       "    <tr>\n",
       "      <th>1</th>\n",
       "      <td>no-recurrence-events</td>\n",
       "      <td>40-49</td>\n",
       "      <td>premeno</td>\n",
       "      <td>20-24</td>\n",
       "      <td>0-2</td>\n",
       "      <td>no</td>\n",
       "      <td>2</td>\n",
       "      <td>right</td>\n",
       "      <td>right_up</td>\n",
       "      <td>no</td>\n",
       "    </tr>\n",
       "    <tr>\n",
       "      <th>2</th>\n",
       "      <td>no-recurrence-events</td>\n",
       "      <td>40-49</td>\n",
       "      <td>premeno</td>\n",
       "      <td>20-24</td>\n",
       "      <td>0-2</td>\n",
       "      <td>no</td>\n",
       "      <td>2</td>\n",
       "      <td>left</td>\n",
       "      <td>left_low</td>\n",
       "      <td>no</td>\n",
       "    </tr>\n",
       "    <tr>\n",
       "      <th>3</th>\n",
       "      <td>no-recurrence-events</td>\n",
       "      <td>60-69</td>\n",
       "      <td>ge40</td>\n",
       "      <td>15-19</td>\n",
       "      <td>0-2</td>\n",
       "      <td>no</td>\n",
       "      <td>2</td>\n",
       "      <td>right</td>\n",
       "      <td>left_up</td>\n",
       "      <td>no</td>\n",
       "    </tr>\n",
       "    <tr>\n",
       "      <th>4</th>\n",
       "      <td>no-recurrence-events</td>\n",
       "      <td>40-49</td>\n",
       "      <td>premeno</td>\n",
       "      <td>0-4</td>\n",
       "      <td>0-2</td>\n",
       "      <td>no</td>\n",
       "      <td>2</td>\n",
       "      <td>right</td>\n",
       "      <td>right_low</td>\n",
       "      <td>no</td>\n",
       "    </tr>\n",
       "  </tbody>\n",
       "</table>\n",
       "</div>"
      ],
      "text/plain": [
       "                  class    age menopause tumor-size inv-nodes node-caps  \\\n",
       "0  no-recurrence-events  30-39   premeno      30-34       0-2        no   \n",
       "1  no-recurrence-events  40-49   premeno      20-24       0-2        no   \n",
       "2  no-recurrence-events  40-49   premeno      20-24       0-2        no   \n",
       "3  no-recurrence-events  60-69      ge40      15-19       0-2        no   \n",
       "4  no-recurrence-events  40-49   premeno        0-4       0-2        no   \n",
       "\n",
       "   deg-malig breast breast-quad irradiat  \n",
       "0          3   left    left_low       no  \n",
       "1          2  right    right_up       no  \n",
       "2          2   left    left_low       no  \n",
       "3          2  right     left_up       no  \n",
       "4          2  right   right_low       no  "
      ]
     },
     "execution_count": 483,
     "metadata": {},
     "output_type": "execute_result"
    }
   ],
   "source": [
    "data.head()"
   ]
  },
  {
   "cell_type": "code",
   "execution_count": 484,
   "metadata": {},
   "outputs": [
    {
     "data": {
      "text/plain": [
       "class                 age    menopause  tumor-size  inv-nodes  node-caps  deg-malig  breast  breast-quad  irradiat\n",
       "no-recurrence-events  60-69  ge40       15-19       0-2        no         2          right   left_up      no          2\n",
       "                      40-49  premeno    10-14       0-2        no         1          right   left_up      no          2\n",
       "                      60-69  ge40       20-24       0-2        no         1          left    left_low     no          2\n",
       "                      50-59  premeno    25-29       0-2        no         2          left    left_low     no          2\n",
       "                      40-49  premeno    20-24       0-2        no         2          right   left_up      no          2\n",
       "                                                                                                                     ..\n",
       "                      50-59  ge40       20-24       3-5        yes        2          right   left_up      no          1\n",
       "                                        25-29       0-2        no         1          left    left_low     no          1\n",
       "                                                                                             right_low    no          1\n",
       "                                                                          2          left    left_low     no          1\n",
       "recurrence-events     70-79  ge40       15-19       9-11       ?          1          left    left_low     yes         1\n",
       "Length: 272, dtype: int64"
      ]
     },
     "execution_count": 484,
     "metadata": {},
     "output_type": "execute_result"
    }
   ],
   "source": [
    "data.value_counts()"
   ]
  },
  {
   "cell_type": "code",
   "execution_count": 485,
   "metadata": {},
   "outputs": [
    {
     "data": {
      "text/plain": [
       "no     222\n",
       "yes     56\n",
       "?        8\n",
       "Name: node-caps, dtype: int64"
      ]
     },
     "execution_count": 485,
     "metadata": {},
     "output_type": "execute_result"
    }
   ],
   "source": [
    "data['node-caps'].value_counts()"
   ]
  },
  {
   "cell_type": "markdown",
   "metadata": {},
   "source": [
    "#### __Usuwanie nieznanych wartości__"
   ]
  },
  {
   "cell_type": "code",
   "execution_count": 486,
   "metadata": {},
   "outputs": [],
   "source": [
    "data.drop(data.loc[data['node-caps'] == '?'].index, inplace=True)"
   ]
  },
  {
   "cell_type": "markdown",
   "metadata": {},
   "source": [
    "#### __Podział na zbiór trenujący i testowy__"
   ]
  },
  {
   "cell_type": "code",
   "execution_count": 487,
   "metadata": {},
   "outputs": [],
   "source": [
    "RANDOM_STATE=65\n",
    "PRED_LABEL = 'irradiat'\n",
    "x, y = data.drop(PRED_LABEL, axis=1), data[PRED_LABEL]\n",
    "x_train, x_test, y_train, y_test = train_test_split(x, y, test_size=0.2, random_state=RANDOM_STATE)\n",
    "train = pd.concat([x_train, y_train], axis=1)\n",
    "test = pd.concat([x_test, y_test], axis=1)"
   ]
  },
  {
   "cell_type": "markdown",
   "metadata": {},
   "source": [
    "#### __Prosty model testowy__"
   ]
  },
  {
   "cell_type": "code",
   "execution_count": 488,
   "metadata": {},
   "outputs": [],
   "source": [
    "class PrimitiveModel():\n",
    "    def __init__(self) -> None:\n",
    "        pass\n",
    "\n",
    "    def fit(self, x, y):\n",
    "        pass\n",
    "\n",
    "    def predict(self, x):\n",
    "        return ['no' for _ in range(len(x))]"
   ]
  },
  {
   "cell_type": "code",
   "execution_count": 489,
   "metadata": {},
   "outputs": [
    {
     "name": "stdout",
     "output_type": "stream",
     "text": [
      "0.8214285714285714\n"
     ]
    }
   ],
   "source": [
    "model = PrimitiveModel()\n",
    "model.fit(x_train, y_train)\n",
    "y_pred = model.predict(x_test)\n",
    "acc = accuracy_score(y_test, y_pred)\n",
    "print(acc)"
   ]
  },
  {
   "cell_type": "code",
   "execution_count": null,
   "metadata": {},
   "outputs": [],
   "source": []
  },
  {
   "cell_type": "markdown",
   "metadata": {},
   "source": [
    "#### __Implementacja klasyfikatora _ID3___"
   ]
  },
  {
   "cell_type": "code",
   "execution_count": 490,
   "metadata": {},
   "outputs": [],
   "source": [
    "class Node():\n",
    "    def __init__(self, label = None, branches: dict = None, value=None) -> None:\n",
    "        self.label = label\n",
    "        self.value = value\n",
    "        self.branches = branches\n",
    "\n",
    "    def __repr__(self, level=0, path=''):\n",
    "        output = \"\\t\" * level\n",
    "        if path:\n",
    "            output += str(path) + ' -> '\n",
    "        if self.value is not None:\n",
    "            output += str(self.value)\n",
    "        else:\n",
    "            output += str(self.label)\n",
    "        output += \"\\n\"\n",
    "        if self.branches:\n",
    "            for path, node in self.branches.items():\n",
    "                output += node.__repr__(level+1, path)\n",
    "        return output\n",
    "\n",
    "class ID3():\n",
    "    def __init__(self) -> None:\n",
    "        self._root = None\n",
    "\n",
    "    def __repr__(self):\n",
    "        return self._root.__repr__()\n",
    "\n",
    "    def fit(self, data, y_column_name):\n",
    "\n",
    "        def split(data, target_feature):\n",
    "            values = data[target_feature].unique().tolist()\n",
    "            return {feature_value:data[data[target_feature] == feature_value] for feature_value in values}\n",
    "\n",
    "        def entropy(data, y_column_name):\n",
    "                return -sum([c/data.shape[0]*log(c/data.shape[0]) for c in data[y_column_name].value_counts().to_list()])\n",
    "        \n",
    "        def weighted_entropy(data, y_column_name, target_feature):\n",
    "                return sum([subset.shape[0]/data.shape[0]*entropy(subset, y_column_name) for subset in split(data, target_feature).values()])\n",
    "\n",
    "        def inf_gain(data, y_column_name, target_feature):\n",
    "            return entropy(data, y_column_name) - weighted_entropy(data, y_column_name, target_feature)\n",
    "\n",
    "        def recurr(data: pd.DataFrame, y_column_name: str, features: set):\n",
    "            \"\"\"\n",
    "            overview\n",
    "\n",
    "            Args:\n",
    "                data:\n",
    "                y_column_name:\n",
    "                features:\n",
    "\n",
    "            Returns:\n",
    "                root\n",
    "\n",
    "            Raises:\n",
    "                None\n",
    "            \"\"\"\n",
    "\n",
    "            # check end conditions\n",
    "\n",
    "            # if all instances represent the same class,\n",
    "            # return leaf with the class label\n",
    "            if (data[y_column_name] == data[y_column_name].iat[0]).all():\n",
    "                return Node(value=data[y_column_name].iat[0])\n",
    "            # if no features are left to split on,\n",
    "            # return leaf with most frequently occuring class\n",
    "            if not features:\n",
    "                return Node(value=data[y_column_name].value_counts().idxmax())\n",
    "\n",
    "            # calculate information gain and choose best feature\n",
    "            target_feature = max(features, key=lambda f: inf_gain(data, y_column_name, f))\n",
    "            # split the branch\n",
    "            data_split = split(data, target_feature).items()\n",
    "            features.remove(target_feature)\n",
    "            return Node(target_feature, branches={feature_value:recurr(branch, y_column_name, features) for feature_value, branch in data_split})\n",
    "\n",
    "        # initiate feature set\n",
    "        features = set(data.columns.tolist())\n",
    "        features.remove(y_column_name)\n",
    "        self._root = recurr(data, y_column_name, features)\n",
    "\n",
    "    def predict(self):\n",
    "        pass"
   ]
  },
  {
   "cell_type": "code",
   "execution_count": 491,
   "metadata": {},
   "outputs": [
    {
     "name": "stdout",
     "output_type": "stream",
     "text": [
      "x1\n",
      "\tA -> 0\n",
      "\tB -> x2\n",
      "\t\t1 -> 1\n",
      "\t\t2 -> 1\n",
      "\t\t3 -> 1\n",
      "\n"
     ]
    }
   ],
   "source": [
    "tmp = pd.DataFrame(data=[['A', 1, 0],\n",
    "['B', 1, 1],\n",
    "['B', 2, 1],\n",
    "['B', 2, 0],\n",
    "['B', 3, 1]], columns=['x1','x2', 'y'])\n",
    "\n",
    "model = ID3()\n",
    "model.fit(tmp, 'y')\n",
    "print(repr(model))\n"
   ]
  },
  {
   "cell_type": "code",
   "execution_count": 492,
   "metadata": {},
   "outputs": [
    {
     "name": "stdout",
     "output_type": "stream",
     "text": [
      "tumor-size\n",
      "\t20-24 -> inv-nodes\n",
      "\t\t3-5 -> age\n",
      "\t\t\t30-39 -> yes\n",
      "\t\t\t50-59 -> no\n",
      "\t\t\t40-49 -> yes\n",
      "\t\t\t60-69 -> yes\n",
      "\t\t0-2 -> no\n",
      "\t15-19 -> deg-malig\n",
      "\t\t2 -> node-caps\n",
      "\t\t\tno -> no\n",
      "\t\t\tyes -> yes\n",
      "\t\t1 -> no\n",
      "\t\t3 -> menopause\n",
      "\t\t\tpremeno -> breast\n",
      "\t\t\t\tright -> no\n",
      "\t\t\t\tleft -> yes\n",
      "\t\t\tge40 -> yes\n",
      "\t10-14 -> no\n",
      "\t25-29 -> breast-quad\n",
      "\t\tleft_up -> class\n",
      "\t\t\tno-recurrence-events -> no\n",
      "\t\t\trecurrence-events -> no\n",
      "\t\tleft_low -> no\n",
      "\t\tright_up -> no\n",
      "\t5-9 -> no\n",
      "\t30-34 -> no\n",
      "\t40-44 -> no\n",
      "\t45-49 -> yes\n",
      "\t0-4 -> no\n",
      "\t35-39 -> no\n",
      "\n"
     ]
    }
   ],
   "source": [
    "model = ID3()\n",
    "model.fit(test, 'irradiat')\n",
    "print(repr(model))"
   ]
  }
 ],
 "metadata": {
  "kernelspec": {
   "display_name": "bootcamp_env",
   "language": "python",
   "name": "bootcamp_env"
  },
  "language_info": {
   "codemirror_mode": {
    "name": "ipython",
    "version": 3
   },
   "file_extension": ".py",
   "mimetype": "text/x-python",
   "name": "python",
   "nbconvert_exporter": "python",
   "pygments_lexer": "ipython3",
   "version": "3.10.7"
  },
  "orig_nbformat": 4,
  "vscode": {
   "interpreter": {
    "hash": "fbf389827ae33fec18fdc4e599d3990b18d4bc31319807cf50234ebf69755d81"
   }
  }
 },
 "nbformat": 4,
 "nbformat_minor": 2
}
