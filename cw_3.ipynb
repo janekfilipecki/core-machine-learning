{
 "cells": [
  {
   "cell_type": "markdown",
   "metadata": {},
   "source": [
    "# __WSI - ćwiczenie 3.__"
   ]
  },
  {
   "cell_type": "markdown",
   "metadata": {},
   "source": [
    "### __Dwuosobowe gry deterministyczne__\n"
   ]
  },
  {
   "cell_type": "markdown",
   "metadata": {},
   "source": [
    "#### __Treść ćwiczenia__"
   ]
  },
  {
   "cell_type": "markdown",
   "metadata": {},
   "source": [
    "- Celem ćwiczenia jest implementacja algorytmu _min-max_ z przycinaniem $α−β$.\n",
    "Dla różnych ruchów o tej samej jakości, algorytm powinien zwracać losowy z\n",
    "nich.\n",
    "- Następnie należy wykorzystać implementację do porównania jakości dla różnych\n",
    "głębokości przeszukiwania dla gry kółko i krzyżyk na planszy $N\\times N$. W\n",
    "raporcie powinny być umieszczone wyniki turnieju w grę kółko i krzyżyk, w\n",
    "którym biorą udział gracze sterowani algorytmem z różnymi głębokościami przeszukiwania."
   ]
  },
  {
   "cell_type": "markdown",
   "metadata": {},
   "source": [
    "#### __Opis gry__\n"
   ]
  },
  {
   "cell_type": "markdown",
   "metadata": {},
   "source": [
    "_\"Gracze obejmują pola na przemian dążąc do objęcia trzech pól w jednej linii, przy jednoczesnym uniemożliwieniu tego samego przeciwnikowi. Pole może być objęte przez jednego gracza i nie zmienia swego właściciela przez cały przebieg gry.\"_ ~ Wikipedia"
   ]
  },
  {
   "cell_type": "markdown",
   "metadata": {},
   "source": [
    "#### __Implementacja modelu gry__\n"
   ]
  },
  {
   "cell_type": "code",
   "execution_count": 1,
   "metadata": {},
   "outputs": [],
   "source": [
    "import numpy as np\n",
    "from plotly import graph_objs as go\n",
    "from plotly.express.colors import sample_colorscale\n",
    "from plotly.subplots import make_subplots\n",
    "import pandas as pd\n",
    "import math\n",
    "import os\n",
    "from IPython.display import display, Image, Markdown\n",
    "from tabulate import tabulate\n",
    "from enum import Enum\n",
    "from itertools import permutations, combinations\n",
    "import copy\n",
    "import plotly.express as px\n",
    "\n",
    "RNG = np.random.default_rng()"
   ]
  },
  {
   "cell_type": "code",
   "execution_count": 2,
   "metadata": {},
   "outputs": [],
   "source": [
    "class BoardOps:\n",
    "\n",
    "    def _get_heuristic_matrix(self, size_x, size_y):\n",
    "        board = np.array([[f'{x},{y}' for  y in range(size_y)] for x in range(size_x)])\n",
    "        all_sequences = (board.tolist() + \n",
    "                        np.transpose(board).tolist() + \n",
    "                        [board.diagonal(i).tolist() for i in range(-np.shape(board)[0]+1, np.shape(board)[1])] +\n",
    "                        [np.flip(board, axis=1).diagonal(i).tolist() for i in range(-np.shape(board)[0], np.shape(board)[1])])\n",
    "        def get_sublists(arr):\n",
    "            return [arr[i:i+self._win_length] for i in range(len(arr)-self._win_length+1)]\n",
    "        winning_sequences = [get_sublists(x) for x in all_sequences if len(x) >= self._win_length]\n",
    "        winning_sequences =  [x for sub in winning_sequences for x in sub]\n",
    "        def count(target):\n",
    "            count = 0\n",
    "            for row in winning_sequences:\n",
    "                for item in row:\n",
    "                    if item == target:\n",
    "                        count += 1\n",
    "            return count\n",
    "        \n",
    "        for y in range(len(board)):\n",
    "            for x in range(len(board[0])):\n",
    "                board[y][x] = count(board[y][x])\n",
    "        return board.astype(int)\n",
    "\n",
    "    def __init__(self, min_sign: str='O', max_sign: str='X', win_length: int=3, board_size:int=3) -> None:\n",
    "        self._entry = Enum('ENTRY', ('MIN', 'MAX', 'EMPTY'))\n",
    "        self._min_sign = min_sign\n",
    "        self._max_sign = max_sign\n",
    "        self._win_length = win_length\n",
    "        self._board_size = board_size\n",
    "        self._heuristic_matrix = self._get_heuristic_matrix(board_size, board_size)\n",
    "\n",
    "    def get_str(self, board):\n",
    "        str_data = board.copy()\n",
    "        for x in np.ndenumerate(str_data):\n",
    "            if x[1] == self._entry.MIN:\n",
    "                str_data[x[0]] = self._min_sign\n",
    "            elif x[1] == self._entry.MAX:\n",
    "                str_data[x[0]] = self._max_sign\n",
    "            elif x[1] == self._entry.EMPTY:\n",
    "                str_data[x[0]] = ''\n",
    "        return tabulate(str_data, tablefmt='html')\n",
    "\n",
    "    def get_str_heuristic(self):\n",
    "        return tabulate(self._heuristic_matrix, tablefmt='html')\n",
    "\n",
    "    def _get_cell(self, board, x, y):\n",
    "        return board[y, x]\n",
    "\n",
    "    def is_min(self, board, x, y):\n",
    "        if self._get_cell(x, y) == self._entry.MIN:\n",
    "            return True\n",
    "        return False\n",
    "\n",
    "    def is_max(self, board, x, y):\n",
    "        if self._get_cell(board, x, y) == self._entry.MAX:\n",
    "            return True\n",
    "        return False\n",
    "\n",
    "    def is_empty(self, board,  x, y):\n",
    "        if self._get_cell(board, x, y) == self._entry.EMPTY:\n",
    "            return True\n",
    "        return False\n",
    "\n",
    "    def _set_cell(self, board, x, y, input):\n",
    "        board[y, x] = input\n",
    "\n",
    "    def set_min(self, board, x, y):\n",
    "        self._set_cell(board, x, y, self._entry.MIN)\n",
    "\n",
    "    def set_max(self, board, x, y):\n",
    "        self._set_cell(board, x, y, self._entry.MAX)\n",
    "\n",
    "    def set_empty(self, board, x, y):\n",
    "        self._set_cell(board, x, y, self._entry.EMPTY)\n",
    "\n",
    "    def generate_empty_board(self):\n",
    "        return np.full((self._board_size, self._board_size), self._entry.EMPTY)\n",
    "\n",
    "    def _contains(self, arr, seq):\n",
    "        for i in range(0, len(arr) - len(seq) + 1):\n",
    "            if seq == arr[i:i+len(seq)]:\n",
    "                return True\n",
    "        return False\n",
    "\n",
    "    def _check_state(self, arr):\n",
    "        max_seq = [self._entry.MAX] * self._win_length\n",
    "        min_seq = [self._entry.MIN] * self._win_length\n",
    "        if self._contains(arr, max_seq):\n",
    "            return self._entry.MAX\n",
    "        if self._contains(arr, min_seq):\n",
    "            return self._entry.MIN\n",
    "        return False\n",
    "\n",
    "    def game_over(self, board):\n",
    "        all_sequences = (board.tolist() + \n",
    "                         np.transpose(board).tolist() + \n",
    "                         [board.diagonal(i).tolist() for i in range(-np.shape(board)[0]+1, np.shape(board)[1])] +\n",
    "                         [np.flip(board, axis=1).diagonal(i).tolist() for i in range(-np.shape(board)[0], np.shape(board)[1])])\n",
    "        for seq in all_sequences:\n",
    "            x = self._check_state(seq)\n",
    "            if x:\n",
    "                return x\n",
    "        return False\n",
    "\n",
    "\n",
    "    def get_win_score(self, board):\n",
    "        state = self.game_over(board)\n",
    "        if state == self._entry.MAX:\n",
    "            return 'max'\n",
    "        if state == self._entry.MIN:\n",
    "            return 'min'\n",
    "        else:\n",
    "            return 'draw'\n",
    "\n",
    "    def get_possible_moves(self, board):\n",
    "        moves = []\n",
    "        for y in range(np.shape(board)[0]):\n",
    "            for x in range(np.shape(board)[1]):\n",
    "                if self.is_empty(board, x, y):\n",
    "                    moves.append([x, y])\n",
    "        return moves\n",
    "\n",
    "    def new_on_max(self, board, x, y):\n",
    "        new_board = board.copy()\n",
    "        self.set_max(new_board, x, y)\n",
    "        return new_board\n",
    "\n",
    "    def new_on_min(self, board, x, y):\n",
    "        new_board = board.copy()\n",
    "        self.set_min(new_board, x, y)\n",
    "        return new_board\n",
    "    \n",
    "    def grade(self, board, coef=1):\n",
    "        eval = 0\n",
    "        for x in np.ndenumerate(board):\n",
    "            value = self._heuristic_matrix[x[0]]\n",
    "            if x[1] == self._entry.MIN:\n",
    "                eval -= value * coef\n",
    "            elif x[1] == self._entry.MAX:\n",
    "                eval += value * coef\n",
    "        return eval\n",
    "\n",
    "    def print(self, board):\n",
    "        display(Markdown(self.get_str(board)))\n",
    "\n",
    "    def print_heuristic_matrix(self):\n",
    "        display(Markdown(self.get_str_heuristic()))"
   ]
  },
  {
   "cell_type": "code",
   "execution_count": 3,
   "metadata": {},
   "outputs": [],
   "source": [
    "class Game:\n",
    "    \n",
    "    def __init__(self, max_algorithm, min_algorithm, max_player_depth, min_player_depth, board_size: int, win_length: int, first_max_move=True, min_sign: str='O', max_sign: str='X'):\n",
    "        self._board_ops = BoardOps(min_sign, max_sign, win_length, board_size)\n",
    "        self._board = self._board_ops.generate_empty_board()\n",
    "        self._board_size = board_size\n",
    "        self._win_length = win_length\n",
    "        self._first_max_move = first_max_move\n",
    "        self._max_move = first_max_move\n",
    "        self._max_player_depth = max_player_depth\n",
    "        self._min_player_depth = min_player_depth\n",
    "        self._min_algorithm = min_algorithm\n",
    "        self._max_algorithm = max_algorithm\n",
    "\n",
    "    def is_max_move(self):\n",
    "        return self._max_move\n",
    "    \n",
    "    def change_turn(self):\n",
    "        self._max_move = not self._max_move\n",
    "\n",
    "    def reset(self):\n",
    "        self._board = self._board_ops.generate_empty_board()\n",
    "        self._max_move = self._first_max_move\n",
    "\n",
    "    def make_move(self):\n",
    "        if self.is_max_move():\n",
    "            self._board_ops.set_max(self._board, *self._max_algorithm(self._board, \n",
    "                                                              True, \n",
    "                                                              self._board_ops, \n",
    "                                                              self._max_player_depth))\n",
    "        else:\n",
    "            self._board_ops.set_min(self._board, *self._min_algorithm(self._board, \n",
    "                                                              False, \n",
    "                                                              self._board_ops, \n",
    "                                                              self._min_player_depth))\n",
    "        self.change_turn()\n",
    "\n",
    "    def print_board(self):\n",
    "        self._board_ops.print(self._board)\n",
    "\n",
    "    def run(self):\n",
    "        while not self._board_ops.game_over(self._board) and \\\n",
    "            self._board_ops.get_possible_moves(self._board):\n",
    "                self.make_move()\n",
    "\n",
    "        return self._board_ops.get_win_score(self._board)\n",
    "\n",
    "    def run_print(self):\n",
    "        while not self._board_ops.game_over(self._board) and \\\n",
    "            self._board_ops.get_possible_moves(self._board):\n",
    "                self.make_move()\n",
    "                self.print_board()\n",
    "\n",
    "        return self._board_ops.get_win_score(self._board)\n",
    "\n",
    "    def run_print_reset(self):\n",
    "        outcome = self.run_print()\n",
    "        self.reset()\n",
    "        return outcome\n",
    "\n",
    "    def run_reset(self):\n",
    "        outcome = self.run()\n",
    "        self.reset()\n",
    "        return outcome"
   ]
  },
  {
   "cell_type": "markdown",
   "metadata": {},
   "source": [
    "#### __Algorytm min-max__"
   ]
  },
  {
   "cell_type": "code",
   "execution_count": 4,
   "metadata": {},
   "outputs": [],
   "source": [
    "def min_max_a_b(board, max_move, board_ops: BoardOps, max_depth=3, payout=math.inf):\n",
    "\n",
    "    def recurr(board, max_move, depth, alfa, beta):\n",
    "        if board_ops.game_over(board):\n",
    "            if max_move:\n",
    "                return -payout\n",
    "            return payout\n",
    "        possible_moves = board_ops.get_possible_moves(board)\n",
    "        if not possible_moves:\n",
    "            return 0\n",
    "        if depth >= max_depth:\n",
    "            return board_ops.grade(board)\n",
    "        if max_move:\n",
    "            value = -math.inf\n",
    "            for move in possible_moves:\n",
    "                value = max(value, recurr(board_ops.new_on_max(board, *move), False, depth + 1, alfa, beta))\n",
    "                alfa = max(alfa, value)\n",
    "                if value >= beta:\n",
    "                    break\n",
    "            return value\n",
    "        value = math.inf\n",
    "        for move in possible_moves:\n",
    "            value = min(value, recurr(board_ops.new_on_min(board, *move), True, depth + 1, alfa, beta))\n",
    "            beta = min(beta, value)\n",
    "            if value <= alfa:\n",
    "                break\n",
    "        return value\n",
    "\n",
    "    possible_moves = board_ops.get_possible_moves(board)\n",
    "    if max_move:\n",
    "        moves_grades = [(move, recurr(board_ops.new_on_max(board, *move), False, 0, -math.inf, math.inf))\n",
    "                        for move in possible_moves]\n",
    "        maxes = [move for move, grade in moves_grades if grade == max(moves_grades, key=lambda x: x[1])[1]]\n",
    "        return RNG.choice(maxes)\n",
    "    moves_grades = [(move, recurr(board_ops.new_on_min(board, *move), True, 0, -math.inf, math.inf))\n",
    "                    for move in possible_moves]\n",
    "    mins = [move for move, grade in moves_grades if grade == min(moves_grades, key=lambda x: x[1])[1]]\n",
    "    return RNG.choice(mins)"
   ]
  },
  {
   "cell_type": "markdown",
   "metadata": {},
   "source": [
    "#### __Funkcja heurystyczna__"
   ]
  },
  {
   "cell_type": "code",
   "execution_count": 5,
   "metadata": {},
   "outputs": [
    {
     "data": {
      "text/markdown": [
       "<table>\n",
       "<tbody>\n",
       "<tr><td style=\"text-align: right;\">3</td><td style=\"text-align: right;\">2</td><td style=\"text-align: right;\">2</td><td style=\"text-align: right;\">2</td><td style=\"text-align: right;\">2</td><td style=\"text-align: right;\">2</td><td style=\"text-align: right;\">2</td><td style=\"text-align: right;\">2</td><td style=\"text-align: right;\">2</td><td style=\"text-align: right;\">3</td></tr>\n",
       "<tr><td style=\"text-align: right;\">2</td><td style=\"text-align: right;\">3</td><td style=\"text-align: right;\">2</td><td style=\"text-align: right;\">2</td><td style=\"text-align: right;\">2</td><td style=\"text-align: right;\">2</td><td style=\"text-align: right;\">2</td><td style=\"text-align: right;\">2</td><td style=\"text-align: right;\">3</td><td style=\"text-align: right;\">2</td></tr>\n",
       "<tr><td style=\"text-align: right;\">2</td><td style=\"text-align: right;\">2</td><td style=\"text-align: right;\">3</td><td style=\"text-align: right;\">2</td><td style=\"text-align: right;\">2</td><td style=\"text-align: right;\">2</td><td style=\"text-align: right;\">2</td><td style=\"text-align: right;\">3</td><td style=\"text-align: right;\">2</td><td style=\"text-align: right;\">2</td></tr>\n",
       "<tr><td style=\"text-align: right;\">2</td><td style=\"text-align: right;\">2</td><td style=\"text-align: right;\">2</td><td style=\"text-align: right;\">3</td><td style=\"text-align: right;\">2</td><td style=\"text-align: right;\">2</td><td style=\"text-align: right;\">3</td><td style=\"text-align: right;\">2</td><td style=\"text-align: right;\">2</td><td style=\"text-align: right;\">2</td></tr>\n",
       "<tr><td style=\"text-align: right;\">2</td><td style=\"text-align: right;\">2</td><td style=\"text-align: right;\">2</td><td style=\"text-align: right;\">2</td><td style=\"text-align: right;\">3</td><td style=\"text-align: right;\">3</td><td style=\"text-align: right;\">2</td><td style=\"text-align: right;\">2</td><td style=\"text-align: right;\">2</td><td style=\"text-align: right;\">2</td></tr>\n",
       "<tr><td style=\"text-align: right;\">2</td><td style=\"text-align: right;\">2</td><td style=\"text-align: right;\">2</td><td style=\"text-align: right;\">2</td><td style=\"text-align: right;\">3</td><td style=\"text-align: right;\">3</td><td style=\"text-align: right;\">2</td><td style=\"text-align: right;\">2</td><td style=\"text-align: right;\">2</td><td style=\"text-align: right;\">2</td></tr>\n",
       "<tr><td style=\"text-align: right;\">2</td><td style=\"text-align: right;\">2</td><td style=\"text-align: right;\">2</td><td style=\"text-align: right;\">3</td><td style=\"text-align: right;\">2</td><td style=\"text-align: right;\">2</td><td style=\"text-align: right;\">3</td><td style=\"text-align: right;\">2</td><td style=\"text-align: right;\">2</td><td style=\"text-align: right;\">2</td></tr>\n",
       "<tr><td style=\"text-align: right;\">2</td><td style=\"text-align: right;\">2</td><td style=\"text-align: right;\">3</td><td style=\"text-align: right;\">2</td><td style=\"text-align: right;\">2</td><td style=\"text-align: right;\">2</td><td style=\"text-align: right;\">2</td><td style=\"text-align: right;\">3</td><td style=\"text-align: right;\">2</td><td style=\"text-align: right;\">2</td></tr>\n",
       "<tr><td style=\"text-align: right;\">2</td><td style=\"text-align: right;\">3</td><td style=\"text-align: right;\">2</td><td style=\"text-align: right;\">2</td><td style=\"text-align: right;\">2</td><td style=\"text-align: right;\">2</td><td style=\"text-align: right;\">2</td><td style=\"text-align: right;\">2</td><td style=\"text-align: right;\">3</td><td style=\"text-align: right;\">2</td></tr>\n",
       "<tr><td style=\"text-align: right;\">3</td><td style=\"text-align: right;\">2</td><td style=\"text-align: right;\">2</td><td style=\"text-align: right;\">2</td><td style=\"text-align: right;\">2</td><td style=\"text-align: right;\">2</td><td style=\"text-align: right;\">2</td><td style=\"text-align: right;\">2</td><td style=\"text-align: right;\">2</td><td style=\"text-align: right;\">3</td></tr>\n",
       "</tbody>\n",
       "</table>"
      ],
      "text/plain": [
       "<IPython.core.display.Markdown object>"
      ]
     },
     "metadata": {},
     "output_type": "display_data"
    }
   ],
   "source": [
    "BoardOps(win_length=10, board_size=10).print_heuristic_matrix()"
   ]
  },
  {
   "cell_type": "markdown",
   "metadata": {},
   "source": [
    "#### __Przykładowa gra__\n",
    "plansza 3x3, wygrana przy 3 w rzędzie, głębokość 10 dla obu graczy (pełne pokrycie)"
   ]
  },
  {
   "cell_type": "code",
   "execution_count": 6,
   "metadata": {},
   "outputs": [
    {
     "data": {
      "text/markdown": [
       "<table>\n",
       "<tbody>\n",
       "<tr><td></td><td> </td><td></td></tr>\n",
       "<tr><td></td><td>X</td><td></td></tr>\n",
       "<tr><td></td><td> </td><td></td></tr>\n",
       "</tbody>\n",
       "</table>"
      ],
      "text/plain": [
       "<IPython.core.display.Markdown object>"
      ]
     },
     "metadata": {},
     "output_type": "display_data"
    },
    {
     "data": {
      "text/markdown": [
       "<table>\n",
       "<tbody>\n",
       "<tr><td> </td><td> </td><td></td></tr>\n",
       "<tr><td> </td><td>X</td><td></td></tr>\n",
       "<tr><td>O</td><td> </td><td></td></tr>\n",
       "</tbody>\n",
       "</table>"
      ],
      "text/plain": [
       "<IPython.core.display.Markdown object>"
      ]
     },
     "metadata": {},
     "output_type": "display_data"
    },
    {
     "data": {
      "text/markdown": [
       "<table>\n",
       "<tbody>\n",
       "<tr><td> </td><td> </td><td></td></tr>\n",
       "<tr><td>X</td><td>X</td><td></td></tr>\n",
       "<tr><td>O</td><td> </td><td></td></tr>\n",
       "</tbody>\n",
       "</table>"
      ],
      "text/plain": [
       "<IPython.core.display.Markdown object>"
      ]
     },
     "metadata": {},
     "output_type": "display_data"
    },
    {
     "data": {
      "text/markdown": [
       "<table>\n",
       "<tbody>\n",
       "<tr><td> </td><td> </td><td> </td></tr>\n",
       "<tr><td>X</td><td>X</td><td>O</td></tr>\n",
       "<tr><td>O</td><td> </td><td> </td></tr>\n",
       "</tbody>\n",
       "</table>"
      ],
      "text/plain": [
       "<IPython.core.display.Markdown object>"
      ]
     },
     "metadata": {},
     "output_type": "display_data"
    },
    {
     "data": {
      "text/markdown": [
       "<table>\n",
       "<tbody>\n",
       "<tr><td> </td><td> </td><td> </td></tr>\n",
       "<tr><td>X</td><td>X</td><td>O</td></tr>\n",
       "<tr><td>O</td><td> </td><td>X</td></tr>\n",
       "</tbody>\n",
       "</table>"
      ],
      "text/plain": [
       "<IPython.core.display.Markdown object>"
      ]
     },
     "metadata": {},
     "output_type": "display_data"
    },
    {
     "data": {
      "text/markdown": [
       "<table>\n",
       "<tbody>\n",
       "<tr><td>O</td><td> </td><td> </td></tr>\n",
       "<tr><td>X</td><td>X</td><td>O</td></tr>\n",
       "<tr><td>O</td><td> </td><td>X</td></tr>\n",
       "</tbody>\n",
       "</table>"
      ],
      "text/plain": [
       "<IPython.core.display.Markdown object>"
      ]
     },
     "metadata": {},
     "output_type": "display_data"
    },
    {
     "data": {
      "text/markdown": [
       "<table>\n",
       "<tbody>\n",
       "<tr><td>O</td><td>X</td><td> </td></tr>\n",
       "<tr><td>X</td><td>X</td><td>O</td></tr>\n",
       "<tr><td>O</td><td> </td><td>X</td></tr>\n",
       "</tbody>\n",
       "</table>"
      ],
      "text/plain": [
       "<IPython.core.display.Markdown object>"
      ]
     },
     "metadata": {},
     "output_type": "display_data"
    },
    {
     "data": {
      "text/markdown": [
       "<table>\n",
       "<tbody>\n",
       "<tr><td>O</td><td>X</td><td> </td></tr>\n",
       "<tr><td>X</td><td>X</td><td>O</td></tr>\n",
       "<tr><td>O</td><td>O</td><td>X</td></tr>\n",
       "</tbody>\n",
       "</table>"
      ],
      "text/plain": [
       "<IPython.core.display.Markdown object>"
      ]
     },
     "metadata": {},
     "output_type": "display_data"
    },
    {
     "data": {
      "text/markdown": [
       "<table>\n",
       "<tbody>\n",
       "<tr><td>O</td><td>X</td><td>X</td></tr>\n",
       "<tr><td>X</td><td>X</td><td>O</td></tr>\n",
       "<tr><td>O</td><td>O</td><td>X</td></tr>\n",
       "</tbody>\n",
       "</table>"
      ],
      "text/plain": [
       "<IPython.core.display.Markdown object>"
      ]
     },
     "metadata": {},
     "output_type": "display_data"
    },
    {
     "data": {
      "text/plain": [
       "'draw'"
      ]
     },
     "execution_count": 6,
     "metadata": {},
     "output_type": "execute_result"
    }
   ],
   "source": [
    "game = Game(min_max_a_b, min_max_a_b, 3, 3, 3, 3)\n",
    "game.run_print()"
   ]
  },
  {
   "cell_type": "markdown",
   "metadata": {},
   "source": [
    "#### __Kod generujący wykresy__"
   ]
  },
  {
   "cell_type": "code",
   "execution_count": 7,
   "metadata": {},
   "outputs": [
    {
     "ename": "KeyboardInterrupt",
     "evalue": "",
     "output_type": "error",
     "traceback": [
      "\u001b[1;31m---------------------------------------------------------------------------\u001b[0m",
      "\u001b[1;31mKeyboardInterrupt\u001b[0m                         Traceback (most recent call last)",
      "Cell \u001b[1;32mIn [7], line 9\u001b[0m\n\u001b[0;32m      7\u001b[0m \u001b[39mfor\u001b[39;00m x, y \u001b[39min\u001b[39;00m pairs:\n\u001b[0;32m      8\u001b[0m     g \u001b[39m=\u001b[39m Game(min_max_a_b, min_max_a_b, x, y, BOARD_SIZE, WIN_LENGTH)\n\u001b[1;32m----> 9\u001b[0m     df[\u001b[39mf\u001b[39m\u001b[39m'\u001b[39m\u001b[39mmax: \u001b[39m\u001b[39m{\u001b[39;00mx\u001b[39m}\u001b[39;00m\u001b[39m, min: \u001b[39m\u001b[39m{\u001b[39;00my\u001b[39m}\u001b[39;00m\u001b[39m'\u001b[39m] \u001b[39m=\u001b[39m [g\u001b[39m.\u001b[39mrun_reset() \u001b[39mfor\u001b[39;00m _ \u001b[39min\u001b[39;00m \u001b[39mrange\u001b[39m(RUN_AMOUNT)]\n\u001b[0;32m     10\u001b[0m df\n",
      "Cell \u001b[1;32mIn [7], line 9\u001b[0m, in \u001b[0;36m<listcomp>\u001b[1;34m(.0)\u001b[0m\n\u001b[0;32m      7\u001b[0m \u001b[39mfor\u001b[39;00m x, y \u001b[39min\u001b[39;00m pairs:\n\u001b[0;32m      8\u001b[0m     g \u001b[39m=\u001b[39m Game(min_max_a_b, min_max_a_b, x, y, BOARD_SIZE, WIN_LENGTH)\n\u001b[1;32m----> 9\u001b[0m     df[\u001b[39mf\u001b[39m\u001b[39m'\u001b[39m\u001b[39mmax: \u001b[39m\u001b[39m{\u001b[39;00mx\u001b[39m}\u001b[39;00m\u001b[39m, min: \u001b[39m\u001b[39m{\u001b[39;00my\u001b[39m}\u001b[39;00m\u001b[39m'\u001b[39m] \u001b[39m=\u001b[39m [g\u001b[39m.\u001b[39;49mrun_reset() \u001b[39mfor\u001b[39;00m _ \u001b[39min\u001b[39;00m \u001b[39mrange\u001b[39m(RUN_AMOUNT)]\n\u001b[0;32m     10\u001b[0m df\n",
      "Cell \u001b[1;32mIn [3], line 62\u001b[0m, in \u001b[0;36mGame.run_reset\u001b[1;34m(self)\u001b[0m\n\u001b[0;32m     61\u001b[0m \u001b[39mdef\u001b[39;00m \u001b[39mrun_reset\u001b[39m(\u001b[39mself\u001b[39m):\n\u001b[1;32m---> 62\u001b[0m     outcome \u001b[39m=\u001b[39m \u001b[39mself\u001b[39;49m\u001b[39m.\u001b[39;49mrun()\n\u001b[0;32m     63\u001b[0m     \u001b[39mself\u001b[39m\u001b[39m.\u001b[39mreset()\n\u001b[0;32m     64\u001b[0m     \u001b[39mreturn\u001b[39;00m outcome\n",
      "Cell \u001b[1;32mIn [3], line 44\u001b[0m, in \u001b[0;36mGame.run\u001b[1;34m(self)\u001b[0m\n\u001b[0;32m     41\u001b[0m \u001b[39mdef\u001b[39;00m \u001b[39mrun\u001b[39m(\u001b[39mself\u001b[39m):\n\u001b[0;32m     42\u001b[0m     \u001b[39mwhile\u001b[39;00m \u001b[39mnot\u001b[39;00m \u001b[39mself\u001b[39m\u001b[39m.\u001b[39m_board_ops\u001b[39m.\u001b[39mgame_over(\u001b[39mself\u001b[39m\u001b[39m.\u001b[39m_board) \u001b[39mand\u001b[39;00m \\\n\u001b[0;32m     43\u001b[0m         \u001b[39mself\u001b[39m\u001b[39m.\u001b[39m_board_ops\u001b[39m.\u001b[39mget_possible_moves(\u001b[39mself\u001b[39m\u001b[39m.\u001b[39m_board):\n\u001b[1;32m---> 44\u001b[0m             \u001b[39mself\u001b[39;49m\u001b[39m.\u001b[39;49mmake_move()\n\u001b[0;32m     46\u001b[0m     \u001b[39mreturn\u001b[39;00m \u001b[39mself\u001b[39m\u001b[39m.\u001b[39m_board_ops\u001b[39m.\u001b[39mget_win_score(\u001b[39mself\u001b[39m\u001b[39m.\u001b[39m_board)\n",
      "Cell \u001b[1;32mIn [3], line 27\u001b[0m, in \u001b[0;36mGame.make_move\u001b[1;34m(self)\u001b[0m\n\u001b[0;32m     25\u001b[0m \u001b[39mdef\u001b[39;00m \u001b[39mmake_move\u001b[39m(\u001b[39mself\u001b[39m):\n\u001b[0;32m     26\u001b[0m     \u001b[39mif\u001b[39;00m \u001b[39mself\u001b[39m\u001b[39m.\u001b[39mis_max_move():\n\u001b[1;32m---> 27\u001b[0m         \u001b[39mself\u001b[39m\u001b[39m.\u001b[39m_board_ops\u001b[39m.\u001b[39mset_max(\u001b[39mself\u001b[39m\u001b[39m.\u001b[39m_board, \u001b[39m*\u001b[39m\u001b[39mself\u001b[39;49m\u001b[39m.\u001b[39;49m_max_algorithm(\u001b[39mself\u001b[39;49m\u001b[39m.\u001b[39;49m_board, \n\u001b[0;32m     28\u001b[0m                                                           \u001b[39mTrue\u001b[39;49;00m, \n\u001b[0;32m     29\u001b[0m                                                           \u001b[39mself\u001b[39;49m\u001b[39m.\u001b[39;49m_board_ops, \n\u001b[0;32m     30\u001b[0m                                                           \u001b[39mself\u001b[39;49m\u001b[39m.\u001b[39;49m_max_player_depth))\n\u001b[0;32m     31\u001b[0m     \u001b[39melse\u001b[39;00m:\n\u001b[0;32m     32\u001b[0m         \u001b[39mself\u001b[39m\u001b[39m.\u001b[39m_board_ops\u001b[39m.\u001b[39mset_min(\u001b[39mself\u001b[39m\u001b[39m.\u001b[39m_board, \u001b[39m*\u001b[39m\u001b[39mself\u001b[39m\u001b[39m.\u001b[39m_min_algorithm(\u001b[39mself\u001b[39m\u001b[39m.\u001b[39m_board, \n\u001b[0;32m     33\u001b[0m                                                           \u001b[39mFalse\u001b[39;00m, \n\u001b[0;32m     34\u001b[0m                                                           \u001b[39mself\u001b[39m\u001b[39m.\u001b[39m_board_ops, \n\u001b[0;32m     35\u001b[0m                                                           \u001b[39mself\u001b[39m\u001b[39m.\u001b[39m_min_player_depth))\n",
      "Cell \u001b[1;32mIn [4], line 31\u001b[0m, in \u001b[0;36mmin_max_a_b\u001b[1;34m(board, max_move, board_ops, max_depth, payout)\u001b[0m\n\u001b[0;32m     29\u001b[0m possible_moves \u001b[39m=\u001b[39m board_ops\u001b[39m.\u001b[39mget_possible_moves(board)\n\u001b[0;32m     30\u001b[0m \u001b[39mif\u001b[39;00m max_move:\n\u001b[1;32m---> 31\u001b[0m     moves_grades \u001b[39m=\u001b[39m [(move, recurr(board_ops\u001b[39m.\u001b[39mnew_on_max(board, \u001b[39m*\u001b[39mmove), \u001b[39mFalse\u001b[39;00m, \u001b[39m0\u001b[39m, \u001b[39m-\u001b[39mmath\u001b[39m.\u001b[39minf, math\u001b[39m.\u001b[39minf))\n\u001b[0;32m     32\u001b[0m                     \u001b[39mfor\u001b[39;00m move \u001b[39min\u001b[39;00m possible_moves]\n\u001b[0;32m     33\u001b[0m     maxes \u001b[39m=\u001b[39m [move \u001b[39mfor\u001b[39;00m move, grade \u001b[39min\u001b[39;00m moves_grades \u001b[39mif\u001b[39;00m grade \u001b[39m==\u001b[39m \u001b[39mmax\u001b[39m(moves_grades, key\u001b[39m=\u001b[39m\u001b[39mlambda\u001b[39;00m x: x[\u001b[39m1\u001b[39m])[\u001b[39m1\u001b[39m]]\n\u001b[0;32m     34\u001b[0m     \u001b[39mreturn\u001b[39;00m RNG\u001b[39m.\u001b[39mchoice(maxes)\n",
      "Cell \u001b[1;32mIn [4], line 31\u001b[0m, in \u001b[0;36m<listcomp>\u001b[1;34m(.0)\u001b[0m\n\u001b[0;32m     29\u001b[0m possible_moves \u001b[39m=\u001b[39m board_ops\u001b[39m.\u001b[39mget_possible_moves(board)\n\u001b[0;32m     30\u001b[0m \u001b[39mif\u001b[39;00m max_move:\n\u001b[1;32m---> 31\u001b[0m     moves_grades \u001b[39m=\u001b[39m [(move, recurr(board_ops\u001b[39m.\u001b[39;49mnew_on_max(board, \u001b[39m*\u001b[39;49mmove), \u001b[39mFalse\u001b[39;49;00m, \u001b[39m0\u001b[39;49m, \u001b[39m-\u001b[39;49mmath\u001b[39m.\u001b[39;49minf, math\u001b[39m.\u001b[39;49minf))\n\u001b[0;32m     32\u001b[0m                     \u001b[39mfor\u001b[39;00m move \u001b[39min\u001b[39;00m possible_moves]\n\u001b[0;32m     33\u001b[0m     maxes \u001b[39m=\u001b[39m [move \u001b[39mfor\u001b[39;00m move, grade \u001b[39min\u001b[39;00m moves_grades \u001b[39mif\u001b[39;00m grade \u001b[39m==\u001b[39m \u001b[39mmax\u001b[39m(moves_grades, key\u001b[39m=\u001b[39m\u001b[39mlambda\u001b[39;00m x: x[\u001b[39m1\u001b[39m])[\u001b[39m1\u001b[39m]]\n\u001b[0;32m     34\u001b[0m     \u001b[39mreturn\u001b[39;00m RNG\u001b[39m.\u001b[39mchoice(maxes)\n",
      "Cell \u001b[1;32mIn [4], line 23\u001b[0m, in \u001b[0;36mmin_max_a_b.<locals>.recurr\u001b[1;34m(board, max_move, depth, alfa, beta)\u001b[0m\n\u001b[0;32m     21\u001b[0m value \u001b[39m=\u001b[39m math\u001b[39m.\u001b[39minf\n\u001b[0;32m     22\u001b[0m \u001b[39mfor\u001b[39;00m move \u001b[39min\u001b[39;00m possible_moves:\n\u001b[1;32m---> 23\u001b[0m     value \u001b[39m=\u001b[39m \u001b[39mmin\u001b[39m(value, recurr(board_ops\u001b[39m.\u001b[39;49mnew_on_min(board, \u001b[39m*\u001b[39;49mmove), \u001b[39mTrue\u001b[39;49;00m, depth \u001b[39m+\u001b[39;49m \u001b[39m1\u001b[39;49m, alfa, beta))\n\u001b[0;32m     24\u001b[0m     beta \u001b[39m=\u001b[39m \u001b[39mmin\u001b[39m(beta, value)\n\u001b[0;32m     25\u001b[0m     \u001b[39mif\u001b[39;00m value \u001b[39m<\u001b[39m\u001b[39m=\u001b[39m alfa:\n",
      "Cell \u001b[1;32mIn [4], line 16\u001b[0m, in \u001b[0;36mmin_max_a_b.<locals>.recurr\u001b[1;34m(board, max_move, depth, alfa, beta)\u001b[0m\n\u001b[0;32m     14\u001b[0m value \u001b[39m=\u001b[39m \u001b[39m-\u001b[39mmath\u001b[39m.\u001b[39minf\n\u001b[0;32m     15\u001b[0m \u001b[39mfor\u001b[39;00m move \u001b[39min\u001b[39;00m possible_moves:\n\u001b[1;32m---> 16\u001b[0m     value \u001b[39m=\u001b[39m \u001b[39mmax\u001b[39m(value, recurr(board_ops\u001b[39m.\u001b[39;49mnew_on_max(board, \u001b[39m*\u001b[39;49mmove), \u001b[39mFalse\u001b[39;49;00m, depth \u001b[39m+\u001b[39;49m \u001b[39m1\u001b[39;49m, alfa, beta))\n\u001b[0;32m     17\u001b[0m     alfa \u001b[39m=\u001b[39m \u001b[39mmax\u001b[39m(alfa, value)\n\u001b[0;32m     18\u001b[0m     \u001b[39mif\u001b[39;00m value \u001b[39m>\u001b[39m\u001b[39m=\u001b[39m beta:\n",
      "Cell \u001b[1;32mIn [4], line 23\u001b[0m, in \u001b[0;36mmin_max_a_b.<locals>.recurr\u001b[1;34m(board, max_move, depth, alfa, beta)\u001b[0m\n\u001b[0;32m     21\u001b[0m value \u001b[39m=\u001b[39m math\u001b[39m.\u001b[39minf\n\u001b[0;32m     22\u001b[0m \u001b[39mfor\u001b[39;00m move \u001b[39min\u001b[39;00m possible_moves:\n\u001b[1;32m---> 23\u001b[0m     value \u001b[39m=\u001b[39m \u001b[39mmin\u001b[39m(value, recurr(board_ops\u001b[39m.\u001b[39;49mnew_on_min(board, \u001b[39m*\u001b[39;49mmove), \u001b[39mTrue\u001b[39;49;00m, depth \u001b[39m+\u001b[39;49m \u001b[39m1\u001b[39;49m, alfa, beta))\n\u001b[0;32m     24\u001b[0m     beta \u001b[39m=\u001b[39m \u001b[39mmin\u001b[39m(beta, value)\n\u001b[0;32m     25\u001b[0m     \u001b[39mif\u001b[39;00m value \u001b[39m<\u001b[39m\u001b[39m=\u001b[39m alfa:\n",
      "Cell \u001b[1;32mIn [4], line 4\u001b[0m, in \u001b[0;36mmin_max_a_b.<locals>.recurr\u001b[1;34m(board, max_move, depth, alfa, beta)\u001b[0m\n\u001b[0;32m      3\u001b[0m \u001b[39mdef\u001b[39;00m \u001b[39mrecurr\u001b[39m(board, max_move, depth, alfa, beta):\n\u001b[1;32m----> 4\u001b[0m     \u001b[39mif\u001b[39;00m board_ops\u001b[39m.\u001b[39;49mgame_over(board):\n\u001b[0;32m      5\u001b[0m         \u001b[39mif\u001b[39;00m max_move:\n\u001b[0;32m      6\u001b[0m             \u001b[39mreturn\u001b[39;00m \u001b[39m-\u001b[39mpayout\n",
      "Cell \u001b[1;32mIn [2], line 100\u001b[0m, in \u001b[0;36mBoardOps.game_over\u001b[1;34m(self, board)\u001b[0m\n\u001b[0;32m     96\u001b[0m \u001b[39mdef\u001b[39;00m \u001b[39mgame_over\u001b[39m(\u001b[39mself\u001b[39m, board):\n\u001b[0;32m     97\u001b[0m     all_sequences \u001b[39m=\u001b[39m (board\u001b[39m.\u001b[39mtolist() \u001b[39m+\u001b[39m \n\u001b[0;32m     98\u001b[0m                      np\u001b[39m.\u001b[39mtranspose(board)\u001b[39m.\u001b[39mtolist() \u001b[39m+\u001b[39m \n\u001b[0;32m     99\u001b[0m                      [board\u001b[39m.\u001b[39mdiagonal(i)\u001b[39m.\u001b[39mtolist() \u001b[39mfor\u001b[39;00m i \u001b[39min\u001b[39;00m \u001b[39mrange\u001b[39m(\u001b[39m-\u001b[39mnp\u001b[39m.\u001b[39mshape(board)[\u001b[39m0\u001b[39m]\u001b[39m+\u001b[39m\u001b[39m1\u001b[39m, np\u001b[39m.\u001b[39mshape(board)[\u001b[39m1\u001b[39m])] \u001b[39m+\u001b[39m\n\u001b[1;32m--> 100\u001b[0m                      [np\u001b[39m.\u001b[39mflip(board, axis\u001b[39m=\u001b[39m\u001b[39m1\u001b[39m)\u001b[39m.\u001b[39mdiagonal(i)\u001b[39m.\u001b[39mtolist() \u001b[39mfor\u001b[39;00m i \u001b[39min\u001b[39;00m \u001b[39mrange\u001b[39m(\u001b[39m-\u001b[39mnp\u001b[39m.\u001b[39mshape(board)[\u001b[39m0\u001b[39m], np\u001b[39m.\u001b[39mshape(board)[\u001b[39m1\u001b[39m])])\n\u001b[0;32m    101\u001b[0m     \u001b[39mfor\u001b[39;00m seq \u001b[39min\u001b[39;00m all_sequences:\n\u001b[0;32m    102\u001b[0m         x \u001b[39m=\u001b[39m \u001b[39mself\u001b[39m\u001b[39m.\u001b[39m_check_state(seq)\n",
      "Cell \u001b[1;32mIn [2], line 100\u001b[0m, in \u001b[0;36m<listcomp>\u001b[1;34m(.0)\u001b[0m\n\u001b[0;32m     96\u001b[0m \u001b[39mdef\u001b[39;00m \u001b[39mgame_over\u001b[39m(\u001b[39mself\u001b[39m, board):\n\u001b[0;32m     97\u001b[0m     all_sequences \u001b[39m=\u001b[39m (board\u001b[39m.\u001b[39mtolist() \u001b[39m+\u001b[39m \n\u001b[0;32m     98\u001b[0m                      np\u001b[39m.\u001b[39mtranspose(board)\u001b[39m.\u001b[39mtolist() \u001b[39m+\u001b[39m \n\u001b[0;32m     99\u001b[0m                      [board\u001b[39m.\u001b[39mdiagonal(i)\u001b[39m.\u001b[39mtolist() \u001b[39mfor\u001b[39;00m i \u001b[39min\u001b[39;00m \u001b[39mrange\u001b[39m(\u001b[39m-\u001b[39mnp\u001b[39m.\u001b[39mshape(board)[\u001b[39m0\u001b[39m]\u001b[39m+\u001b[39m\u001b[39m1\u001b[39m, np\u001b[39m.\u001b[39mshape(board)[\u001b[39m1\u001b[39m])] \u001b[39m+\u001b[39m\n\u001b[1;32m--> 100\u001b[0m                      [np\u001b[39m.\u001b[39;49mflip(board, axis\u001b[39m=\u001b[39;49m\u001b[39m1\u001b[39;49m)\u001b[39m.\u001b[39mdiagonal(i)\u001b[39m.\u001b[39mtolist() \u001b[39mfor\u001b[39;00m i \u001b[39min\u001b[39;00m \u001b[39mrange\u001b[39m(\u001b[39m-\u001b[39mnp\u001b[39m.\u001b[39mshape(board)[\u001b[39m0\u001b[39m], np\u001b[39m.\u001b[39mshape(board)[\u001b[39m1\u001b[39m])])\n\u001b[0;32m    101\u001b[0m     \u001b[39mfor\u001b[39;00m seq \u001b[39min\u001b[39;00m all_sequences:\n\u001b[0;32m    102\u001b[0m         x \u001b[39m=\u001b[39m \u001b[39mself\u001b[39m\u001b[39m.\u001b[39m_check_state(seq)\n",
      "File \u001b[1;32m<__array_function__ internals>:180\u001b[0m, in \u001b[0;36mflip\u001b[1;34m(*args, **kwargs)\u001b[0m\n",
      "File \u001b[1;32mc:\\Users\\dziew\\AppData\\Local\\Programs\\Python\\Python310\\lib\\site-packages\\numpy\\lib\\function_base.py:341\u001b[0m, in \u001b[0;36mflip\u001b[1;34m(m, axis)\u001b[0m\n\u001b[0;32m    339\u001b[0m     indexer \u001b[39m=\u001b[39m [np\u001b[39m.\u001b[39ms_[:]] \u001b[39m*\u001b[39m m\u001b[39m.\u001b[39mndim\n\u001b[0;32m    340\u001b[0m     \u001b[39mfor\u001b[39;00m ax \u001b[39min\u001b[39;00m axis:\n\u001b[1;32m--> 341\u001b[0m         indexer[ax] \u001b[39m=\u001b[39m np\u001b[39m.\u001b[39ms_[::\u001b[39m-\u001b[39m\u001b[39m1\u001b[39m]\n\u001b[0;32m    342\u001b[0m     indexer \u001b[39m=\u001b[39m \u001b[39mtuple\u001b[39m(indexer)\n\u001b[0;32m    343\u001b[0m \u001b[39mreturn\u001b[39;00m m[indexer]\n",
      "\u001b[1;31mKeyboardInterrupt\u001b[0m: "
     ]
    }
   ],
   "source": [
    "RUN_AMOUNT = 10\n",
    "BOARD_SIZE = 5\n",
    "WIN_LENGTH = 5\n",
    "df = pd.DataFrame()\n",
    "\n",
    "pairs = list(permutations(range(4), 2)) + [(x, x) for x in range(5)]\n",
    "for x, y in pairs:\n",
    "    g = Game(min_max_a_b, min_max_a_b, x, y, BOARD_SIZE, WIN_LENGTH)\n",
    "    df[f'max: {x}, min: {y}'] = [g.run_reset() for _ in range(RUN_AMOUNT)]\n",
    "df"
   ]
  },
  {
   "cell_type": "code",
   "execution_count": null,
   "metadata": {},
   "outputs": [],
   "source": [
    "sum_df = pd.DataFrame()\n",
    "for c in df.columns:\n",
    "    dic = {'min': 0, 'max': 0, 'draw': 0}\n",
    "    for k, v  in df[c].value_counts().to_dict().items():\n",
    "        dic[k] = v\n",
    "    sum_df[c] = dic\n",
    "sum_df.fillna(value = 0, inplace = True)\n",
    "sum_df = sum_df.astype(int)\n",
    "sum_df = sum_df.T"
   ]
  },
  {
   "cell_type": "code",
   "execution_count": null,
   "metadata": {},
   "outputs": [
    {
     "data": {
      "application/vnd.plotly.v1+json": {
       "config": {
        "plotlyServerURL": "https://plot.ly"
       },
       "data": [
        {
         "alignmentgroup": "True",
         "hovertemplate": "variable=min<br>index=%{x}<br>value=%{y}<extra></extra>",
         "legendgroup": "min",
         "marker": {
          "color": "#636efa",
          "pattern": {
           "shape": ""
          }
         },
         "name": "min",
         "offsetgroup": "min",
         "orientation": "v",
         "showlegend": true,
         "textposition": "auto",
         "type": "bar",
         "x": [
          "max: 0, min: 1",
          "max: 0, min: 2",
          "max: 0, min: 3",
          "max: 0, min: 4",
          "max: 0, min: 5",
          "max: 0, min: 6",
          "max: 0, min: 7",
          "max: 0, min: 8",
          "max: 1, min: 0",
          "max: 1, min: 2",
          "max: 1, min: 3",
          "max: 1, min: 4",
          "max: 1, min: 5",
          "max: 1, min: 6",
          "max: 1, min: 7",
          "max: 1, min: 8",
          "max: 2, min: 0",
          "max: 2, min: 1",
          "max: 2, min: 3",
          "max: 2, min: 4",
          "max: 2, min: 5",
          "max: 2, min: 6",
          "max: 2, min: 7",
          "max: 2, min: 8",
          "max: 3, min: 0",
          "max: 3, min: 1",
          "max: 3, min: 2",
          "max: 3, min: 4",
          "max: 3, min: 5",
          "max: 3, min: 6",
          "max: 3, min: 7",
          "max: 3, min: 8",
          "max: 4, min: 0",
          "max: 4, min: 1",
          "max: 4, min: 2",
          "max: 4, min: 3",
          "max: 4, min: 5",
          "max: 4, min: 6",
          "max: 4, min: 7",
          "max: 4, min: 8",
          "max: 5, min: 0",
          "max: 5, min: 1",
          "max: 5, min: 2",
          "max: 5, min: 3",
          "max: 5, min: 4",
          "max: 5, min: 6",
          "max: 5, min: 7",
          "max: 5, min: 8",
          "max: 6, min: 0",
          "max: 6, min: 1",
          "max: 6, min: 2",
          "max: 6, min: 3",
          "max: 6, min: 4",
          "max: 6, min: 5",
          "max: 6, min: 7",
          "max: 6, min: 8",
          "max: 7, min: 0",
          "max: 7, min: 1",
          "max: 7, min: 2",
          "max: 7, min: 3",
          "max: 7, min: 4",
          "max: 7, min: 5",
          "max: 7, min: 6",
          "max: 7, min: 8",
          "max: 8, min: 0",
          "max: 8, min: 1",
          "max: 8, min: 2",
          "max: 8, min: 3",
          "max: 8, min: 4",
          "max: 8, min: 5",
          "max: 8, min: 6",
          "max: 8, min: 7",
          "max: 0, min: 0",
          "max: 1, min: 1",
          "max: 2, min: 2",
          "max: 3, min: 3",
          "max: 4, min: 4"
         ],
         "xaxis": "x",
         "y": [
          1,
          1,
          1,
          1,
          1,
          1,
          1,
          1,
          0,
          0,
          0,
          0,
          0,
          0,
          0,
          0,
          0,
          1,
          0,
          0,
          0,
          0,
          0,
          0,
          0,
          0,
          0,
          0,
          0,
          0,
          0,
          0,
          0,
          0,
          0,
          0,
          0,
          0,
          0,
          0,
          0,
          0,
          0,
          0,
          0,
          0,
          0,
          0,
          0,
          0,
          0,
          0,
          0,
          0,
          0,
          0,
          0,
          0,
          0,
          0,
          0,
          0,
          0,
          0,
          0,
          0,
          0,
          0,
          0,
          0,
          0,
          0,
          0,
          0,
          0,
          0,
          0
         ],
         "yaxis": "y"
        },
        {
         "alignmentgroup": "True",
         "hovertemplate": "variable=max<br>index=%{x}<br>value=%{y}<extra></extra>",
         "legendgroup": "max",
         "marker": {
          "color": "#EF553B",
          "pattern": {
           "shape": ""
          }
         },
         "name": "max",
         "offsetgroup": "max",
         "orientation": "v",
         "showlegend": true,
         "textposition": "auto",
         "type": "bar",
         "x": [
          "max: 0, min: 1",
          "max: 0, min: 2",
          "max: 0, min: 3",
          "max: 0, min: 4",
          "max: 0, min: 5",
          "max: 0, min: 6",
          "max: 0, min: 7",
          "max: 0, min: 8",
          "max: 1, min: 0",
          "max: 1, min: 2",
          "max: 1, min: 3",
          "max: 1, min: 4",
          "max: 1, min: 5",
          "max: 1, min: 6",
          "max: 1, min: 7",
          "max: 1, min: 8",
          "max: 2, min: 0",
          "max: 2, min: 1",
          "max: 2, min: 3",
          "max: 2, min: 4",
          "max: 2, min: 5",
          "max: 2, min: 6",
          "max: 2, min: 7",
          "max: 2, min: 8",
          "max: 3, min: 0",
          "max: 3, min: 1",
          "max: 3, min: 2",
          "max: 3, min: 4",
          "max: 3, min: 5",
          "max: 3, min: 6",
          "max: 3, min: 7",
          "max: 3, min: 8",
          "max: 4, min: 0",
          "max: 4, min: 1",
          "max: 4, min: 2",
          "max: 4, min: 3",
          "max: 4, min: 5",
          "max: 4, min: 6",
          "max: 4, min: 7",
          "max: 4, min: 8",
          "max: 5, min: 0",
          "max: 5, min: 1",
          "max: 5, min: 2",
          "max: 5, min: 3",
          "max: 5, min: 4",
          "max: 5, min: 6",
          "max: 5, min: 7",
          "max: 5, min: 8",
          "max: 6, min: 0",
          "max: 6, min: 1",
          "max: 6, min: 2",
          "max: 6, min: 3",
          "max: 6, min: 4",
          "max: 6, min: 5",
          "max: 6, min: 7",
          "max: 6, min: 8",
          "max: 7, min: 0",
          "max: 7, min: 1",
          "max: 7, min: 2",
          "max: 7, min: 3",
          "max: 7, min: 4",
          "max: 7, min: 5",
          "max: 7, min: 6",
          "max: 7, min: 8",
          "max: 8, min: 0",
          "max: 8, min: 1",
          "max: 8, min: 2",
          "max: 8, min: 3",
          "max: 8, min: 4",
          "max: 8, min: 5",
          "max: 8, min: 6",
          "max: 8, min: 7",
          "max: 0, min: 0",
          "max: 1, min: 1",
          "max: 2, min: 2",
          "max: 3, min: 3",
          "max: 4, min: 4"
         ],
         "xaxis": "x",
         "y": [
          0,
          0,
          0,
          0,
          0,
          0,
          0,
          0,
          1,
          0,
          0,
          0,
          0,
          0,
          0,
          0,
          1,
          0,
          0,
          0,
          0,
          0,
          0,
          0,
          1,
          0,
          0,
          0,
          0,
          0,
          0,
          0,
          1,
          0,
          0,
          0,
          0,
          0,
          0,
          0,
          1,
          0,
          0,
          0,
          0,
          0,
          0,
          0,
          1,
          0,
          0,
          0,
          0,
          0,
          0,
          0,
          1,
          0,
          0,
          0,
          0,
          0,
          0,
          0,
          1,
          0,
          0,
          0,
          0,
          0,
          0,
          0,
          1,
          0,
          0,
          0,
          0
         ],
         "yaxis": "y"
        },
        {
         "alignmentgroup": "True",
         "hovertemplate": "variable=draw<br>index=%{x}<br>value=%{y}<extra></extra>",
         "legendgroup": "draw",
         "marker": {
          "color": "#00cc96",
          "pattern": {
           "shape": ""
          }
         },
         "name": "draw",
         "offsetgroup": "draw",
         "orientation": "v",
         "showlegend": true,
         "textposition": "auto",
         "type": "bar",
         "x": [
          "max: 0, min: 1",
          "max: 0, min: 2",
          "max: 0, min: 3",
          "max: 0, min: 4",
          "max: 0, min: 5",
          "max: 0, min: 6",
          "max: 0, min: 7",
          "max: 0, min: 8",
          "max: 1, min: 0",
          "max: 1, min: 2",
          "max: 1, min: 3",
          "max: 1, min: 4",
          "max: 1, min: 5",
          "max: 1, min: 6",
          "max: 1, min: 7",
          "max: 1, min: 8",
          "max: 2, min: 0",
          "max: 2, min: 1",
          "max: 2, min: 3",
          "max: 2, min: 4",
          "max: 2, min: 5",
          "max: 2, min: 6",
          "max: 2, min: 7",
          "max: 2, min: 8",
          "max: 3, min: 0",
          "max: 3, min: 1",
          "max: 3, min: 2",
          "max: 3, min: 4",
          "max: 3, min: 5",
          "max: 3, min: 6",
          "max: 3, min: 7",
          "max: 3, min: 8",
          "max: 4, min: 0",
          "max: 4, min: 1",
          "max: 4, min: 2",
          "max: 4, min: 3",
          "max: 4, min: 5",
          "max: 4, min: 6",
          "max: 4, min: 7",
          "max: 4, min: 8",
          "max: 5, min: 0",
          "max: 5, min: 1",
          "max: 5, min: 2",
          "max: 5, min: 3",
          "max: 5, min: 4",
          "max: 5, min: 6",
          "max: 5, min: 7",
          "max: 5, min: 8",
          "max: 6, min: 0",
          "max: 6, min: 1",
          "max: 6, min: 2",
          "max: 6, min: 3",
          "max: 6, min: 4",
          "max: 6, min: 5",
          "max: 6, min: 7",
          "max: 6, min: 8",
          "max: 7, min: 0",
          "max: 7, min: 1",
          "max: 7, min: 2",
          "max: 7, min: 3",
          "max: 7, min: 4",
          "max: 7, min: 5",
          "max: 7, min: 6",
          "max: 7, min: 8",
          "max: 8, min: 0",
          "max: 8, min: 1",
          "max: 8, min: 2",
          "max: 8, min: 3",
          "max: 8, min: 4",
          "max: 8, min: 5",
          "max: 8, min: 6",
          "max: 8, min: 7",
          "max: 0, min: 0",
          "max: 1, min: 1",
          "max: 2, min: 2",
          "max: 3, min: 3",
          "max: 4, min: 4"
         ],
         "xaxis": "x",
         "y": [
          0,
          0,
          0,
          0,
          0,
          0,
          0,
          0,
          0,
          1,
          1,
          1,
          1,
          1,
          1,
          1,
          0,
          0,
          1,
          1,
          1,
          1,
          1,
          1,
          0,
          1,
          1,
          1,
          1,
          1,
          1,
          1,
          0,
          1,
          1,
          1,
          1,
          1,
          1,
          1,
          0,
          1,
          1,
          1,
          1,
          1,
          1,
          1,
          0,
          1,
          1,
          1,
          1,
          1,
          1,
          1,
          0,
          1,
          1,
          1,
          1,
          1,
          1,
          1,
          0,
          1,
          1,
          1,
          1,
          1,
          1,
          1,
          0,
          1,
          1,
          1,
          1
         ],
         "yaxis": "y"
        }
       ],
       "layout": {
        "barmode": "group",
        "legend": {
         "title": {
          "text": "variable"
         },
         "tracegroupgap": 0
        },
        "margin": {
         "t": 60
        },
        "template": {
         "data": {
          "bar": [
           {
            "error_x": {
             "color": "#f2f5fa"
            },
            "error_y": {
             "color": "#f2f5fa"
            },
            "marker": {
             "line": {
              "color": "rgb(17,17,17)",
              "width": 0.5
             },
             "pattern": {
              "fillmode": "overlay",
              "size": 10,
              "solidity": 0.2
             }
            },
            "type": "bar"
           }
          ],
          "barpolar": [
           {
            "marker": {
             "line": {
              "color": "rgb(17,17,17)",
              "width": 0.5
             },
             "pattern": {
              "fillmode": "overlay",
              "size": 10,
              "solidity": 0.2
             }
            },
            "type": "barpolar"
           }
          ],
          "carpet": [
           {
            "aaxis": {
             "endlinecolor": "#A2B1C6",
             "gridcolor": "#506784",
             "linecolor": "#506784",
             "minorgridcolor": "#506784",
             "startlinecolor": "#A2B1C6"
            },
            "baxis": {
             "endlinecolor": "#A2B1C6",
             "gridcolor": "#506784",
             "linecolor": "#506784",
             "minorgridcolor": "#506784",
             "startlinecolor": "#A2B1C6"
            },
            "type": "carpet"
           }
          ],
          "choropleth": [
           {
            "colorbar": {
             "outlinewidth": 0,
             "ticks": ""
            },
            "type": "choropleth"
           }
          ],
          "contour": [
           {
            "colorbar": {
             "outlinewidth": 0,
             "ticks": ""
            },
            "colorscale": [
             [
              0,
              "#0d0887"
             ],
             [
              0.1111111111111111,
              "#46039f"
             ],
             [
              0.2222222222222222,
              "#7201a8"
             ],
             [
              0.3333333333333333,
              "#9c179e"
             ],
             [
              0.4444444444444444,
              "#bd3786"
             ],
             [
              0.5555555555555556,
              "#d8576b"
             ],
             [
              0.6666666666666666,
              "#ed7953"
             ],
             [
              0.7777777777777778,
              "#fb9f3a"
             ],
             [
              0.8888888888888888,
              "#fdca26"
             ],
             [
              1,
              "#f0f921"
             ]
            ],
            "type": "contour"
           }
          ],
          "contourcarpet": [
           {
            "colorbar": {
             "outlinewidth": 0,
             "ticks": ""
            },
            "type": "contourcarpet"
           }
          ],
          "heatmap": [
           {
            "colorbar": {
             "outlinewidth": 0,
             "ticks": ""
            },
            "colorscale": [
             [
              0,
              "#0d0887"
             ],
             [
              0.1111111111111111,
              "#46039f"
             ],
             [
              0.2222222222222222,
              "#7201a8"
             ],
             [
              0.3333333333333333,
              "#9c179e"
             ],
             [
              0.4444444444444444,
              "#bd3786"
             ],
             [
              0.5555555555555556,
              "#d8576b"
             ],
             [
              0.6666666666666666,
              "#ed7953"
             ],
             [
              0.7777777777777778,
              "#fb9f3a"
             ],
             [
              0.8888888888888888,
              "#fdca26"
             ],
             [
              1,
              "#f0f921"
             ]
            ],
            "type": "heatmap"
           }
          ],
          "heatmapgl": [
           {
            "colorbar": {
             "outlinewidth": 0,
             "ticks": ""
            },
            "colorscale": [
             [
              0,
              "#0d0887"
             ],
             [
              0.1111111111111111,
              "#46039f"
             ],
             [
              0.2222222222222222,
              "#7201a8"
             ],
             [
              0.3333333333333333,
              "#9c179e"
             ],
             [
              0.4444444444444444,
              "#bd3786"
             ],
             [
              0.5555555555555556,
              "#d8576b"
             ],
             [
              0.6666666666666666,
              "#ed7953"
             ],
             [
              0.7777777777777778,
              "#fb9f3a"
             ],
             [
              0.8888888888888888,
              "#fdca26"
             ],
             [
              1,
              "#f0f921"
             ]
            ],
            "type": "heatmapgl"
           }
          ],
          "histogram": [
           {
            "marker": {
             "pattern": {
              "fillmode": "overlay",
              "size": 10,
              "solidity": 0.2
             }
            },
            "type": "histogram"
           }
          ],
          "histogram2d": [
           {
            "colorbar": {
             "outlinewidth": 0,
             "ticks": ""
            },
            "colorscale": [
             [
              0,
              "#0d0887"
             ],
             [
              0.1111111111111111,
              "#46039f"
             ],
             [
              0.2222222222222222,
              "#7201a8"
             ],
             [
              0.3333333333333333,
              "#9c179e"
             ],
             [
              0.4444444444444444,
              "#bd3786"
             ],
             [
              0.5555555555555556,
              "#d8576b"
             ],
             [
              0.6666666666666666,
              "#ed7953"
             ],
             [
              0.7777777777777778,
              "#fb9f3a"
             ],
             [
              0.8888888888888888,
              "#fdca26"
             ],
             [
              1,
              "#f0f921"
             ]
            ],
            "type": "histogram2d"
           }
          ],
          "histogram2dcontour": [
           {
            "colorbar": {
             "outlinewidth": 0,
             "ticks": ""
            },
            "colorscale": [
             [
              0,
              "#0d0887"
             ],
             [
              0.1111111111111111,
              "#46039f"
             ],
             [
              0.2222222222222222,
              "#7201a8"
             ],
             [
              0.3333333333333333,
              "#9c179e"
             ],
             [
              0.4444444444444444,
              "#bd3786"
             ],
             [
              0.5555555555555556,
              "#d8576b"
             ],
             [
              0.6666666666666666,
              "#ed7953"
             ],
             [
              0.7777777777777778,
              "#fb9f3a"
             ],
             [
              0.8888888888888888,
              "#fdca26"
             ],
             [
              1,
              "#f0f921"
             ]
            ],
            "type": "histogram2dcontour"
           }
          ],
          "mesh3d": [
           {
            "colorbar": {
             "outlinewidth": 0,
             "ticks": ""
            },
            "type": "mesh3d"
           }
          ],
          "parcoords": [
           {
            "line": {
             "colorbar": {
              "outlinewidth": 0,
              "ticks": ""
             }
            },
            "type": "parcoords"
           }
          ],
          "pie": [
           {
            "automargin": true,
            "type": "pie"
           }
          ],
          "scatter": [
           {
            "marker": {
             "line": {
              "color": "#283442"
             }
            },
            "type": "scatter"
           }
          ],
          "scatter3d": [
           {
            "line": {
             "colorbar": {
              "outlinewidth": 0,
              "ticks": ""
             }
            },
            "marker": {
             "colorbar": {
              "outlinewidth": 0,
              "ticks": ""
             }
            },
            "type": "scatter3d"
           }
          ],
          "scattercarpet": [
           {
            "marker": {
             "colorbar": {
              "outlinewidth": 0,
              "ticks": ""
             }
            },
            "type": "scattercarpet"
           }
          ],
          "scattergeo": [
           {
            "marker": {
             "colorbar": {
              "outlinewidth": 0,
              "ticks": ""
             }
            },
            "type": "scattergeo"
           }
          ],
          "scattergl": [
           {
            "marker": {
             "line": {
              "color": "#283442"
             }
            },
            "type": "scattergl"
           }
          ],
          "scattermapbox": [
           {
            "marker": {
             "colorbar": {
              "outlinewidth": 0,
              "ticks": ""
             }
            },
            "type": "scattermapbox"
           }
          ],
          "scatterpolar": [
           {
            "marker": {
             "colorbar": {
              "outlinewidth": 0,
              "ticks": ""
             }
            },
            "type": "scatterpolar"
           }
          ],
          "scatterpolargl": [
           {
            "marker": {
             "colorbar": {
              "outlinewidth": 0,
              "ticks": ""
             }
            },
            "type": "scatterpolargl"
           }
          ],
          "scatterternary": [
           {
            "marker": {
             "colorbar": {
              "outlinewidth": 0,
              "ticks": ""
             }
            },
            "type": "scatterternary"
           }
          ],
          "surface": [
           {
            "colorbar": {
             "outlinewidth": 0,
             "ticks": ""
            },
            "colorscale": [
             [
              0,
              "#0d0887"
             ],
             [
              0.1111111111111111,
              "#46039f"
             ],
             [
              0.2222222222222222,
              "#7201a8"
             ],
             [
              0.3333333333333333,
              "#9c179e"
             ],
             [
              0.4444444444444444,
              "#bd3786"
             ],
             [
              0.5555555555555556,
              "#d8576b"
             ],
             [
              0.6666666666666666,
              "#ed7953"
             ],
             [
              0.7777777777777778,
              "#fb9f3a"
             ],
             [
              0.8888888888888888,
              "#fdca26"
             ],
             [
              1,
              "#f0f921"
             ]
            ],
            "type": "surface"
           }
          ],
          "table": [
           {
            "cells": {
             "fill": {
              "color": "#506784"
             },
             "line": {
              "color": "rgb(17,17,17)"
             }
            },
            "header": {
             "fill": {
              "color": "#2a3f5f"
             },
             "line": {
              "color": "rgb(17,17,17)"
             }
            },
            "type": "table"
           }
          ]
         },
         "layout": {
          "annotationdefaults": {
           "arrowcolor": "#f2f5fa",
           "arrowhead": 0,
           "arrowwidth": 1
          },
          "autotypenumbers": "strict",
          "coloraxis": {
           "colorbar": {
            "outlinewidth": 0,
            "ticks": ""
           }
          },
          "colorscale": {
           "diverging": [
            [
             0,
             "#8e0152"
            ],
            [
             0.1,
             "#c51b7d"
            ],
            [
             0.2,
             "#de77ae"
            ],
            [
             0.3,
             "#f1b6da"
            ],
            [
             0.4,
             "#fde0ef"
            ],
            [
             0.5,
             "#f7f7f7"
            ],
            [
             0.6,
             "#e6f5d0"
            ],
            [
             0.7,
             "#b8e186"
            ],
            [
             0.8,
             "#7fbc41"
            ],
            [
             0.9,
             "#4d9221"
            ],
            [
             1,
             "#276419"
            ]
           ],
           "sequential": [
            [
             0,
             "#0d0887"
            ],
            [
             0.1111111111111111,
             "#46039f"
            ],
            [
             0.2222222222222222,
             "#7201a8"
            ],
            [
             0.3333333333333333,
             "#9c179e"
            ],
            [
             0.4444444444444444,
             "#bd3786"
            ],
            [
             0.5555555555555556,
             "#d8576b"
            ],
            [
             0.6666666666666666,
             "#ed7953"
            ],
            [
             0.7777777777777778,
             "#fb9f3a"
            ],
            [
             0.8888888888888888,
             "#fdca26"
            ],
            [
             1,
             "#f0f921"
            ]
           ],
           "sequentialminus": [
            [
             0,
             "#0d0887"
            ],
            [
             0.1111111111111111,
             "#46039f"
            ],
            [
             0.2222222222222222,
             "#7201a8"
            ],
            [
             0.3333333333333333,
             "#9c179e"
            ],
            [
             0.4444444444444444,
             "#bd3786"
            ],
            [
             0.5555555555555556,
             "#d8576b"
            ],
            [
             0.6666666666666666,
             "#ed7953"
            ],
            [
             0.7777777777777778,
             "#fb9f3a"
            ],
            [
             0.8888888888888888,
             "#fdca26"
            ],
            [
             1,
             "#f0f921"
            ]
           ]
          },
          "colorway": [
           "#636efa",
           "#EF553B",
           "#00cc96",
           "#ab63fa",
           "#FFA15A",
           "#19d3f3",
           "#FF6692",
           "#B6E880",
           "#FF97FF",
           "#FECB52"
          ],
          "font": {
           "color": "#f2f5fa"
          },
          "geo": {
           "bgcolor": "rgb(17,17,17)",
           "lakecolor": "rgb(17,17,17)",
           "landcolor": "rgb(17,17,17)",
           "showlakes": true,
           "showland": true,
           "subunitcolor": "#506784"
          },
          "hoverlabel": {
           "align": "left"
          },
          "hovermode": "closest",
          "mapbox": {
           "style": "dark"
          },
          "paper_bgcolor": "rgb(17,17,17)",
          "plot_bgcolor": "rgb(17,17,17)",
          "polar": {
           "angularaxis": {
            "gridcolor": "#506784",
            "linecolor": "#506784",
            "ticks": ""
           },
           "bgcolor": "rgb(17,17,17)",
           "radialaxis": {
            "gridcolor": "#506784",
            "linecolor": "#506784",
            "ticks": ""
           }
          },
          "scene": {
           "xaxis": {
            "backgroundcolor": "rgb(17,17,17)",
            "gridcolor": "#506784",
            "gridwidth": 2,
            "linecolor": "#506784",
            "showbackground": true,
            "ticks": "",
            "zerolinecolor": "#C8D4E3"
           },
           "yaxis": {
            "backgroundcolor": "rgb(17,17,17)",
            "gridcolor": "#506784",
            "gridwidth": 2,
            "linecolor": "#506784",
            "showbackground": true,
            "ticks": "",
            "zerolinecolor": "#C8D4E3"
           },
           "zaxis": {
            "backgroundcolor": "rgb(17,17,17)",
            "gridcolor": "#506784",
            "gridwidth": 2,
            "linecolor": "#506784",
            "showbackground": true,
            "ticks": "",
            "zerolinecolor": "#C8D4E3"
           }
          },
          "shapedefaults": {
           "line": {
            "color": "#f2f5fa"
           }
          },
          "sliderdefaults": {
           "bgcolor": "#C8D4E3",
           "bordercolor": "rgb(17,17,17)",
           "borderwidth": 1,
           "tickwidth": 0
          },
          "ternary": {
           "aaxis": {
            "gridcolor": "#506784",
            "linecolor": "#506784",
            "ticks": ""
           },
           "baxis": {
            "gridcolor": "#506784",
            "linecolor": "#506784",
            "ticks": ""
           },
           "bgcolor": "rgb(17,17,17)",
           "caxis": {
            "gridcolor": "#506784",
            "linecolor": "#506784",
            "ticks": ""
           }
          },
          "title": {
           "x": 0.05
          },
          "updatemenudefaults": {
           "bgcolor": "#506784",
           "borderwidth": 0
          },
          "xaxis": {
           "automargin": true,
           "gridcolor": "#283442",
           "linecolor": "#506784",
           "ticks": "",
           "title": {
            "standoff": 15
           },
           "zerolinecolor": "#283442",
           "zerolinewidth": 2
          },
          "yaxis": {
           "automargin": true,
           "gridcolor": "#283442",
           "linecolor": "#506784",
           "ticks": "",
           "title": {
            "standoff": 15
           },
           "zerolinecolor": "#283442",
           "zerolinewidth": 2
          }
         }
        },
        "title": {
         "text": "Results of 1 games on 3x3 board (3 in a row to win) with given search depths"
        },
        "xaxis": {
         "anchor": "y",
         "domain": [
          0,
          1
         ],
         "title": {
          "text": "Depth configurtation"
         }
        },
        "yaxis": {
         "anchor": "x",
         "domain": [
          0,
          1
         ],
         "title": {
          "text": "Result amount"
         }
        }
       }
      }
     },
     "metadata": {},
     "output_type": "display_data"
    }
   ],
   "source": [
    "fig = px.bar(sum_df, barmode='group', template='plotly_dark')\n",
    "layout = go.Layout(title=f'Results of {RUN_AMOUNT} games on {BOARD_SIZE}x{BOARD_SIZE} board ({WIN_LENGTH} in a row to win) with given search depths',\n",
    "                   yaxis=dict(title='Result amount'),\n",
    "                   xaxis=dict(title='Depth configurtation'))\n",
    "fig.update_layout(layout)\n",
    "fig.show()"
   ]
  },
  {
   "cell_type": "markdown",
   "metadata": {},
   "source": [
    "#### __Analiza wydajności algorytmu min-max z funkcją odcięcia alfa-beta w zależności od głębokości przeszukiwania__"
   ]
  },
  {
   "cell_type": "markdown",
   "metadata": {},
   "source": [
    "Na poniższych wykresach zamieściłem statystyki meczów rozgrywanych między graczami o różnych głębokościach algorytmu min-max."
   ]
  },
  {
   "cell_type": "code",
   "execution_count": null,
   "metadata": {},
   "outputs": [
    {
     "data": {
      "image/png": "[encoded data removed]",
      "text/plain": [
       "<IPython.core.display.Image object>"
      ]
     },
     "execution_count": 87,
     "metadata": {},
     "output_type": "execute_result"
    }
   ],
   "source": [
    "Image(\"images/3x3(3).png\")"
   ]
  },
  {
   "cell_type": "code",
   "execution_count": null,
   "metadata": {},
   "outputs": [
    {
     "data": {
      "image/png": "[encoded data removed]",
      "text/plain": [
       "<IPython.core.display.Image object>"
      ]
     },
     "execution_count": 89,
     "metadata": {},
     "output_type": "execute_result"
    }
   ],
   "source": [
    "Image(\"images/4x4(4).png\")"
   ]
  },
  {
   "cell_type": "code",
   "execution_count": null,
   "metadata": {},
   "outputs": [
    {
     "data": {
      "image/png": "[encoded data removed]",
      "text/plain": [
       "<IPython.core.display.Image object>"
      ]
     },
     "execution_count": 90,
     "metadata": {},
     "output_type": "execute_result"
    }
   ],
   "source": [
    "Image(\"images/3x3(3)(0-9).png\")"
   ]
  },
  {
   "cell_type": "markdown",
   "metadata": {},
   "source": [
    "__Wnioski__"
   ]
  },
  {
   "cell_type": "markdown",
   "metadata": {},
   "source": [
    "Zaimplementowany algorytm, co wydaje się logiczne, wygrywa gry częsciej kiedy głębokość przeszukiwania jest większa niż jego przeciwnika. Jednak przy większych głębokościach oraz, w szczególności, ograniczonych przestrzeniach, różnice w głębokości przeszukwiwania rzędu 1-4 mają znikomy wpływ na wyniki. Jest to najprawdopodobniej związane z zasadami rozwiązywanej gry, oraz z niewielką ilością możliwości wygranej. Gracze nawet z małą głębokością przeszukiwania są w stanie skutecznie zapobiec swojej porażce już przy głębokości rzędu 3. Zastanawiający wydaje się także model funkcji heurystycznej. Lepszym rozwiązaniem niż to zaproponowane na wykładzie, byłoby zaimplementowanie dynamicznej heurysstyki, adaptującej się do aktualnie najlepszych ruchów (wyszukiwanie pól o najwyższym potencjale wygranej w aktualnej sytuacji)."
   ]
  }
 ],
 "metadata": {
  "kernelspec": {
   "display_name": "Python 3.10.7 64-bit",
   "language": "python",
   "name": "python3"
  },
  "language_info": {
   "codemirror_mode": {
    "name": "ipython",
    "version": 3
   },
   "file_extension": ".py",
   "mimetype": "text/x-python",
   "name": "python",
   "nbconvert_exporter": "python",
   "pygments_lexer": "ipython3",
   "version": "3.10.7"
  },
  "orig_nbformat": 4,
  "vscode": {
   "interpreter": {
    "hash": "fbf389827ae33fec18fdc4e599d3990b18d4bc31319807cf50234ebf69755d81"
   }
  }
 },
 "nbformat": 4,
 "nbformat_minor": 2
}
