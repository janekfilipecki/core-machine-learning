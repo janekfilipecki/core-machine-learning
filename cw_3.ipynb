{
 "cells": [
  {
   "cell_type": "markdown",
   "metadata": {},
   "source": [
    "# __WSI - ćwiczenie 3.__"
   ]
  },
  {
   "cell_type": "markdown",
   "metadata": {},
   "source": [
    "### __Dwuosobowe gry deterministyczne__\n"
   ]
  },
  {
   "cell_type": "markdown",
   "metadata": {},
   "source": [
    "#### __Treść ćwiczenia__"
   ]
  },
  {
   "cell_type": "markdown",
   "metadata": {},
   "source": [
    "- Celem ćwiczenia jest implementacja algorytmu _min-max_ z przycinaniem $α−β$.\n",
    "Dla różnych ruchów o tej samej jakości, algorytm powinien zwracać losowy z\n",
    "nich.\n",
    "- Następnie należy wykorzystać implementację do porównania jakości dla różnych\n",
    "głębokości przeszukiwania dla gry kółko i krzyżyk na planszy $N\\times N$. W\n",
    "raporcie powinny być umieszczone wyniki turnieju w grę kółko i krzyżyk, w\n",
    "którym biorą udział gracze sterowani algorytmem z różnymi głębokościami przeszukiwania."
   ]
  },
  {
   "cell_type": "markdown",
   "metadata": {},
   "source": [
    "#### __Opis gry__\n"
   ]
  },
  {
   "cell_type": "markdown",
   "metadata": {},
   "source": [
    "_\"Gracze obejmują pola na przemian dążąc do objęcia trzech pól w jednej linii, przy jednoczesnym uniemożliwieniu tego samego przeciwnikowi. Pole może być objęte przez jednego gracza i nie zmienia swego właściciela przez cały przebieg gry.\"_ ~ Wikipedia"
   ]
  },
  {
   "cell_type": "markdown",
   "metadata": {},
   "source": [
    "#### __Implementacja modelu gry__\n"
   ]
  },
  {
   "cell_type": "code",
   "execution_count": 55,
   "metadata": {},
   "outputs": [],
   "source": [
    "import numpy as np\n",
    "from plotly import graph_objs as go\n",
    "from plotly.express.colors import sample_colorscale\n",
    "from plotly.subplots import make_subplots\n",
    "import pandas as pd\n",
    "import math\n",
    "import os\n",
    "from IPython.display import display, Image, Markdown\n",
    "from tabulate import tabulate\n",
    "from enum import Enum\n",
    "from itertools import combinations\n",
    "import copy\n",
    "import plotly.express as px\n",
    "\n",
    "RNG = np.random.default_rng()"
   ]
  },
  {
   "cell_type": "code",
   "execution_count": 56,
   "metadata": {},
   "outputs": [],
   "source": [
    "class BoardOps:\n",
    "\n",
    "    def __init__(self, min_sign: str='O', max_sign: str='X', win_length: int=3) -> None:\n",
    "        self._entry = Enum('ENTRY', ('MIN', 'MAX', 'EMPTY'))\n",
    "        self._min_sign = min_sign\n",
    "        self._max_sign = max_sign\n",
    "        self._win_length = win_length\n",
    "\n",
    "    def get_str(self, board):\n",
    "        str_data = board.copy()\n",
    "        for x in np.ndenumerate(str_data):\n",
    "            if x[1] == self._entry.MIN:\n",
    "                str_data[x[0]] = self._min_sign\n",
    "            elif x[1] == self._entry.MAX:\n",
    "                str_data[x[0]] = self._max_sign\n",
    "            elif x[1] == self._entry.EMPTY:\n",
    "                str_data[x[0]] = ''\n",
    "        return tabulate(str_data, tablefmt='html')\n",
    "\n",
    "    def _get_cell(self, board, x, y):\n",
    "        return board[y, x]\n",
    "\n",
    "    def is_min(self, board, x, y):\n",
    "        if self._get_cell(x, y) == self._entry.MIN:\n",
    "            return True\n",
    "        return False\n",
    "\n",
    "    def is_max(self, board, x, y):\n",
    "        if self._get_cell(board, x, y) == self._entry.MAX:\n",
    "            return True\n",
    "        return False\n",
    "\n",
    "    def is_empty(self, board,  x, y):\n",
    "        if self._get_cell(board, x, y) == self._entry.EMPTY:\n",
    "            return True\n",
    "        return False\n",
    "\n",
    "    def _set_cell(self, board, x, y, input):\n",
    "        board[y, x] = input\n",
    "\n",
    "    def set_min(self, board, x, y):\n",
    "        self._set_cell(board, x, y, self._entry.MIN)\n",
    "\n",
    "    def set_max(self, board, x, y):\n",
    "        self._set_cell(board, x, y, self._entry.MAX)\n",
    "\n",
    "    def set_empty(self, board, x, y):\n",
    "        self._set_cell(board, x, y, self._entry.EMPTY)\n",
    "\n",
    "    def generate_empty_board(self, size_x, size_y):\n",
    "        return np.full((size_y, size_x), self._entry.EMPTY)\n",
    "\n",
    "    def _contains(self, arr, seq):\n",
    "        for i in range(0, len(arr) - len(seq) + 1):\n",
    "            if seq == arr[i:i+len(seq)]:\n",
    "                return True\n",
    "        return False\n",
    "\n",
    "    def _check_state(self, arr):\n",
    "        max_seq = [self._entry.MAX] * self._win_length\n",
    "        min_seq = [self._entry.MIN] * self._win_length\n",
    "        if self._contains(arr, max_seq):\n",
    "            return self._entry.MAX\n",
    "        if self._contains(arr, min_seq):\n",
    "            return self._entry.MIN\n",
    "        return False\n",
    "\n",
    "    def game_over(self, board):\n",
    "        all_sequences = (board.tolist() + \n",
    "                         np.transpose(board).tolist() + \n",
    "                         [board.diagonal(i).tolist() for i in range(-np.shape(board)[0]+1, np.shape(board)[1])] +\n",
    "                         [np.flip(board, axis=1).diagonal(i).tolist() for i in range(-np.shape(board)[0], np.shape(board)[1])])\n",
    "        for seq in all_sequences:\n",
    "            x = self._check_state(seq)\n",
    "            if x:\n",
    "                return x\n",
    "        return False\n",
    "\n",
    "    def get_win_score(self, board):\n",
    "        state = self.game_over(board)\n",
    "        if state == self._entry.MAX:\n",
    "            return 'max'\n",
    "        if state == self._entry.MIN:\n",
    "            return 'min'\n",
    "        else:\n",
    "            return 'draw'\n",
    "\n",
    "    def get_possible_moves(self, board):\n",
    "        moves = []\n",
    "        for y in range(np.shape(board)[0]):\n",
    "            for x in range(np.shape(board)[1]):\n",
    "                if self.is_empty(board, x, y):\n",
    "                    moves.append([x, y])\n",
    "        return moves\n",
    "\n",
    "    def new_on_max(self, board, x, y):\n",
    "        new_board = board.copy()\n",
    "        self.set_max(new_board, x, y)\n",
    "        return new_board\n",
    "\n",
    "    def new_on_min(self, board, x, y):\n",
    "        new_board = board.copy()\n",
    "        self.set_min(new_board, x, y)\n",
    "        return new_board\n",
    "    \n",
    "    def grade(self, board):\n",
    "        return 0\n",
    "\n",
    "    def print(self, board):\n",
    "        display(Markdown(self.get_str(board)))"
   ]
  },
  {
   "cell_type": "code",
   "execution_count": 57,
   "metadata": {},
   "outputs": [],
   "source": [
    "class Game:\n",
    "    \n",
    "    def __init__(self, max_algorithm, min_algorithm, max_player_depth, min_player_depth, board_size: int, win_length: int, first_max_move=True, min_sign: str='O', max_sign: str='X'):\n",
    "        self._board_ops = BoardOps(min_sign, max_sign, win_length)\n",
    "        self._board = self._board_ops.generate_empty_board(board_size, board_size)\n",
    "        self._board_size = board_size\n",
    "        self._win_length = win_length\n",
    "        self._first_max_move = first_max_move\n",
    "        self._max_move = first_max_move\n",
    "        self._max_player_depth = max_player_depth\n",
    "        self._min_player_depth = min_player_depth\n",
    "        self._min_algorithm = min_algorithm\n",
    "        self._max_algorithm = max_algorithm\n",
    "\n",
    "    def is_max_move(self):\n",
    "        return self._max_move\n",
    "    \n",
    "    def change_turn(self):\n",
    "        self._max_move = not self._max_move\n",
    "\n",
    "    def reset(self):\n",
    "        self._board = self._board_ops.generate_empty_board(self._board_size, self._board_size)\n",
    "        self._max_move = self._first_max_move\n",
    "\n",
    "    def make_move(self):\n",
    "        if self.is_max_move():\n",
    "            self._board_ops.set_max(self._board, *self._max_algorithm(self._board, \n",
    "                                                              True, \n",
    "                                                              self._board_ops, \n",
    "                                                              self._max_player_depth))\n",
    "        else:\n",
    "            self._board_ops.set_min(self._board, *self._min_algorithm(self._board, \n",
    "                                                              False, \n",
    "                                                              self._board_ops, \n",
    "                                                              self._min_player_depth))\n",
    "        self.change_turn()\n",
    "\n",
    "    def print_board(self):\n",
    "        self._board_ops.print(self._board)\n",
    "\n",
    "    def run(self):\n",
    "        while not self._board_ops.game_over(self._board) and \\\n",
    "            self._board_ops.get_possible_moves(self._board):\n",
    "                self.make_move()\n",
    "\n",
    "        return self._board_ops.get_win_score(self._board)\n",
    "\n",
    "    def run_print(self):\n",
    "        while not self._board_ops.game_over(self._board) and \\\n",
    "            self._board_ops.get_possible_moves(self._board):\n",
    "                self.make_move()\n",
    "                self.print_board()\n",
    "\n",
    "        return self._board_ops.get_win_score(self._board)\n",
    "\n",
    "    def run_reset(self):\n",
    "        outcome = self.run()\n",
    "        self.reset()\n",
    "        return outcome"
   ]
  },
  {
   "cell_type": "markdown",
   "metadata": {},
   "source": [
    "#### __Algorytm min-max__"
   ]
  },
  {
   "cell_type": "code",
   "execution_count": 58,
   "metadata": {},
   "outputs": [],
   "source": [
    "def min_max_a_b(board, max_move, board_ops: BoardOps, max_depth=3, payout=100):\n",
    "\n",
    "    def recurr(board, max_move, depth, alfa, beta):\n",
    "        if board_ops.game_over(board):\n",
    "            if max_move:\n",
    "                return -payout\n",
    "            return payout\n",
    "        possible_moves = board_ops.get_possible_moves(board)\n",
    "        if not possible_moves:\n",
    "            return 0\n",
    "        if depth >= max_depth:\n",
    "            return board_ops.grade(board)\n",
    "        if max_move:\n",
    "            value = -math.inf\n",
    "            for move in possible_moves:\n",
    "                value = max(value, recurr(board_ops.new_on_max(board, *move), False, depth + 1, alfa, beta))\n",
    "                alfa = max(alfa, value)\n",
    "                if value >= beta:\n",
    "                    break\n",
    "            return value\n",
    "        value = math.inf\n",
    "        for move in possible_moves:\n",
    "            value = min(value, recurr(board_ops.new_on_min(board, *move), True, depth + 1, alfa, beta))\n",
    "            beta = min(beta, value)\n",
    "            if value <= alfa:\n",
    "                break\n",
    "        return value\n",
    "\n",
    "    possible_moves = board_ops.get_possible_moves(board)\n",
    "    if max_move:\n",
    "        moves_grades = [(move, recurr(board_ops.new_on_max(board, *move), False, 0, -math.inf, math.inf))\n",
    "                        for move in possible_moves]\n",
    "        maxes = [move for move, grade in moves_grades if grade == max(moves_grades, key=lambda x: x[1])[1]]\n",
    "        return RNG.choice(maxes)\n",
    "    moves_grades = [(move, recurr(board_ops.new_on_min(board, *move), True, 0, -math.inf, math.inf))\n",
    "                    for move in possible_moves]\n",
    "    mins = [move for move, grade in moves_grades if grade == min(moves_grades, key=lambda x: x[1])[1]]\n",
    "    return RNG.choice(mins)"
   ]
  },
  {
   "cell_type": "markdown",
   "metadata": {},
   "source": [
    "#### __Przykładowa gra__\n",
    "plansza 3x3, wygrana przy 3 w rzędzie, głębokość 10 dla obu graczy (pełne pokrycie)"
   ]
  },
  {
   "cell_type": "code",
   "execution_count": 59,
   "metadata": {},
   "outputs": [
    {
     "data": {
      "text/markdown": [
       "<table>\n",
       "<tbody>\n",
       "<tr><td></td><td></td><td>X</td><td></td><td></td></tr>\n",
       "<tr><td></td><td></td><td> </td><td></td><td></td></tr>\n",
       "<tr><td></td><td></td><td> </td><td></td><td></td></tr>\n",
       "<tr><td></td><td></td><td> </td><td></td><td></td></tr>\n",
       "<tr><td></td><td></td><td> </td><td></td><td></td></tr>\n",
       "</tbody>\n",
       "</table>"
      ],
      "text/plain": [
       "<IPython.core.display.Markdown object>"
      ]
     },
     "metadata": {},
     "output_type": "display_data"
    },
    {
     "data": {
      "text/markdown": [
       "<table>\n",
       "<tbody>\n",
       "<tr><td></td><td>O</td><td>X</td><td></td><td></td></tr>\n",
       "<tr><td></td><td> </td><td> </td><td></td><td></td></tr>\n",
       "<tr><td></td><td> </td><td> </td><td></td><td></td></tr>\n",
       "<tr><td></td><td> </td><td> </td><td></td><td></td></tr>\n",
       "<tr><td></td><td> </td><td> </td><td></td><td></td></tr>\n",
       "</tbody>\n",
       "</table>"
      ],
      "text/plain": [
       "<IPython.core.display.Markdown object>"
      ]
     },
     "metadata": {},
     "output_type": "display_data"
    },
    {
     "data": {
      "text/markdown": [
       "<table>\n",
       "<tbody>\n",
       "<tr><td></td><td>O</td><td>X</td><td></td><td></td></tr>\n",
       "<tr><td></td><td> </td><td> </td><td></td><td></td></tr>\n",
       "<tr><td></td><td> </td><td> </td><td></td><td></td></tr>\n",
       "<tr><td></td><td>X</td><td> </td><td></td><td></td></tr>\n",
       "<tr><td></td><td> </td><td> </td><td></td><td></td></tr>\n",
       "</tbody>\n",
       "</table>"
      ],
      "text/plain": [
       "<IPython.core.display.Markdown object>"
      ]
     },
     "metadata": {},
     "output_type": "display_data"
    },
    {
     "data": {
      "text/markdown": [
       "<table>\n",
       "<tbody>\n",
       "<tr><td></td><td>O</td><td>X</td><td></td><td></td></tr>\n",
       "<tr><td></td><td> </td><td> </td><td></td><td></td></tr>\n",
       "<tr><td></td><td> </td><td>O</td><td></td><td></td></tr>\n",
       "<tr><td></td><td>X</td><td> </td><td></td><td></td></tr>\n",
       "<tr><td></td><td> </td><td> </td><td></td><td></td></tr>\n",
       "</tbody>\n",
       "</table>"
      ],
      "text/plain": [
       "<IPython.core.display.Markdown object>"
      ]
     },
     "metadata": {},
     "output_type": "display_data"
    },
    {
     "data": {
      "text/markdown": [
       "<table>\n",
       "<tbody>\n",
       "<tr><td></td><td>O</td><td>X</td><td>X</td><td></td></tr>\n",
       "<tr><td></td><td> </td><td> </td><td> </td><td></td></tr>\n",
       "<tr><td></td><td> </td><td>O</td><td> </td><td></td></tr>\n",
       "<tr><td></td><td>X</td><td> </td><td> </td><td></td></tr>\n",
       "<tr><td></td><td> </td><td> </td><td> </td><td></td></tr>\n",
       "</tbody>\n",
       "</table>"
      ],
      "text/plain": [
       "<IPython.core.display.Markdown object>"
      ]
     },
     "metadata": {},
     "output_type": "display_data"
    },
    {
     "data": {
      "text/markdown": [
       "<table>\n",
       "<tbody>\n",
       "<tr><td></td><td>O</td><td>X</td><td>X</td><td>O</td></tr>\n",
       "<tr><td></td><td> </td><td> </td><td> </td><td> </td></tr>\n",
       "<tr><td></td><td> </td><td>O</td><td> </td><td> </td></tr>\n",
       "<tr><td></td><td>X</td><td> </td><td> </td><td> </td></tr>\n",
       "<tr><td></td><td> </td><td> </td><td> </td><td> </td></tr>\n",
       "</tbody>\n",
       "</table>"
      ],
      "text/plain": [
       "<IPython.core.display.Markdown object>"
      ]
     },
     "metadata": {},
     "output_type": "display_data"
    },
    {
     "data": {
      "text/markdown": [
       "<table>\n",
       "<tbody>\n",
       "<tr><td></td><td>O</td><td>X</td><td>X</td><td>O</td></tr>\n",
       "<tr><td></td><td> </td><td> </td><td>X</td><td> </td></tr>\n",
       "<tr><td></td><td> </td><td>O</td><td> </td><td> </td></tr>\n",
       "<tr><td></td><td>X</td><td> </td><td> </td><td> </td></tr>\n",
       "<tr><td></td><td> </td><td> </td><td> </td><td> </td></tr>\n",
       "</tbody>\n",
       "</table>"
      ],
      "text/plain": [
       "<IPython.core.display.Markdown object>"
      ]
     },
     "metadata": {},
     "output_type": "display_data"
    },
    {
     "data": {
      "text/markdown": [
       "<table>\n",
       "<tbody>\n",
       "<tr><td></td><td>O</td><td>X</td><td>X</td><td>O</td></tr>\n",
       "<tr><td></td><td> </td><td> </td><td>X</td><td> </td></tr>\n",
       "<tr><td></td><td> </td><td>O</td><td>O</td><td> </td></tr>\n",
       "<tr><td></td><td>X</td><td> </td><td> </td><td> </td></tr>\n",
       "<tr><td></td><td> </td><td> </td><td> </td><td> </td></tr>\n",
       "</tbody>\n",
       "</table>"
      ],
      "text/plain": [
       "<IPython.core.display.Markdown object>"
      ]
     },
     "metadata": {},
     "output_type": "display_data"
    },
    {
     "data": {
      "text/markdown": [
       "<table>\n",
       "<tbody>\n",
       "<tr><td></td><td>O</td><td>X</td><td>X</td><td>O</td></tr>\n",
       "<tr><td></td><td> </td><td> </td><td>X</td><td> </td></tr>\n",
       "<tr><td></td><td> </td><td>O</td><td>O</td><td>X</td></tr>\n",
       "<tr><td></td><td>X</td><td> </td><td> </td><td> </td></tr>\n",
       "<tr><td></td><td> </td><td> </td><td> </td><td> </td></tr>\n",
       "</tbody>\n",
       "</table>"
      ],
      "text/plain": [
       "<IPython.core.display.Markdown object>"
      ]
     },
     "metadata": {},
     "output_type": "display_data"
    },
    {
     "data": {
      "text/plain": [
       "'max'"
      ]
     },
     "execution_count": 59,
     "metadata": {},
     "output_type": "execute_result"
    }
   ],
   "source": [
    "game = Game(min_max_a_b, min_max_a_b, 1, 2, 5, 3)\n",
    "game.run_print()"
   ]
  },
  {
   "cell_type": "markdown",
   "metadata": {},
   "source": [
    "#### __Analiza wydajności algorytmu min-max z funkcją odcięcia alfa-beta w zależności od głębokości przeszukiwania__"
   ]
  },
  {
   "cell_type": "code",
   "execution_count": 60,
   "metadata": {},
   "outputs": [
    {
     "name": "stdout",
     "output_type": "stream",
     "text": [
      "[(0, 1), (0, 2), (0, 3), (0, 4), (1, 2), (1, 3), (1, 4), (2, 3), (2, 4), (3, 4)]\n"
     ]
    },
    {
     "data": {
      "text/html": [
       "<div>\n",
       "<style scoped>\n",
       "    .dataframe tbody tr th:only-of-type {\n",
       "        vertical-align: middle;\n",
       "    }\n",
       "\n",
       "    .dataframe tbody tr th {\n",
       "        vertical-align: top;\n",
       "    }\n",
       "\n",
       "    .dataframe thead th {\n",
       "        text-align: right;\n",
       "    }\n",
       "</style>\n",
       "<table border=\"1\" class=\"dataframe\">\n",
       "  <thead>\n",
       "    <tr style=\"text-align: right;\">\n",
       "      <th></th>\n",
       "      <th>max: 0, min: 1</th>\n",
       "      <th>max: 0, min: 2</th>\n",
       "      <th>max: 0, min: 3</th>\n",
       "      <th>max: 0, min: 4</th>\n",
       "      <th>max: 1, min: 2</th>\n",
       "      <th>max: 1, min: 3</th>\n",
       "      <th>max: 1, min: 4</th>\n",
       "      <th>max: 2, min: 3</th>\n",
       "      <th>max: 2, min: 4</th>\n",
       "      <th>max: 3, min: 4</th>\n",
       "    </tr>\n",
       "  </thead>\n",
       "  <tbody>\n",
       "    <tr>\n",
       "      <th>0</th>\n",
       "      <td>min</td>\n",
       "      <td>min</td>\n",
       "      <td>min</td>\n",
       "      <td>min</td>\n",
       "      <td>max</td>\n",
       "      <td>draw</td>\n",
       "      <td>draw</td>\n",
       "      <td>draw</td>\n",
       "      <td>min</td>\n",
       "      <td>draw</td>\n",
       "    </tr>\n",
       "    <tr>\n",
       "      <th>1</th>\n",
       "      <td>min</td>\n",
       "      <td>min</td>\n",
       "      <td>min</td>\n",
       "      <td>draw</td>\n",
       "      <td>min</td>\n",
       "      <td>draw</td>\n",
       "      <td>draw</td>\n",
       "      <td>draw</td>\n",
       "      <td>draw</td>\n",
       "      <td>draw</td>\n",
       "    </tr>\n",
       "    <tr>\n",
       "      <th>2</th>\n",
       "      <td>draw</td>\n",
       "      <td>max</td>\n",
       "      <td>min</td>\n",
       "      <td>draw</td>\n",
       "      <td>max</td>\n",
       "      <td>draw</td>\n",
       "      <td>min</td>\n",
       "      <td>min</td>\n",
       "      <td>draw</td>\n",
       "      <td>min</td>\n",
       "    </tr>\n",
       "    <tr>\n",
       "      <th>3</th>\n",
       "      <td>max</td>\n",
       "      <td>draw</td>\n",
       "      <td>draw</td>\n",
       "      <td>min</td>\n",
       "      <td>min</td>\n",
       "      <td>max</td>\n",
       "      <td>min</td>\n",
       "      <td>max</td>\n",
       "      <td>min</td>\n",
       "      <td>draw</td>\n",
       "    </tr>\n",
       "    <tr>\n",
       "      <th>4</th>\n",
       "      <td>min</td>\n",
       "      <td>min</td>\n",
       "      <td>min</td>\n",
       "      <td>max</td>\n",
       "      <td>max</td>\n",
       "      <td>max</td>\n",
       "      <td>draw</td>\n",
       "      <td>draw</td>\n",
       "      <td>max</td>\n",
       "      <td>draw</td>\n",
       "    </tr>\n",
       "    <tr>\n",
       "      <th>5</th>\n",
       "      <td>draw</td>\n",
       "      <td>draw</td>\n",
       "      <td>max</td>\n",
       "      <td>min</td>\n",
       "      <td>draw</td>\n",
       "      <td>draw</td>\n",
       "      <td>max</td>\n",
       "      <td>draw</td>\n",
       "      <td>min</td>\n",
       "      <td>max</td>\n",
       "    </tr>\n",
       "    <tr>\n",
       "      <th>6</th>\n",
       "      <td>min</td>\n",
       "      <td>max</td>\n",
       "      <td>min</td>\n",
       "      <td>min</td>\n",
       "      <td>max</td>\n",
       "      <td>draw</td>\n",
       "      <td>draw</td>\n",
       "      <td>max</td>\n",
       "      <td>draw</td>\n",
       "      <td>draw</td>\n",
       "    </tr>\n",
       "    <tr>\n",
       "      <th>7</th>\n",
       "      <td>min</td>\n",
       "      <td>min</td>\n",
       "      <td>min</td>\n",
       "      <td>min</td>\n",
       "      <td>draw</td>\n",
       "      <td>min</td>\n",
       "      <td>max</td>\n",
       "      <td>min</td>\n",
       "      <td>draw</td>\n",
       "      <td>draw</td>\n",
       "    </tr>\n",
       "    <tr>\n",
       "      <th>8</th>\n",
       "      <td>min</td>\n",
       "      <td>min</td>\n",
       "      <td>max</td>\n",
       "      <td>min</td>\n",
       "      <td>min</td>\n",
       "      <td>draw</td>\n",
       "      <td>draw</td>\n",
       "      <td>min</td>\n",
       "      <td>draw</td>\n",
       "      <td>max</td>\n",
       "    </tr>\n",
       "    <tr>\n",
       "      <th>9</th>\n",
       "      <td>min</td>\n",
       "      <td>min</td>\n",
       "      <td>min</td>\n",
       "      <td>max</td>\n",
       "      <td>draw</td>\n",
       "      <td>draw</td>\n",
       "      <td>min</td>\n",
       "      <td>min</td>\n",
       "      <td>draw</td>\n",
       "      <td>max</td>\n",
       "    </tr>\n",
       "  </tbody>\n",
       "</table>\n",
       "</div>"
      ],
      "text/plain": [
       "  max: 0, min: 1 max: 0, min: 2 max: 0, min: 3 max: 0, min: 4 max: 1, min: 2  \\\n",
       "0            min            min            min            min            max   \n",
       "1            min            min            min           draw            min   \n",
       "2           draw            max            min           draw            max   \n",
       "3            max           draw           draw            min            min   \n",
       "4            min            min            min            max            max   \n",
       "5           draw           draw            max            min           draw   \n",
       "6            min            max            min            min            max   \n",
       "7            min            min            min            min           draw   \n",
       "8            min            min            max            min            min   \n",
       "9            min            min            min            max           draw   \n",
       "\n",
       "  max: 1, min: 3 max: 1, min: 4 max: 2, min: 3 max: 2, min: 4 max: 3, min: 4  \n",
       "0           draw           draw           draw            min           draw  \n",
       "1           draw           draw           draw           draw           draw  \n",
       "2           draw            min            min           draw            min  \n",
       "3            max            min            max            min           draw  \n",
       "4            max           draw           draw            max           draw  \n",
       "5           draw            max           draw            min            max  \n",
       "6           draw           draw            max           draw           draw  \n",
       "7            min            max            min           draw           draw  \n",
       "8           draw           draw            min           draw            max  \n",
       "9           draw            min            min           draw            max  "
      ]
     },
     "execution_count": 60,
     "metadata": {},
     "output_type": "execute_result"
    }
   ],
   "source": [
    "RUN_AMOUNT = 10\n",
    "BOARD_SIZE = 3\n",
    "WIN_LENGTH = 3\n",
    "df = pd.DataFrame()\n",
    "\n",
    "pairs = list(combinations(range(5), 2))\n",
    "print(pairs)\n",
    "for x, y in pairs:\n",
    "    g = Game(min_max_a_b, min_max_a_b, x, y, BOARD_SIZE, WIN_LENGTH)\n",
    "    df[f'max: {x}, min: {y}'] = [g.run_reset() for _ in range(RUN_AMOUNT)]\n",
    "df"
   ]
  },
  {
   "cell_type": "code",
   "execution_count": 61,
   "metadata": {},
   "outputs": [],
   "source": [
    "sum_df = pd.DataFrame()\n",
    "for c in df.columns:\n",
    "    sum_df[c] = df[c].value_counts()\n",
    "sum_df.fillna(value = 0, inplace = True)\n",
    "sum_df = sum_df.astype('int')\n",
    "sum_df = sum_df.T"
   ]
  },
  {
   "cell_type": "code",
   "execution_count": 62,
   "metadata": {},
   "outputs": [
    {
     "data": {
      "application/vnd.plotly.v1+json": {
       "config": {
        "plotlyServerURL": "https://plot.ly"
       },
       "data": [
        {
         "alignmentgroup": "True",
         "hovertemplate": "variable=min<br>index=%{x}<br>value=%{y}<extra></extra>",
         "legendgroup": "min",
         "marker": {
          "color": "#636efa",
          "pattern": {
           "shape": ""
          }
         },
         "name": "min",
         "offsetgroup": "min",
         "orientation": "v",
         "showlegend": true,
         "textposition": "auto",
         "type": "bar",
         "x": [
          "max: 0, min: 1",
          "max: 0, min: 2",
          "max: 0, min: 3",
          "max: 0, min: 4",
          "max: 1, min: 2",
          "max: 1, min: 3",
          "max: 1, min: 4",
          "max: 2, min: 3",
          "max: 2, min: 4",
          "max: 3, min: 4"
         ],
         "xaxis": "x",
         "y": [
          7,
          6,
          7,
          6,
          3,
          1,
          3,
          4,
          3,
          1
         ],
         "yaxis": "y"
        },
        {
         "alignmentgroup": "True",
         "hovertemplate": "variable=draw<br>index=%{x}<br>value=%{y}<extra></extra>",
         "legendgroup": "draw",
         "marker": {
          "color": "#EF553B",
          "pattern": {
           "shape": ""
          }
         },
         "name": "draw",
         "offsetgroup": "draw",
         "orientation": "v",
         "showlegend": true,
         "textposition": "auto",
         "type": "bar",
         "x": [
          "max: 0, min: 1",
          "max: 0, min: 2",
          "max: 0, min: 3",
          "max: 0, min: 4",
          "max: 1, min: 2",
          "max: 1, min: 3",
          "max: 1, min: 4",
          "max: 2, min: 3",
          "max: 2, min: 4",
          "max: 3, min: 4"
         ],
         "xaxis": "x",
         "y": [
          2,
          2,
          1,
          2,
          3,
          7,
          5,
          4,
          6,
          6
         ],
         "yaxis": "y"
        },
        {
         "alignmentgroup": "True",
         "hovertemplate": "variable=max<br>index=%{x}<br>value=%{y}<extra></extra>",
         "legendgroup": "max",
         "marker": {
          "color": "#00cc96",
          "pattern": {
           "shape": ""
          }
         },
         "name": "max",
         "offsetgroup": "max",
         "orientation": "v",
         "showlegend": true,
         "textposition": "auto",
         "type": "bar",
         "x": [
          "max: 0, min: 1",
          "max: 0, min: 2",
          "max: 0, min: 3",
          "max: 0, min: 4",
          "max: 1, min: 2",
          "max: 1, min: 3",
          "max: 1, min: 4",
          "max: 2, min: 3",
          "max: 2, min: 4",
          "max: 3, min: 4"
         ],
         "xaxis": "x",
         "y": [
          1,
          2,
          2,
          2,
          4,
          2,
          2,
          2,
          1,
          3
         ],
         "yaxis": "y"
        }
       ],
       "layout": {
        "barmode": "group",
        "height": 500,
        "legend": {
         "title": {
          "text": "variable"
         },
         "tracegroupgap": 0
        },
        "margin": {
         "t": 60
        },
        "template": {
         "data": {
          "bar": [
           {
            "error_x": {
             "color": "#f2f5fa"
            },
            "error_y": {
             "color": "#f2f5fa"
            },
            "marker": {
             "line": {
              "color": "rgb(17,17,17)",
              "width": 0.5
             },
             "pattern": {
              "fillmode": "overlay",
              "size": 10,
              "solidity": 0.2
             }
            },
            "type": "bar"
           }
          ],
          "barpolar": [
           {
            "marker": {
             "line": {
              "color": "rgb(17,17,17)",
              "width": 0.5
             },
             "pattern": {
              "fillmode": "overlay",
              "size": 10,
              "solidity": 0.2
             }
            },
            "type": "barpolar"
           }
          ],
          "carpet": [
           {
            "aaxis": {
             "endlinecolor": "#A2B1C6",
             "gridcolor": "#506784",
             "linecolor": "#506784",
             "minorgridcolor": "#506784",
             "startlinecolor": "#A2B1C6"
            },
            "baxis": {
             "endlinecolor": "#A2B1C6",
             "gridcolor": "#506784",
             "linecolor": "#506784",
             "minorgridcolor": "#506784",
             "startlinecolor": "#A2B1C6"
            },
            "type": "carpet"
           }
          ],
          "choropleth": [
           {
            "colorbar": {
             "outlinewidth": 0,
             "ticks": ""
            },
            "type": "choropleth"
           }
          ],
          "contour": [
           {
            "colorbar": {
             "outlinewidth": 0,
             "ticks": ""
            },
            "colorscale": [
             [
              0,
              "#0d0887"
             ],
             [
              0.1111111111111111,
              "#46039f"
             ],
             [
              0.2222222222222222,
              "#7201a8"
             ],
             [
              0.3333333333333333,
              "#9c179e"
             ],
             [
              0.4444444444444444,
              "#bd3786"
             ],
             [
              0.5555555555555556,
              "#d8576b"
             ],
             [
              0.6666666666666666,
              "#ed7953"
             ],
             [
              0.7777777777777778,
              "#fb9f3a"
             ],
             [
              0.8888888888888888,
              "#fdca26"
             ],
             [
              1,
              "#f0f921"
             ]
            ],
            "type": "contour"
           }
          ],
          "contourcarpet": [
           {
            "colorbar": {
             "outlinewidth": 0,
             "ticks": ""
            },
            "type": "contourcarpet"
           }
          ],
          "heatmap": [
           {
            "colorbar": {
             "outlinewidth": 0,
             "ticks": ""
            },
            "colorscale": [
             [
              0,
              "#0d0887"
             ],
             [
              0.1111111111111111,
              "#46039f"
             ],
             [
              0.2222222222222222,
              "#7201a8"
             ],
             [
              0.3333333333333333,
              "#9c179e"
             ],
             [
              0.4444444444444444,
              "#bd3786"
             ],
             [
              0.5555555555555556,
              "#d8576b"
             ],
             [
              0.6666666666666666,
              "#ed7953"
             ],
             [
              0.7777777777777778,
              "#fb9f3a"
             ],
             [
              0.8888888888888888,
              "#fdca26"
             ],
             [
              1,
              "#f0f921"
             ]
            ],
            "type": "heatmap"
           }
          ],
          "heatmapgl": [
           {
            "colorbar": {
             "outlinewidth": 0,
             "ticks": ""
            },
            "colorscale": [
             [
              0,
              "#0d0887"
             ],
             [
              0.1111111111111111,
              "#46039f"
             ],
             [
              0.2222222222222222,
              "#7201a8"
             ],
             [
              0.3333333333333333,
              "#9c179e"
             ],
             [
              0.4444444444444444,
              "#bd3786"
             ],
             [
              0.5555555555555556,
              "#d8576b"
             ],
             [
              0.6666666666666666,
              "#ed7953"
             ],
             [
              0.7777777777777778,
              "#fb9f3a"
             ],
             [
              0.8888888888888888,
              "#fdca26"
             ],
             [
              1,
              "#f0f921"
             ]
            ],
            "type": "heatmapgl"
           }
          ],
          "histogram": [
           {
            "marker": {
             "pattern": {
              "fillmode": "overlay",
              "size": 10,
              "solidity": 0.2
             }
            },
            "type": "histogram"
           }
          ],
          "histogram2d": [
           {
            "colorbar": {
             "outlinewidth": 0,
             "ticks": ""
            },
            "colorscale": [
             [
              0,
              "#0d0887"
             ],
             [
              0.1111111111111111,
              "#46039f"
             ],
             [
              0.2222222222222222,
              "#7201a8"
             ],
             [
              0.3333333333333333,
              "#9c179e"
             ],
             [
              0.4444444444444444,
              "#bd3786"
             ],
             [
              0.5555555555555556,
              "#d8576b"
             ],
             [
              0.6666666666666666,
              "#ed7953"
             ],
             [
              0.7777777777777778,
              "#fb9f3a"
             ],
             [
              0.8888888888888888,
              "#fdca26"
             ],
             [
              1,
              "#f0f921"
             ]
            ],
            "type": "histogram2d"
           }
          ],
          "histogram2dcontour": [
           {
            "colorbar": {
             "outlinewidth": 0,
             "ticks": ""
            },
            "colorscale": [
             [
              0,
              "#0d0887"
             ],
             [
              0.1111111111111111,
              "#46039f"
             ],
             [
              0.2222222222222222,
              "#7201a8"
             ],
             [
              0.3333333333333333,
              "#9c179e"
             ],
             [
              0.4444444444444444,
              "#bd3786"
             ],
             [
              0.5555555555555556,
              "#d8576b"
             ],
             [
              0.6666666666666666,
              "#ed7953"
             ],
             [
              0.7777777777777778,
              "#fb9f3a"
             ],
             [
              0.8888888888888888,
              "#fdca26"
             ],
             [
              1,
              "#f0f921"
             ]
            ],
            "type": "histogram2dcontour"
           }
          ],
          "mesh3d": [
           {
            "colorbar": {
             "outlinewidth": 0,
             "ticks": ""
            },
            "type": "mesh3d"
           }
          ],
          "parcoords": [
           {
            "line": {
             "colorbar": {
              "outlinewidth": 0,
              "ticks": ""
             }
            },
            "type": "parcoords"
           }
          ],
          "pie": [
           {
            "automargin": true,
            "type": "pie"
           }
          ],
          "scatter": [
           {
            "marker": {
             "line": {
              "color": "#283442"
             }
            },
            "type": "scatter"
           }
          ],
          "scatter3d": [
           {
            "line": {
             "colorbar": {
              "outlinewidth": 0,
              "ticks": ""
             }
            },
            "marker": {
             "colorbar": {
              "outlinewidth": 0,
              "ticks": ""
             }
            },
            "type": "scatter3d"
           }
          ],
          "scattercarpet": [
           {
            "marker": {
             "colorbar": {
              "outlinewidth": 0,
              "ticks": ""
             }
            },
            "type": "scattercarpet"
           }
          ],
          "scattergeo": [
           {
            "marker": {
             "colorbar": {
              "outlinewidth": 0,
              "ticks": ""
             }
            },
            "type": "scattergeo"
           }
          ],
          "scattergl": [
           {
            "marker": {
             "line": {
              "color": "#283442"
             }
            },
            "type": "scattergl"
           }
          ],
          "scattermapbox": [
           {
            "marker": {
             "colorbar": {
              "outlinewidth": 0,
              "ticks": ""
             }
            },
            "type": "scattermapbox"
           }
          ],
          "scatterpolar": [
           {
            "marker": {
             "colorbar": {
              "outlinewidth": 0,
              "ticks": ""
             }
            },
            "type": "scatterpolar"
           }
          ],
          "scatterpolargl": [
           {
            "marker": {
             "colorbar": {
              "outlinewidth": 0,
              "ticks": ""
             }
            },
            "type": "scatterpolargl"
           }
          ],
          "scatterternary": [
           {
            "marker": {
             "colorbar": {
              "outlinewidth": 0,
              "ticks": ""
             }
            },
            "type": "scatterternary"
           }
          ],
          "surface": [
           {
            "colorbar": {
             "outlinewidth": 0,
             "ticks": ""
            },
            "colorscale": [
             [
              0,
              "#0d0887"
             ],
             [
              0.1111111111111111,
              "#46039f"
             ],
             [
              0.2222222222222222,
              "#7201a8"
             ],
             [
              0.3333333333333333,
              "#9c179e"
             ],
             [
              0.4444444444444444,
              "#bd3786"
             ],
             [
              0.5555555555555556,
              "#d8576b"
             ],
             [
              0.6666666666666666,
              "#ed7953"
             ],
             [
              0.7777777777777778,
              "#fb9f3a"
             ],
             [
              0.8888888888888888,
              "#fdca26"
             ],
             [
              1,
              "#f0f921"
             ]
            ],
            "type": "surface"
           }
          ],
          "table": [
           {
            "cells": {
             "fill": {
              "color": "#506784"
             },
             "line": {
              "color": "rgb(17,17,17)"
             }
            },
            "header": {
             "fill": {
              "color": "#2a3f5f"
             },
             "line": {
              "color": "rgb(17,17,17)"
             }
            },
            "type": "table"
           }
          ]
         },
         "layout": {
          "annotationdefaults": {
           "arrowcolor": "#f2f5fa",
           "arrowhead": 0,
           "arrowwidth": 1
          },
          "autotypenumbers": "strict",
          "coloraxis": {
           "colorbar": {
            "outlinewidth": 0,
            "ticks": ""
           }
          },
          "colorscale": {
           "diverging": [
            [
             0,
             "#8e0152"
            ],
            [
             0.1,
             "#c51b7d"
            ],
            [
             0.2,
             "#de77ae"
            ],
            [
             0.3,
             "#f1b6da"
            ],
            [
             0.4,
             "#fde0ef"
            ],
            [
             0.5,
             "#f7f7f7"
            ],
            [
             0.6,
             "#e6f5d0"
            ],
            [
             0.7,
             "#b8e186"
            ],
            [
             0.8,
             "#7fbc41"
            ],
            [
             0.9,
             "#4d9221"
            ],
            [
             1,
             "#276419"
            ]
           ],
           "sequential": [
            [
             0,
             "#0d0887"
            ],
            [
             0.1111111111111111,
             "#46039f"
            ],
            [
             0.2222222222222222,
             "#7201a8"
            ],
            [
             0.3333333333333333,
             "#9c179e"
            ],
            [
             0.4444444444444444,
             "#bd3786"
            ],
            [
             0.5555555555555556,
             "#d8576b"
            ],
            [
             0.6666666666666666,
             "#ed7953"
            ],
            [
             0.7777777777777778,
             "#fb9f3a"
            ],
            [
             0.8888888888888888,
             "#fdca26"
            ],
            [
             1,
             "#f0f921"
            ]
           ],
           "sequentialminus": [
            [
             0,
             "#0d0887"
            ],
            [
             0.1111111111111111,
             "#46039f"
            ],
            [
             0.2222222222222222,
             "#7201a8"
            ],
            [
             0.3333333333333333,
             "#9c179e"
            ],
            [
             0.4444444444444444,
             "#bd3786"
            ],
            [
             0.5555555555555556,
             "#d8576b"
            ],
            [
             0.6666666666666666,
             "#ed7953"
            ],
            [
             0.7777777777777778,
             "#fb9f3a"
            ],
            [
             0.8888888888888888,
             "#fdca26"
            ],
            [
             1,
             "#f0f921"
            ]
           ]
          },
          "colorway": [
           "#636efa",
           "#EF553B",
           "#00cc96",
           "#ab63fa",
           "#FFA15A",
           "#19d3f3",
           "#FF6692",
           "#B6E880",
           "#FF97FF",
           "#FECB52"
          ],
          "font": {
           "color": "#f2f5fa"
          },
          "geo": {
           "bgcolor": "rgb(17,17,17)",
           "lakecolor": "rgb(17,17,17)",
           "landcolor": "rgb(17,17,17)",
           "showlakes": true,
           "showland": true,
           "subunitcolor": "#506784"
          },
          "hoverlabel": {
           "align": "left"
          },
          "hovermode": "closest",
          "mapbox": {
           "style": "dark"
          },
          "paper_bgcolor": "rgb(17,17,17)",
          "plot_bgcolor": "rgb(17,17,17)",
          "polar": {
           "angularaxis": {
            "gridcolor": "#506784",
            "linecolor": "#506784",
            "ticks": ""
           },
           "bgcolor": "rgb(17,17,17)",
           "radialaxis": {
            "gridcolor": "#506784",
            "linecolor": "#506784",
            "ticks": ""
           }
          },
          "scene": {
           "xaxis": {
            "backgroundcolor": "rgb(17,17,17)",
            "gridcolor": "#506784",
            "gridwidth": 2,
            "linecolor": "#506784",
            "showbackground": true,
            "ticks": "",
            "zerolinecolor": "#C8D4E3"
           },
           "yaxis": {
            "backgroundcolor": "rgb(17,17,17)",
            "gridcolor": "#506784",
            "gridwidth": 2,
            "linecolor": "#506784",
            "showbackground": true,
            "ticks": "",
            "zerolinecolor": "#C8D4E3"
           },
           "zaxis": {
            "backgroundcolor": "rgb(17,17,17)",
            "gridcolor": "#506784",
            "gridwidth": 2,
            "linecolor": "#506784",
            "showbackground": true,
            "ticks": "",
            "zerolinecolor": "#C8D4E3"
           }
          },
          "shapedefaults": {
           "line": {
            "color": "#f2f5fa"
           }
          },
          "sliderdefaults": {
           "bgcolor": "#C8D4E3",
           "bordercolor": "rgb(17,17,17)",
           "borderwidth": 1,
           "tickwidth": 0
          },
          "ternary": {
           "aaxis": {
            "gridcolor": "#506784",
            "linecolor": "#506784",
            "ticks": ""
           },
           "baxis": {
            "gridcolor": "#506784",
            "linecolor": "#506784",
            "ticks": ""
           },
           "bgcolor": "rgb(17,17,17)",
           "caxis": {
            "gridcolor": "#506784",
            "linecolor": "#506784",
            "ticks": ""
           }
          },
          "title": {
           "x": 0.05
          },
          "updatemenudefaults": {
           "bgcolor": "#506784",
           "borderwidth": 0
          },
          "xaxis": {
           "automargin": true,
           "gridcolor": "#283442",
           "linecolor": "#506784",
           "ticks": "",
           "title": {
            "standoff": 15
           },
           "zerolinecolor": "#283442",
           "zerolinewidth": 2
          },
          "yaxis": {
           "automargin": true,
           "gridcolor": "#283442",
           "linecolor": "#506784",
           "ticks": "",
           "title": {
            "standoff": 15
           },
           "zerolinecolor": "#283442",
           "zerolinewidth": 2
          }
         }
        },
        "title": {
         "text": "test"
        },
        "width": 1400,
        "xaxis": {
         "anchor": "y",
         "domain": [
          0,
          1
         ],
         "title": {
          "text": "Depth configurtation"
         }
        },
        "yaxis": {
         "anchor": "x",
         "domain": [
          0,
          1
         ],
         "title": {
          "text": "Result amount"
         }
        }
       }
      }
     },
     "metadata": {},
     "output_type": "display_data"
    }
   ],
   "source": [
    "fig = px.bar(sum_df, barmode='group', template='plotly_dark')\n",
    "layout = go.Layout(width=1400, height=500,\n",
    "                   title='test',\n",
    "                   yaxis=dict(title='Result amount'),\n",
    "                   xaxis=dict(title='Depth configurtation'))\n",
    "fig.update_layout(layout)\n",
    "fig.show()"
   ]
  }
 ],
 "metadata": {
  "kernelspec": {
   "display_name": "Python 3.10.7 64-bit",
   "language": "python",
   "name": "python3"
  },
  "language_info": {
   "codemirror_mode": {
    "name": "ipython",
    "version": 3
   },
   "file_extension": ".py",
   "mimetype": "text/x-python",
   "name": "python",
   "nbconvert_exporter": "python",
   "pygments_lexer": "ipython3",
   "version": "3.10.7"
  },
  "orig_nbformat": 4,
  "vscode": {
   "interpreter": {
    "hash": "fbf389827ae33fec18fdc4e599d3990b18d4bc31319807cf50234ebf69755d81"
   }
  }
 },
 "nbformat": 4,
 "nbformat_minor": 2
}
