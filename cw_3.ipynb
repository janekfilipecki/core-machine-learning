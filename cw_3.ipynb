{
 "cells": [
  {
   "cell_type": "markdown",
   "metadata": {},
   "source": [
    "# __WSI - ćwiczenie 3.__"
   ]
  },
  {
   "cell_type": "markdown",
   "metadata": {},
   "source": [
    "### __Dwuosobowe gry deterministyczne__\n"
   ]
  },
  {
   "cell_type": "markdown",
   "metadata": {},
   "source": [
    "#### __Treść ćwiczenia__"
   ]
  },
  {
   "cell_type": "markdown",
   "metadata": {},
   "source": [
    "- Celem ćwiczenia jest implementacja algorytmu _min-max_ z przycinaniem $α−β$.\n",
    "Dla różnych ruchów o tej samej jakości, algorytm powinien zwracać losowy z\n",
    "nich.\n",
    "- Następnie należy wykorzystać implementację do porównania jakości dla różnych\n",
    "głębokości przeszukiwania dla gry kółko i krzyżyk na planszy $N\\times N$. W\n",
    "raporcie powinny być umieszczone wyniki turnieju w grę kółko i krzyżyk, w\n",
    "którym biorą udział gracze sterowani algorytmem z różnymi głębokościami przeszukiwania."
   ]
  },
  {
   "cell_type": "markdown",
   "metadata": {},
   "source": [
    "#### __Opis gry__\n"
   ]
  },
  {
   "cell_type": "markdown",
   "metadata": {},
   "source": [
    "_\"Gracze obejmują pola na przemian dążąc do objęcia trzech pól w jednej linii, przy jednoczesnym uniemożliwieniu tego samego przeciwnikowi. Pole może być objęte przez jednego gracza i nie zmienia swego właściciela przez cały przebieg gry.\"_ ~ Wikipedia"
   ]
  },
  {
   "cell_type": "markdown",
   "metadata": {},
   "source": [
    "#### __Implementacja modelu gry__\n"
   ]
  },
  {
   "cell_type": "code",
   "execution_count": 481,
   "metadata": {},
   "outputs": [],
   "source": [
    "import numpy as np\n",
    "from plotly import graph_objs as go\n",
    "from plotly.express.colors import sample_colorscale\n",
    "from plotly.subplots import make_subplots\n",
    "import pandas as pd\n",
    "import math\n",
    "import os\n",
    "from IPython.display import display, Image, Markdown\n",
    "from tabulate import tabulate\n",
    "from enum import Enum\n",
    "import itertools\n",
    "import copy\n",
    "\n",
    "RNG = np.random.default_rng()"
   ]
  },
  {
   "cell_type": "code",
   "execution_count": 482,
   "metadata": {},
   "outputs": [],
   "source": [
    "class BoardOps:\n",
    "\n",
    "    def __init__(self, min_sign: str='O', max_sign: str='X', win_length: int=3) -> None:\n",
    "        self._entry = Enum('ENTRY', ('MIN', 'MAX', 'EMPTY'))\n",
    "        self._min_sign = min_sign\n",
    "        self._max_sign = max_sign\n",
    "        self._win_length = win_length\n",
    "\n",
    "    def get_str(self, board):\n",
    "        str_data = board.copy()\n",
    "        for x in np.ndenumerate(str_data):\n",
    "            if x[1] == self._entry.MIN:\n",
    "                str_data[x[0]] = self._min_sign\n",
    "            elif x[1] == self._entry.MAX:\n",
    "                str_data[x[0]] = self._max_sign\n",
    "            elif x[1] == self._entry.EMPTY:\n",
    "                str_data[x[0]] = ''\n",
    "        return tabulate(str_data, tablefmt='html')\n",
    "\n",
    "    def _get_cell(self, board, x, y):\n",
    "        return board[y, x]\n",
    "\n",
    "    def is_min(self, board, x, y):\n",
    "        if self._get_cell(x, y) == self._entry.MIN:\n",
    "            return True\n",
    "        return False\n",
    "\n",
    "    def is_max(self, board, x, y):\n",
    "        if self._get_cell(board, x, y) == self._entry.MAX:\n",
    "            return True\n",
    "        return False\n",
    "\n",
    "    def is_empty(self, board,  x, y):\n",
    "        if self._get_cell(board, x, y) == self._entry.EMPTY:\n",
    "            return True\n",
    "        return False\n",
    "\n",
    "    def _set_cell(self, board, x, y, input):\n",
    "        board[y, x] = input\n",
    "\n",
    "    def set_min(self, board, x, y):\n",
    "        self._set_cell(board, x, y, self._entry.MIN)\n",
    "\n",
    "    def set_max(self, board, x, y):\n",
    "        self._set_cell(board, x, y, self._entry.MAX)\n",
    "\n",
    "    def set_empty(self, board, x, y):\n",
    "        self._set_cell(board, x, y, self._entry.EMPTY)\n",
    "\n",
    "    def generate_empty_board(self, size_x, size_y):\n",
    "        return np.full((size_y, size_x), self._entry.EMPTY)\n",
    "\n",
    "    def _contains(self, arr, seq):\n",
    "        for i in range(0, len(arr) - len(seq) + 1):\n",
    "            if seq == arr[i:i+len(seq)]:\n",
    "                return True\n",
    "        return False\n",
    "\n",
    "    def _check_state(self, arr):\n",
    "        max_seq = [self._entry.MAX] * self._win_length\n",
    "        min_seq = [self._entry.MIN] * self._win_length\n",
    "        if self._contains(arr, max_seq):\n",
    "            return self._entry.MAX\n",
    "        if self._contains(arr, min_seq):\n",
    "            return self._entry.MIN\n",
    "        return False\n",
    "\n",
    "    def game_over(self, board):\n",
    "        all_sequences = (board.tolist() + \n",
    "                         np.transpose(board).tolist() + \n",
    "                         [board.diagonal(i).tolist() for i in range(-np.shape(board)[0]+1, np.shape(board)[1])] +\n",
    "                         [np.flip(board, axis=1).diagonal(i).tolist() for i in range(-np.shape(board)[0], np.shape(board)[1])])\n",
    "        for seq in all_sequences:\n",
    "            x = self._check_state(seq)\n",
    "            if x:\n",
    "                return x\n",
    "        return False\n",
    "\n",
    "    def get_win_score(self, board):\n",
    "        state = self.game_over(board)\n",
    "        if state == self._entry.MAX:\n",
    "            return 'max'\n",
    "        if state == self._entry.MIN:\n",
    "            return 'min'\n",
    "        else:\n",
    "            return 'draw'\n",
    "\n",
    "    def get_possible_moves(self, board):\n",
    "        moves = []\n",
    "        for y in range(np.shape(board)[0]):\n",
    "            for x in range(np.shape(board)[1]):\n",
    "                if self.is_empty(board, x, y):\n",
    "                    moves.append([x, y])\n",
    "        return moves\n",
    "\n",
    "    def new_on_max(self, board, x, y):\n",
    "        new_board = board.copy()\n",
    "        self.set_max(new_board, x, y)\n",
    "        return new_board\n",
    "\n",
    "    def new_on_min(self, board, x, y):\n",
    "        new_board = board.copy()\n",
    "        self.set_min(new_board, x, y)\n",
    "        return new_board\n",
    "    \n",
    "    def grade(self, board):\n",
    "        return 0\n",
    "\n",
    "    def print(self, board):\n",
    "        display(Markdown(self.get_str(board)))"
   ]
  },
  {
   "cell_type": "code",
   "execution_count": 483,
   "metadata": {},
   "outputs": [],
   "source": [
    "class Game:\n",
    "    \n",
    "    def __init__(self, max_algorithm, min_algorithm, max_player_depth, min_player_depth, board_size: int, win_length: int, first_max_move=True, min_sign: str='O', max_sign: str='X'):\n",
    "        self._board_ops = BoardOps(min_sign, max_sign, win_length)\n",
    "        self._board = self._board_ops.generate_empty_board(board_size, board_size)\n",
    "        self._board_size = board_size\n",
    "        self._win_length = win_length\n",
    "        self._max_move = first_max_move\n",
    "        self._max_player_depth = max_player_depth\n",
    "        self._min_player_depth = min_player_depth\n",
    "        self._min_algorithm = min_algorithm\n",
    "        self._max_algorithm = max_algorithm\n",
    "\n",
    "    def is_max_move(self):\n",
    "        if self._max_move:\n",
    "            return True\n",
    "        return False\n",
    "    \n",
    "    def change_turn(self):\n",
    "        self._max_move = not self._max_move\n",
    "\n",
    "    def reset(self):\n",
    "        self.board = self._board_ops.generate_empty_board(self._board_size, self._board_size)\n",
    "\n",
    "    def make_move(self):\n",
    "        if self.is_max_move():\n",
    "            self._board_ops.set_max(self._board, *self._max_algorithm(self._board, \n",
    "                                                              True, \n",
    "                                                              self._board_ops, \n",
    "                                                              self._max_player_depth))\n",
    "        else:\n",
    "            self._board_ops.set_min(self._board, *self._min_algorithm(self._board, \n",
    "                                                              False, \n",
    "                                                              self._board_ops, \n",
    "                                                              self._min_player_depth))\n",
    "        self.change_turn()\n",
    "\n",
    "    def print_board(self):\n",
    "        self._board_ops.print(self._board)\n",
    "\n",
    "    def run(self):\n",
    "        while not self._board_ops.game_over(self._board) and \\\n",
    "              self._board_ops.get_possible_moves(self._board):\n",
    "            self.make_move()\n",
    "        return self._board_ops.get_win_score(self._board)"
   ]
  },
  {
   "cell_type": "markdown",
   "metadata": {},
   "source": [
    "#### __Algorytm min-max__"
   ]
  },
  {
   "cell_type": "code",
   "execution_count": 484,
   "metadata": {},
   "outputs": [],
   "source": [
    "def min_max_full(board, max_move, board_ops: BoardOps, max_depth=3, payout=math.inf):\n",
    "\n",
    "    def recurr(board, max_move, depth):\n",
    "        if board_ops.game_over(board):\n",
    "            if max_move:\n",
    "                return -payout\n",
    "            return payout\n",
    "        possible_moves = board_ops.get_possible_moves(board)\n",
    "        if not possible_moves:\n",
    "            return 0\n",
    "        if depth >= max_depth:\n",
    "            return board_ops.grade(board)\n",
    "        if max_move:\n",
    "            return max([recurr(board_ops.new_on_max(board, *next_move), not max_move, depth + 1) for next_move in possible_moves])\n",
    "        return min([recurr(board_ops.new_on_min(board, *next_move), not max_move, depth + 1) for next_move in possible_moves])\n",
    "\n",
    "    depth = 0\n",
    "    possible_moves = board_ops.get_possible_moves(board)\n",
    "    if max_move:\n",
    "        move_grade_pairs = [(move, recurr(board_ops.new_on_max(board, *move), not max_move, depth + 1)) for move in possible_moves]\n",
    "        maxes = [pair[0] for pair in move_grade_pairs if pair[1] == max(move_grade_pairs, key=lambda x: x[1])[1]]\n",
    "        return RNG.choice(maxes)\n",
    "\n",
    "    move_grade_pairs = [(move, recurr(board_ops.new_on_min(board, *move), not max_move, depth + 1)) for move in possible_moves]\n",
    "    mins= [pair[0] for pair in move_grade_pairs if pair[1] == min(move_grade_pairs, key=lambda x: x[1])[1]]\n",
    "    return RNG.choice(mins)\n",
    "\n",
    "def min_max_a_b(board, max_move, board_ops: BoardOps, max_depth=3, payout=math.inf):\n",
    "\n",
    "    def recurr(board, max_move, depth, alfa, beta):\n",
    "        a = alfa\n",
    "        b = beta\n",
    "        if board_ops.game_over(board):\n",
    "            if max_move:\n",
    "                return -payout\n",
    "            return payout\n",
    "        possible_moves = board_ops.get_possible_moves(board)\n",
    "        if not possible_moves:\n",
    "            return 0\n",
    "        if depth >= max_depth:\n",
    "            return board_ops.grade(board)\n",
    "        if max_move:\n",
    "            for move in possible_moves:\n",
    "                a = max(a ,recurr(board_ops.new_on_max(board, *move), not max_move, depth + 1, a, b))\n",
    "                if a >= b:\n",
    "                    return b\n",
    "        for move in possible_moves:\n",
    "            b = min(b ,recurr(board_ops.new_on_max(board, *move), not max_move, depth + 1, a, b))\n",
    "            if b >= a:\n",
    "                return a\n",
    "\n",
    "    alfa = -math.inf\n",
    "    beta = math.inf\n",
    "    depth = 0\n",
    "    possible_moves = board_ops.get_possible_moves(board)\n",
    "    if max_move:\n",
    "        move_grade_pairs = [(move, recurr(board_ops.new_on_max(board, *move), not max_move, depth + 1, alfa, beta)) for move in possible_moves]\n",
    "        maxes = [pair[0] for pair in move_grade_pairs if pair[1] == max(move_grade_pairs, key=lambda x: x[1])[1]]\n",
    "        return RNG.choice(maxes)\n",
    "\n",
    "    move_grade_pairs = [(move, recurr(board_ops.new_on_min(board, *move), not max_move, depth + 1, alfa, beta)) for move in possible_moves]\n",
    "    mins= [pair[0] for pair in move_grade_pairs if pair[1] == min(move_grade_pairs, key=lambda x: x[1])[1]]\n",
    "    return RNG.choice(mins)"
   ]
  },
  {
   "cell_type": "code",
   "execution_count": 485,
   "metadata": {},
   "outputs": [
    {
     "name": "stdout",
     "output_type": "stream",
     "text": [
      "min\n"
     ]
    }
   ],
   "source": [
    "game = Game(min_max_a_b, min_max_a_b, 5, 2, 5, 3)\n",
    "result = game.run()\n",
    "print(result)"
   ]
  }
 ],
 "metadata": {
  "kernelspec": {
   "display_name": "Python 3.10.7 64-bit",
   "language": "python",
   "name": "python3"
  },
  "language_info": {
   "codemirror_mode": {
    "name": "ipython",
    "version": 3
   },
   "file_extension": ".py",
   "mimetype": "text/x-python",
   "name": "python",
   "nbconvert_exporter": "python",
   "pygments_lexer": "ipython3",
   "version": "3.10.7"
  },
  "orig_nbformat": 4,
  "vscode": {
   "interpreter": {
    "hash": "fbf389827ae33fec18fdc4e599d3990b18d4bc31319807cf50234ebf69755d81"
   }
  }
 },
 "nbformat": 4,
 "nbformat_minor": 2
}
